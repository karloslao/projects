{
  "cells": [
    {
      "cell_type": "markdown",
      "metadata": {
        "id": "L5pu20JPbp1p"
      },
      "source": [
        "### Set Up Packages and Authorize Access to GEE and Google Drive"
      ]
    },
    {
      "cell_type": "code",
      "execution_count": null,
      "metadata": {
        "colab": {
          "base_uri": "https://localhost:8080/"
        },
        "id": "luUB_vjtCFqd",
        "outputId": "64a11dc3-b713-47c8-ab7d-933bb6419ecd"
      },
      "outputs": [
        {
          "name": "stdout",
          "output_type": "stream",
          "text": [
            "Successfully imported ee\n",
            "Successfully imported itertools\n",
            "jenkspy is not installed. Attempting to install it...\n",
            "Successfully imported jenkspy\n",
            "To authorize access needed by Earth Engine, open the following URL in a web browser and follow the instructions. If the web browser does not start automatically, please manually browse the URL below.\n",
            "\n",
            "    https://code.earthengine.google.com/client-auth?scopes=https%3A//www.googleapis.com/auth/earthengine%20https%3A//www.googleapis.com/auth/devstorage.full_control&request_id=pxi_peD5bLv4d6QaRvIzRUf7QMtDYzxem0sLxaHpcRk&tc=7GKB3LUjkLdLokso8wzfPMDDxBQqCX8BN2bAf6dCQZI&cc=M0dfcDzf-zunptiPhQiMf1jci9DoWu71yWGr8PLu3Ds\n",
            "\n",
            "The authorization workflow will generate a code, which you should paste in the box below.\n",
            "Enter verification code: 4/1AfJohXlNXpZKsgQQma172GdaYxJLRdMEZviDqzR3KvCAaj12VC_7ThSOPh0\n",
            "\n",
            "Successfully saved authorization token.\n",
            "Mounted at /content/drive\n"
          ]
        }
      ],
      "source": [
        "import importlib\n",
        "import subprocess\n",
        "\n",
        "# The list of libraries required\n",
        "libraries = [\"ee\", \"itertools\", \"jenkspy\"]\n",
        "\n",
        "# Automatically import/install the libraries\n",
        "for i in libraries:\n",
        "    try:\n",
        "        library = importlib.import_module(i)\n",
        "        print(f\"Successfully imported {i}\")\n",
        "    except ImportError:\n",
        "        print(f\"{i} is not installed. Attempting to install it...\")\n",
        "        subprocess.check_call([\"pip\", \"install\", i])\n",
        "\n",
        "        try:\n",
        "            library = importlib.import_module(i)\n",
        "            print(f\"Successfully imported {i}\")\n",
        "        except ImportError:\n",
        "            print(f\"Failed to install and import {i}. Please install it manually.\")\n",
        "\n",
        "# Initialize GEE's Python API\n",
        "import ee\n",
        "ee.Authenticate()\n",
        "ee.Initialize()\n",
        "\n",
        "# Authorize access to Google Drive (for exporting data)\n",
        "from google.colab import drive\n",
        "drive.mount('/content/drive')"
      ]
    },
    {
      "cell_type": "markdown",
      "metadata": {
        "id": "JGkQQ63FzNuE"
      },
      "source": [
        "### Specify the GRES ID of the Reservoir(s) to be processed"
      ]
    },
    {
      "cell_type": "code",
      "execution_count": null,
      "metadata": {
        "colab": {
          "base_uri": "https://localhost:8080/"
        },
        "id": "QXwOIwi7zUtq",
        "outputId": "386ac277-0cec-456d-ac27-b2e5f232f536"
      },
      "outputs": [
        {
          "name": "stdout",
          "output_type": "stream",
          "text": [
            "Operation is completed. Check your export tasks on GEE's Task Manager\n"
          ]
        }
      ],
      "source": [
        "# Enter the list of GRES_ID you want to export the raster only (no max/min water polygons)\n",
        "GRES_ID = [122]\n",
        "\n",
        "# Where to export the raster on Google Drive?\n",
        "RasterFolder = \"Reservoir_Raster\"\n",
        "\n",
        "# Where to grab the ee.Image (pre-processed raster exported from Script 1)?\n",
        "Asset_Folder_Path= 'projects/ee-climatechangehydrology/assets/GRes_ProbabilityRaster/'\n",
        "\n",
        "# Start the export with looping\n",
        "for id in GRES_ID:\n",
        "  try:\n",
        "    # Get the pre-processed probability raster (ee.Image)\n",
        "    ProbabilityRaster = ee.Image(Asset_Folder_Path + 'GRES_' + str(id))\n",
        "    # Re-scale the image with a min/max stretch (min: 0, max: 1)\n",
        "    Image_MinMax = ProbabilityRaster.reduceRegion(\n",
        "        reducer=ee.Reducer.minMax(),\n",
        "        geometry= ProbabilityRaster.geometry(),\n",
        "        scale=10,\n",
        "        maxPixels= 1e13,\n",
        "        tileScale = 16\n",
        "    )\n",
        "    min = Image_MinMax.getNumber('probability_min')\n",
        "    max = Image_MinMax.getNumber('probability_max')\n",
        "    norm_prob_ras = ProbabilityRaster.select('probability').unitScale(min,max)\n",
        "\n",
        "    # Initiate export tasks\n",
        "    Export_ProbailityRaster = ee.batch.Export.image.toDrive(\n",
        "        image = norm_prob_ras,\n",
        "        region = norm_prob_ras.geometry(),\n",
        "        folder = RasterFolder,\n",
        "        description = 'GRES_' + str(id) + '_GeoTIFF',\n",
        "        fileFormat = 'GeoTIFF',\n",
        "        scale = 10,\n",
        "        maxPixels = 1e13\n",
        "    )\n",
        "\n",
        "    Export_ProbailityRaster.start()\n",
        "\n",
        "  except Exception as e:\n",
        "    print(f\"Operation Failed on GRES_ID: {id}. Please check your input.\")\n",
        "\n",
        "# Print when execution completes\n",
        "print(\"Operation is completed.\")"
      ]
    }
  ],
  "metadata": {
    "colab": {
      "provenance": []
    },
    "kernelspec": {
      "display_name": "Python 3",
      "name": "python3"
    },
    "language_info": {
      "name": "python"
    }
  },
  "nbformat": 4,
  "nbformat_minor": 0
}
