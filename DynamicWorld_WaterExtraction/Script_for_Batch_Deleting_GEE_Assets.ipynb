{
  "cells": [
    {
      "cell_type": "markdown",
      "metadata": {
        "id": "2fMr4t2jXzh3"
      },
      "source": [
        "### Initialize GEE and Authorize Access"
      ]
    },
    {
      "cell_type": "code",
      "execution_count": null,
      "metadata": {
        "colab": {
          "base_uri": "https://localhost:8080/"
        },
        "id": "Oua92cROVhrY",
        "outputId": "9043acd7-84b8-47cf-e75e-cb2ff73609aa"
      },
      "outputs": [
        {
          "name": "stdout",
          "output_type": "stream",
          "text": [
            "To authorize access needed by Earth Engine, open the following URL in a web browser and follow the instructions. If the web browser does not start automatically, please manually browse the URL below.\n",
            "\n",
            "    https://code.earthengine.google.com/client-auth?scopes=https%3A//www.googleapis.com/auth/earthengine%20https%3A//www.googleapis.com/auth/devstorage.full_control&request_id=QHY2bBwoT4HAO9s-DPENc6FNpnZaYPUz3F4O_2ZPRe8&tc=VE4Qpb11fHLmYdeNAFbgwF3TiZLSIU8BL7IrmLA8I34&cc=3a43_6Kr0pTWjIaJs1z5X9kSnUpmb0idYLL2A0G3N9Q\n",
            "\n",
            "The authorization workflow will generate a code, which you should paste in the box below.\n",
            "Enter verification code: 4/1AfJohXnFiJK677AYUJUJ2RPHBGMpnXQXijmRUOe1kAxDWOXhg1d6822uZWk\n",
            "\n",
            "Successfully saved authorization token.\n"
          ]
        }
      ],
      "source": [
        "import ee\n",
        "ee.Authenticate()\n",
        "ee.Initialize()"
      ]
    },
    {
      "cell_type": "markdown",
      "metadata": {
        "id": "RskYwNo2X689"
      },
      "source": [
        "### Specify the GRES_ID You Want to Remove"
      ]
    },
    {
      "cell_type": "code",
      "execution_count": null,
      "metadata": {
        "id": "yj1tXfl9X7Y0"
      },
      "outputs": [],
      "source": [
        "GRES_ID = [1,10,100]"
      ]
    },
    {
      "cell_type": "markdown",
      "metadata": {
        "id": "y5o9vcebYM0r"
      },
      "source": [
        "### Initiate the Delete Process"
      ]
    },
    {
      "cell_type": "code",
      "execution_count": null,
      "metadata": {
        "colab": {
          "base_uri": "https://localhost:8080/"
        },
        "id": "UuQhkvfKWDRn",
        "outputId": "89fda4b2-690f-41d0-d9c3-6fd725349c19"
      },
      "outputs": [
        {
          "name": "stdout",
          "output_type": "stream",
          "text": [
            "Deleted asset: projects/ee-climatechangehydrology/assets/GRes_ProbabilityRaster/GRES_1\n",
            "Deleted asset: projects/ee-climatechangehydrology/assets/GRes_ProbabilityRaster/GRES_229\n",
            "Deleted asset: projects/ee-climatechangehydrology/assets/GRes_ProbabilityRaster/GRES_121\n"
          ]
        }
      ],
      "source": [
        "\"\"\"\n",
        "This module takes in the list of IDs that match the \"GRES_ID\" field\n",
        "within the \"GRes_Polys\" feature collection on GEE, locate their paths,\n",
        "and remove them from your assets.\n",
        "\"\"\"\n",
        "\n",
        "AssetDirectory = 'projects/ee-climatechangehydrology/assets/GRes_ProbabilityRaster/'\n",
        "\n",
        "for id in GRES_ID:\n",
        "    asset_to_delete = AssetDirectory + 'GRES_' + str(id)\n",
        "\n",
        "    try:\n",
        "        ee.data.deleteAsset(asset_to_delete)\n",
        "        print(f\"Deleted asset: {asset_to_delete}\")\n",
        "    except Exception as e:\n",
        "        print(f\"Failed to delete asset {asset_to_delete}: {str(e)}. Please delete manually.\")"
      ]
    }
  ],
  "metadata": {
    "colab": {
      "provenance": []
    },
    "kernelspec": {
      "display_name": "Python 3",
      "name": "python3"
    },
    "language_info": {
      "name": "python"
    }
  },
  "nbformat": 4,
  "nbformat_minor": 0
}
