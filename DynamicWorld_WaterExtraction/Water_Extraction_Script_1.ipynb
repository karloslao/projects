{
  "cells": [
    {
      "cell_type": "markdown",
      "metadata": {
        "id": "uoW3fLnqHak7"
      },
      "source": [
        "### Initialize GEE\n"
      ]
    },
    {
      "cell_type": "code",
      "execution_count": null,
      "metadata": {
        "colab": {
          "base_uri": "https://localhost:8080/"
        },
        "id": "086GdOOXHh4e",
        "outputId": "6a0dec17-5987-447c-c83c-a4e5193e1523"
      },
      "outputs": [
        {
          "name": "stdout",
          "output_type": "stream",
          "text": [
            "To authorize access needed by Earth Engine, open the following URL in a web browser and follow the instructions. If the web browser does not start automatically, please manually browse the URL below.\n",
            "\n",
            "    https://code.earthengine.google.com/client-auth?scopes=https%3A//www.googleapis.com/auth/earthengine%20https%3A//www.googleapis.com/auth/devstorage.full_control&request_id=AJHYg1WRIFns_724r5IxgYEzMVCt58yzm26aVX-xoZc&tc=SAqmppcba6BQK_odQXmWvtXZenJmcjw49fZi1VRlh04&cc=FQu831u3kBQMqfTtgGxX_qRDTRNtfnUVAj7XRb6_yn4\n",
            "\n",
            "The authorization workflow will generate a code, which you should paste in the box below.\n",
            "Enter verification code: 4/1AfJohXnEjAaBjAVJ5lk04GCLD63GU2cqvSk3fOLvZZFhvwCwCqSUHV1dasQ\n",
            "\n",
            "Successfully saved authorization token.\n"
          ]
        }
      ],
      "source": [
        "import ee\n",
        "ee.Authenticate()\n",
        "ee.Initialize()"
      ]
    },
    {
      "cell_type": "markdown",
      "metadata": {
        "id": "97ngWFnFpry_"
      },
      "source": [
        "### Input Parameters (customizable)"
      ]
    },
    {
      "cell_type": "code",
      "execution_count": null,
      "metadata": {
        "id": "RFoYn6LsprKW"
      },
      "outputs": [],
      "source": [
        "GRES_ID = [127,34]\n",
        "\n",
        "# Set buffer size for the input polygon to control the image processing extent\n",
        "buffer_size = 250\n",
        "\n",
        "# Specify the polygon data source\n",
        "GRes_polys = ee.FeatureCollection('projects/ee-climatechangehydrology1/assets/GRes_Polys')\n",
        "\n",
        "# Specify where to save the image composite as an GEE Asset\n",
        "AssetDirectory = 'projects/ee-climatechangehydrology/assets/GRes_ProbabilityRaster/'\n",
        "\n",
        "# Specify where to save the image composite as a GEOTIFF on Google Drive\n",
        "Folder = 'GRes_Raster_Raw'\n",
        "\n",
        "# Specify the dates for image collection\n",
        "Yr2015 =  ee.Filter.date('2015-06-01', '2015-09-01')\n",
        "Yr2016 =  ee.Filter.date('2016-06-01', '2016-09-01')\n",
        "Yr2017 =  ee.Filter.date('2017-06-01', '2017-09-01')\n",
        "Yr2018 =  ee.Filter.date('2018-06-01', '2018-09-01')\n",
        "Yr2019 =  ee.Filter.date('2019-06-01', '2019-09-01')\n",
        "Yr2020 =  ee.Filter.date('2020-06-01', '2020-09-01')\n",
        "Yr2021 =  ee.Filter.date('2021-06-01', '2021-09-01')\n",
        "Yr2022 =  ee.Filter.date('2022-06-01', '2022-09-01')\n",
        "Yr2023 =  ee.Filter.date('2023-06-01', '2023-09-01')\n",
        "\n",
        "# Combine these dates into a single time filter\n",
        "TimeFilter = ee.Filter.Or(\n",
        "    Yr2015, Yr2016, Yr2017,Yr2018,Yr2019,Yr2020,Yr2021,Yr2022\n",
        ")\n",
        "\n",
        "# For very large reservoirs, export them directly as raster for processing\n",
        "# on ArcGIS Pro, use \"GeoTIFF\"\n",
        "\n",
        "# Whether to export the result as GEE Asset (ee.Image) or GeoTIFF?\n",
        "############################################################################\n",
        "# ********* Enter your options: 'Asset' or 'GeoTIFF' ***********************\n",
        "############################################################################\n",
        "# Note: large image composite might have issues exporting as GEE Asset,\n",
        "#       if that happens, try export as GeoTIFF, then manually upload to GEE\n",
        "#       as an asset.\n",
        "\n",
        "ExportFormat = 'GeoTIFF'"
      ]
    },
    {
      "cell_type": "markdown",
      "metadata": {
        "id": "7aa9upNwkgeK"
      },
      "source": [
        "### Initiate the Batch Export Process"
      ]
    },
    {
      "cell_type": "code",
      "execution_count": null,
      "metadata": {
        "colab": {
          "base_uri": "https://localhost:8080/"
        },
        "id": "GlB6zyrRkgv9",
        "outputId": "c14b4289-e2a6-4492-f7a7-00280ec35e43"
      },
      "outputs": [
        {
          "name": "stdout",
          "output_type": "stream",
          "text": [
            "Operation Successful on GRES_ID: 127.\n",
            "Operation Successful on GRES_ID: 34.\n",
            "If the operation is successful, the task will be submitted to GEE's Task Manager\n"
          ]
        }
      ],
      "source": [
        "for id in GRES_ID:\n",
        "  try:\n",
        "    # A polygon input is needed to set image process extent\n",
        "    aoi = GRes_polys.filter(ee.Filter.eq('GRES_ID', id))\n",
        "\n",
        "    # Create a buffer on the input polygon capture more areas beyond what's given\n",
        "    aoi_buff = (aoi.geometry()).buffer(buffer_size)\n",
        "    aoi_buff = ee.Feature(aoi_buff)\n",
        "\n",
        "    # Set up a function to clip the selected images within the buffer\n",
        "    clip_to_aoi_buff = lambda imagecollection: imagecollection.clip(aoi_buff)\n",
        "\n",
        "    # Create an image composite from GEE Dataset \"Dynamic World\"\n",
        "    # based on the given dates and geometry;\n",
        "    # Merge the image collection into an ee.Image using the .mean() aggregation function;\n",
        "    # .mean() enables filtering noises and misclassifications in later steps;\n",
        "    # .mean() is better than .median() because we want the extreme values to stand out;\n",
        "    # The quality of the image composite improves with the number of images acquired (i.e. wider date range);\n",
        "\n",
        "    raw_prob_raster = (ee.ImageCollection('GOOGLE/DYNAMICWORLD/V1')\n",
        "      .filter(TimeFilter)\n",
        "      .filterBounds(aoi)\n",
        "      .map(clip_to_aoi_buff)\n",
        "      .mean()\n",
        "      .select('water')\n",
        "      .rename('probability')\n",
        "    )\n",
        "\n",
        "    # Prep the export tasks\n",
        "    export_to_asset = ee.batch.Export.image.toAsset(\n",
        "      image = raw_prob_raster,\n",
        "      description = 'GRES_' + str(id) + '_Image',\n",
        "      assetId = AssetDirectory + 'GRES_' + str(id),\n",
        "      region = aoi_buff.geometry(),\n",
        "      scale=10,\n",
        "      maxPixels=1e13\n",
        "    )\n",
        "\n",
        "    export_to_drive = ee.batch.Export.image.toDrive(\n",
        "        image = raw_prob_raster,\n",
        "        region = aoi_buff.geometry(),\n",
        "        folder=Folder,\n",
        "        description= 'GRES_' + str(id) + '_Image',\n",
        "        fileFormat='GeoTIFF',\n",
        "        scale=10, maxPixels=1e13\n",
        "    )\n",
        "\n",
        "    if ExportFormat == \"Asset\":\n",
        "      # Start the task\n",
        "      export_to_asset.start()\n",
        "\n",
        "    elif ExportFormat == 'GeoTIFF':\n",
        "      # Start the task\n",
        "      export_to_drive.start()\n",
        "\n",
        "    print(f\"Operation Successful on GRES_ID: {id}.\")\n",
        "\n",
        "  except Exception as e:\n",
        "    print(f\"Operation Failed on GRES_ID: {id}. Please check your input and parameters.\")\n",
        "\n",
        "\n",
        "print (\"If the operation is successful, the task will be submitted to GEE's Task Manager\")"
      ]
    }
  ],
  "metadata": {
    "colab": {
      "provenance": []
    },
    "kernelspec": {
      "display_name": "Python 3",
      "name": "python3"
    },
    "language_info": {
      "name": "python"
    }
  },
  "nbformat": 4,
  "nbformat_minor": 0
}
