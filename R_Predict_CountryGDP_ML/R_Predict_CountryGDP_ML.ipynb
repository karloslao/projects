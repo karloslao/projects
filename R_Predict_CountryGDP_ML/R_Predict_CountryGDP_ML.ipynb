{
 "cells": [
  {
   "cell_type": "markdown",
   "metadata": {},
   "source": [
    "**Author**: Karlos Lao\n",
    "\n",
    "**Last Revision Date**: Nov 15, 2023\n",
    "\n",
    "**Description**: This project aims to build a model that predicts country GDP per capita values as either \"High\" or \"Low\", using a selection of predictor variables in the \"world\" dataset.\n",
    "\n",
    "**Data Source**: World95: U.N. Demographic Data, 1995."
   ]
  },
  {
   "cell_type": "code",
   "execution_count": 5,
   "metadata": {
    "vscode": {
     "languageId": "r"
    }
   },
   "outputs": [],
   "source": [
    "# If not install, use install.packages(\"sf\")\n",
    "library(tidyverse)\n",
    "suppressWarnings(library(tidyverse))\n",
    "library(dplyr)\n",
    "# for reading shapefiles\n",
    "library(sf)\n",
    "# for ML algorithms\n",
    "library(caret)\n",
    "library(likert)\n",
    "library(grid)\n",
    "library(gridExtra)\n",
    "\n",
    "library(ggpubr)\n",
    "# for logistic regression\n",
    "library(glmnet)\n",
    "# for correlation matrix\n",
    "library(ggcorrplot)\n"
   ]
  },
  {
   "cell_type": "markdown",
   "metadata": {},
   "source": [
    "**Data Preparation**"
   ]
  },
  {
   "cell_type": "code",
   "execution_count": 3,
   "metadata": {
    "vscode": {
     "languageId": "r"
    }
   },
   "outputs": [
    {
     "name": "stdout",
     "output_type": "stream",
     "text": [
      "[1] \"c:/Users/kailo/Desktop/R_Predict_CountryGDP_ML\"\n"
     ]
    }
   ],
   "source": [
    "# Get current working directory\n",
    "print(getwd())"
   ]
  },
  {
   "cell_type": "code",
   "execution_count": 7,
   "metadata": {
    "vscode": {
     "languageId": "r"
    }
   },
   "outputs": [
    {
     "name": "stdout",
     "output_type": "stream",
     "text": [
      "Reading layer `world' from data source \n",
      "  `C:\\Users\\kailo\\Desktop\\R_Predict_CountryGDP_ML\\world.shp' \n",
      "  using driver `ESRI Shapefile'\n",
      "Simple feature collection with 108 features and 26 fields\n",
      "Geometry type: MULTIPOLYGON\n",
      "Dimension:     XY\n",
      "Bounding box:  xmin: -15679260 ymin: -6224955 xmax: 15351770 ymax: 9252194\n",
      "Projected CRS: World_Winkel_II\n",
      "'data.frame':\t108 obs. of  27 variables:\n",
      " $ ISO_3DIGIT  : chr  \"AFG\" \"AZE\" \"ARM\" \"ARG\" ...\n",
      " $ CNTRY_NAME  : chr  \"Afghanistan\" \"Azerbaijan\" \"Armenia\" \"Argentina\" ...\n",
      " $ POP_CNTRY   : num  17250390 5487866 3377228 33796870 17827520 ...\n",
      " $ SQKM_CNTRY  : num  641869 85808 29872 2781013 7706142 ...\n",
      " $ LANDLOCKED  : chr  \"Y\" \"Y\" \"Y\" \"N\" ...\n",
      " $ RELIGION    : chr  \"Muslim\" \"Muslim\" \"Orthodox\" \"Catholic\" ...\n",
      " $ REGION      : num  3 5 5 6 1 1 5 6 4 1 ...\n",
      " $ CLIMATE     : int  3 3 0 8 3 8 3 5 4 8 ...\n",
      " $ POPULATN    : int  20500 7400 3700 33900 17800 8000 600 256 1359 10100 ...\n",
      " $ URBAN       : int  18 54 68 86 85 58 83 45 25 96 ...\n",
      " $ LIFEEXPF    : int  44 75 75 75 80 79 74 78 66 79 ...\n",
      " $ LIFEEXPM    : int  45 67 68 68 74 73 71 73 60 73 ...\n",
      " $ LITERACY    : int  29 98 98 95 100 99 77 99 72 99 ...\n",
      " $ POP_INCR    : num  2.8 1.4 1.4 1.3 1.4 0.2 2.4 0.2 2.7 0.2 ...\n",
      " $ BABYMORT    : num  168 35 27 25.6 7.3 6.7 25 20.3 39.3 7.2 ...\n",
      " $ GDP_CAP     : int  205 3000 5000 3408 16848 18396 7875 6950 2677 17912 ...\n",
      " $ CALORIES    : int  0 0 0 3113 3216 3495 0 0 2375 0 ...\n",
      " $ AIDS        : int  0 0 2 3904 4727 1150 13 418 1415 1603 ...\n",
      " $ BIRTH_RT    : num  53 23 23 20 15 12 29 16 32 12 ...\n",
      " $ DEATH_RT    : int  22 7 6 9 8 11 4 8 8 11 ...\n",
      " $ AIDS_RT     : num  0 0 0.05 11.52 26.56 ...\n",
      " $ B_TO_D      : num  2.41 3.29 3.83 2.22 1.88 1.09 7.25 1.9 4 1.09 ...\n",
      " $ FERTILTY    : num  6.9 2.8 3.2 2.8 1.9 1.5 4 1.8 5.1 1.7 ...\n",
      " $ LIT_MALE    : int  44 100 100 96 100 0 55 99 32 0 ...\n",
      " $ LIT_FEMA    : int  14 100 100 95 100 0 55 99 16 0 ...\n",
      " $ UNIQUE      : int  1 2 3 4 5 6 7 8 9 10 ...\n",
      " $ GDP_High_Low: chr  \"Low\" \"High\" \"High\" \"High\" ...\n"
     ]
    }
   ],
   "source": [
    "# Load Data from a shapefile\n",
    "data <- st_read(\"world.shp\")\n",
    "\n",
    "# Generate a new variable named 'GDP_High_low'\n",
    "# This variable categorizes countries based on the 'GDP_CAP' values. \n",
    "# Countries with 'GDP_CAP' values >= the median are labeled as 'High', \n",
    "# and those < median are labeled as 'Low'. \n",
    "# This variable will serve as the target variable.\"\n",
    "\n",
    "data <- data %>%\n",
    "  mutate(GDP_High_Low = ifelse(GDP_CAP >= median(GDP_CAP), \"High\", \"Low\"))\n",
    "\n",
    "# Drop the 'geometry' column because we don't need it\n",
    "data <- st_drop_geometry(data)\n",
    "# Quickly inspect the data types\n",
    "str(data)"
   ]
  },
  {
   "cell_type": "code",
   "execution_count": 8,
   "metadata": {
    "vscode": {
     "languageId": "r"
    }
   },
   "outputs": [],
   "source": [
    "# There's no DENSITY variable in the dataset\n",
    "# We need to create the pop.density variable (population per sqkm)\n",
    "data$DENSITY <- data$POP_CNTRY / data$SQKM_CNTRY\n",
    "\n",
    "# subset the dataset with the selected predictor variables\n",
    "data_sub <- data %>% \n",
    "  select(\"DENSITY\", \"URBAN\", \"LIFEEXPF\", \"LIFEEXPM\", \"LITERACY\", \"BIRTH_RT\",\n",
    "         \"DEATH_RT\", \"FERTILTY\", \"POP_INCR\", \"BABYMORT\", \"GDP_High_Low\")\n",
    "\n",
    "\n",
    "# drop observations/ remove countries with missing data (0 = NoData in this case)\n",
    "data_filtered <- data_sub %>%\n",
    "  drop_na() %>%\n",
    "  filter(`DENSITY` != 0, `URBAN`!=0, `LIFEEXPF`!=0, `LIFEEXPM`!=0, `LITERACY`!=0, \n",
    "         `BIRTH_RT`!=0, `DEATH_RT`!=0, `FERTILTY`!=0, `POP_INCR`!=0, `BABYMORT`!=0,)"
   ]
  },
  {
   "cell_type": "markdown",
   "metadata": {},
   "source": [
    "**Data Transformation**"
   ]
  },
  {
   "cell_type": "code",
   "execution_count": 9,
   "metadata": {
    "vscode": {
     "languageId": "r"
    }
   },
   "outputs": [
    {
     "name": "stdout",
     "output_type": "stream",
     "text": [
      "'data.frame':\t103 obs. of  11 variables:\n",
      " $ GDP_High_Low   : Factor w/ 2 levels \"High\",\"Low\": 2 1 1 1 1 1 1 1 2 1 ...\n",
      " $ scaled_DENSITY : num  -0.2541 -0.1854 -0.0944 -0.2814 -0.2996 ...\n",
      " $ scaled_URBAN   : num  -1.611 -0.104 0.481 1.234 1.193 ...\n",
      " $ scaled_LIFEEXPF: num  -2.403 0.488 0.488 0.488 0.954 ...\n",
      " $ scaled_LIFEEXPM: num  -2.084 0.262 0.369 0.369 1.008 ...\n",
      " $ scaled_LITERACY: num  -2.11 0.861 0.861 0.732 0.947 ...\n",
      " $ scaled_BIRTH_RT: num  2.154 -0.27 -0.27 -0.512 -0.916 ...\n",
      " $ scaled_DEATH_RT: num  2.874 -0.625 -0.858 -0.159 -0.392 ...\n",
      " $ scaled_FERTILTY: num  1.752 -0.418 -0.207 -0.418 -0.895 ...\n",
      " $ scaled_POP_INCR: num  0.909 -0.272 -0.272 -0.356 -0.272 ...\n",
      " $ scaled_BABYMORT: num  3.227 -0.234 -0.443 -0.479 -0.955 ...\n"
     ]
    }
   ],
   "source": [
    "# Normalize the data with an z-score transformation\n",
    "\n",
    "\n",
    "data_z <- data_filtered %>%\n",
    "  # columns to be scaled are 1:10, \n",
    "  mutate(across(.cols = 1:10, ~ as.vector(scale(.)), .names = \"scaled_{.col}\")) %>%\n",
    "  select(c(11,12:21))\n",
    "\n",
    "# convert \"GDP_High_Low from string to factor type\n",
    "data_z$GDP_High_Low <- as.factor(data_z$GDP_High_Low)\n",
    "\n",
    "# check the result\n",
    "str(data_z)"
   ]
  },
  {
   "cell_type": "markdown",
   "metadata": {},
   "source": [
    "**Check Data Distribution After Transformation**"
   ]
  },
  {
   "cell_type": "code",
   "execution_count": 10,
   "metadata": {
    "vscode": {
     "languageId": "r"
    }
   },
   "outputs": [
    {
     "data": {
      "text/html": [
       "<style>\n",
       ".dl-inline {width: auto; margin:0; padding: 0}\n",
       ".dl-inline>dt, .dl-inline>dd {float: none; width: auto; display: inline-block}\n",
       ".dl-inline>dt::after {content: \":\\0020\"; padding-right: .5ex}\n",
       ".dl-inline>dt:not(:first-of-type) {padding-left: .5ex}\n",
       "</style><dl class=dl-inline><dt>High</dt><dd>50</dd><dt>Low</dt><dd>53</dd></dl>\n"
      ],
      "text/latex": [
       "\\begin{description*}\n",
       "\\item[High] 50\n",
       "\\item[Low] 53\n",
       "\\end{description*}\n"
      ],
      "text/markdown": [
       "High\n",
       ":   50Low\n",
       ":   53\n",
       "\n"
      ],
      "text/plain": [
       "High  Low \n",
       "  50   53 "
      ]
     },
     "metadata": {},
     "output_type": "display_data"
    },
    {
     "data": {
      "text/html": [
       "<style>\n",
       ".dl-inline {width: auto; margin:0; padding: 0}\n",
       ".dl-inline>dt, .dl-inline>dd {float: none; width: auto; display: inline-block}\n",
       ".dl-inline>dt::after {content: \":\\0020\"; padding-right: .5ex}\n",
       ".dl-inline>dt:not(:first-of-type) {padding-left: .5ex}\n",
       "</style><dl class=dl-inline><dt>High</dt><dd>50</dd><dt>Low</dt><dd>50</dd></dl>\n"
      ],
      "text/latex": [
       "\\begin{description*}\n",
       "\\item[High] 50\n",
       "\\item[Low] 50\n",
       "\\end{description*}\n"
      ],
      "text/markdown": [
       "High\n",
       ":   50Low\n",
       ":   50\n",
       "\n"
      ],
      "text/plain": [
       "High  Low \n",
       "  50   50 "
      ]
     },
     "metadata": {},
     "output_type": "display_data"
    }
   ],
   "source": [
    "# Get actual counts of \"high\" and \"low\" in the observations\n",
    "tapply(data_z$GDP_High_Low, data_z$GDP_High_Low, length)\n",
    "# There are 3 extra counts of \"Low\", we'll need to balance the class\n",
    "\n",
    "# Evenly balance the two classes to 50 observations each\n",
    "df1 <- data_z %>% \n",
    "  filter(GDP_High_Low == \"High\") %>% \n",
    "  sample_n(50)\n",
    "\n",
    "df2 <- data_z %>% \n",
    "  filter(GDP_High_Low == \"Low\") %>% \n",
    "  sample_n(50)\n",
    "\n",
    "df <- bind_rows(df1, df2, .id = NULL)\n",
    "\n",
    "# Double check the result to make sure they are balanced\n",
    "tapply(df$GDP_High_Low, df$GDP_High_Low, length)\n",
    "\n",
    "# Lastly, rename the variables to finalize prepping\n",
    "names(df) <- c(\"GDP_High_Low\", \"DENSITY\", \"URBAN\", \n",
    "                   \"LIFEEXPF\", \"LIFEEXPM\", \"LITERACY\", \"BIRTH_RT\", \n",
    "                   \"DEATH_RT\", \"FERTILTY\", \"POP_INCR\", \"BABYMORT\")"
   ]
  },
  {
   "cell_type": "markdown",
   "metadata": {},
   "source": [
    "**Model Training Preparation**"
   ]
  },
  {
   "cell_type": "code",
   "execution_count": 12,
   "metadata": {
    "vscode": {
     "languageId": "r"
    }
   },
   "outputs": [],
   "source": [
    "# create training and validation data\n",
    "Training <- createDataPartition(df$GDP_High_Low, p=0.75, list=FALSE)\n",
    "training <- df[Training,]\n",
    "validation <- df[-Training,]"
   ]
  },
  {
   "cell_type": "code",
   "execution_count": 13,
   "metadata": {
    "vscode": {
     "languageId": "r"
    }
   },
   "outputs": [],
   "source": [
    "# Set Up Modelling Parameters\n",
    "# Do a 10-fold cross validation to avoid data overfitting, \n",
    "# and repeat 10 times to reduce randomness in the results.\n",
    "control <- trainControl(method=\"repeatedcv\", number=10, repeats=10)\n",
    "metric <- \"Accuracy\""
   ]
  },
  {
   "cell_type": "markdown",
   "metadata": {},
   "source": [
    "*Linear Discriminant Analysis (lda)*"
   ]
  },
  {
   "cell_type": "code",
   "execution_count": 15,
   "metadata": {
    "vscode": {
     "languageId": "r"
    }
   },
   "outputs": [],
   "source": [
    "set.seed(123)\n",
    "fit.lda <- train(GDP_High_Low~., data=training, method=\"lda\", metric=metric, trControl=control)\n",
    "predictions <- predict(fit.lda, validation)\n",
    "\n",
    "cm <- confusionMatrix(predictions, as.factor(validation$GDP_High_Low))"
   ]
  },
  {
   "cell_type": "markdown",
   "metadata": {},
   "source": [
    "*Classification and Regression Trees (cart)*"
   ]
  },
  {
   "cell_type": "code",
   "execution_count": 17,
   "metadata": {
    "vscode": {
     "languageId": "r"
    }
   },
   "outputs": [],
   "source": [
    "fit.cart <- train(GDP_High_Low~., data=training, method=\"rpart\", metric=metric, trControl=control)\n",
    "predictions <- predict(fit.cart, validation)\n",
    "\n",
    "cm1 <- confusionMatrix(predictions, as.factor(validation$GDP_High_Low))"
   ]
  },
  {
   "cell_type": "markdown",
   "metadata": {},
   "source": [
    "*k-Nearest Neighbors (knn)*"
   ]
  },
  {
   "cell_type": "code",
   "execution_count": 18,
   "metadata": {
    "vscode": {
     "languageId": "r"
    }
   },
   "outputs": [],
   "source": [
    "fit.knn <- train(GDP_High_Low~., data=training, method=\"knn\", metric=metric, trControl=control)\n",
    "predictions <- predict(fit.knn, validation)\n",
    "\n",
    "cm2 <- confusionMatrix(predictions, as.factor(validation$GDP_High_Low))"
   ]
  },
  {
   "cell_type": "markdown",
   "metadata": {},
   "source": [
    "*Support Vector Machine (svm)*"
   ]
  },
  {
   "cell_type": "code",
   "execution_count": 27,
   "metadata": {
    "vscode": {
     "languageId": "r"
    }
   },
   "outputs": [],
   "source": [
    "#install.packages(\"kernlab\")\n",
    "fit.svm <- train(GDP_High_Low~., data=training, method=\"svmRadial\", metric=metric, trControl=control)\n",
    "predictions <- predict(fit.svm, validation)\n",
    "\n",
    "cm3 <- confusionMatrix(predictions, as.factor(validation$GDP_High_Low))"
   ]
  },
  {
   "cell_type": "markdown",
   "metadata": {},
   "source": [
    "*Logistic Regression (glm)*"
   ]
  },
  {
   "cell_type": "code",
   "execution_count": 28,
   "metadata": {
    "vscode": {
     "languageId": "r"
    }
   },
   "outputs": [],
   "source": [
    "#install.packages(\"glmnet\")\n",
    "fit.glm <- train(GDP_High_Low~., data=training, method = \"glmnet\", metric=metric,trControl=control)\n",
    "predictions <- predict(fit.glm, validation)\n",
    "\n",
    "cm4 <- confusionMatrix(predictions,\n",
    "                       as.factor(validation$GDP_High_Low))"
   ]
  },
  {
   "cell_type": "markdown",
   "metadata": {},
   "source": [
    "**Model Evaluation**"
   ]
  },
  {
   "cell_type": "code",
   "execution_count": 29,
   "metadata": {
    "vscode": {
     "languageId": "r"
    }
   },
   "outputs": [
    {
     "data": {
      "text/plain": [
       "\n",
       "Call:\n",
       "summary.resamples(object = results)\n",
       "\n",
       "Models: lda, cart, knn, svm, glm \n",
       "Number of resamples: 100 \n",
       "\n",
       "Accuracy \n",
       "      Min.   1st Qu.    Median      Mean 3rd Qu. Max. NA's\n",
       "lda  0.375 0.7142857 0.8571429 0.8092857 0.87500    1    0\n",
       "cart 0.375 0.7500000 0.8571429 0.8330357 1.00000    1    0\n",
       "knn  0.375 0.7500000 0.8750000 0.8444643 0.90625    1    0\n",
       "svm  0.500 0.7500000 0.8571429 0.8298214 0.87500    1    0\n",
       "glm  0.500 0.7500000 0.8660714 0.8465476 1.00000    1    0\n",
       "\n",
       "Kappa \n",
       "           Min.   1st Qu. Median      Mean 3rd Qu. Max. NA's\n",
       "lda  -0.2727273 0.4615385  0.720 0.6154922  0.7500    1    0\n",
       "cart -0.2500000 0.5000000  0.720 0.6641144  1.0000    1    0\n",
       "knn  -0.2500000 0.5000000  0.750 0.6878761  0.8125    1    0\n",
       "svm   0.0000000 0.5000000  0.720 0.6570312  0.7500    1    0\n",
       "glm   0.0000000 0.5000000  0.735 0.6936880  1.0000    1    0\n"
      ]
     },
     "metadata": {},
     "output_type": "display_data"
    }
   ],
   "source": [
    "# summary of results\n",
    "results <- resamples(list(lda=fit.lda, cart=fit.cart, knn=fit.knn, svm=fit.svm, glm=fit.glm))\n",
    "summary(results)"
   ]
  },
  {
   "cell_type": "code",
   "execution_count": 30,
   "metadata": {
    "vscode": {
     "languageId": "r"
    }
   },
   "outputs": [],
   "source": [
    "# Looking solely at classification accuracy, it appears that \"glm\" perform the \n",
    "# best (highest mean accuracy: 0.85 and mean kappa value: 0.69)."
   ]
  },
  {
   "cell_type": "code",
   "execution_count": 31,
   "metadata": {
    "vscode": {
     "languageId": "r"
    }
   },
   "outputs": [
    {
     "data": {
      "image/png": "[encoded data removed]",
      "text/plain": [
       "plot without title"
      ]
     },
     "metadata": {
      "image/png": {
       "height": 420,
       "width": 420
      }
     },
     "output_type": "display_data"
    }
   ],
   "source": [
    "# Plot model accuracies\n",
    "results_df <- as.data.frame(results)\n",
    "\n",
    "results_tidy <- results_df %>% \n",
    "  pivot_longer(names_to = \"Model\", values_to = \"Accuracy\", -Resample) %>% \n",
    "  group_by(Model) %>% \n",
    "  summarise(Mean_Accuracy = mean(Accuracy))\n",
    "\n",
    "mean_acc <- results_tidy %>% \n",
    "  ggplot(aes(x=fct_reorder(Model, Mean_Accuracy), y=Mean_Accuracy))+\n",
    "  geom_bar(stat = \"identity\")+\n",
    "  coord_flip()+\n",
    "  xlab(\"Model\")+\n",
    "  ylab(\"Mean Accuracy\")+\n",
    "  theme(text = element_text(size = 20),\n",
    "        title = element_text(size = 14))\n",
    "\n",
    "mean_acc"
   ]
  },
  {
   "cell_type": "code",
   "execution_count": 32,
   "metadata": {
    "vscode": {
     "languageId": "r"
    }
   },
   "outputs": [
    {
     "data": {
      "image/png": "[encoded data removed]",
      "text/plain": [
       "plot without title"
      ]
     },
     "metadata": {
      "image/png": {
       "height": 420,
       "width": 420
      }
     },
     "output_type": "display_data"
    }
   ],
   "source": [
    "# Create a Confusion Matrix for the Best Model ('glm')\n",
    "# 'cm4' is the confusion matrix for 'glm'\n",
    "cm_4d <- as.data.frame(cm4$table)\n",
    "cm_4d$diag <- cm_4d$Prediction == cm_4d$Reference # Get the Diagonal\n",
    "cm_4d$ndiag <- cm_4d$Prediction != cm_4d$Reference # Off Diagonal     \n",
    "cm_4d[cm_4d == 0] <- NA # Replace 0 with NA for white tiles\n",
    "cm_4d$Reference <-  reverse.levels(cm_4d$Reference) # diagonal starts at top left\n",
    "cm_4d$ref_freq <- cm_4d$Freq * ifelse(is.na(cm_4d$diag),-1,1)\n",
    "\n",
    "best_m <-  ggplot(data = cm_4d, aes(x = Prediction , y =  Reference, fill = Freq))+\n",
    "  scale_x_discrete(position = \"top\") +\n",
    "  geom_tile( data = cm_4d,aes(fill = ref_freq)) +\n",
    "  scale_fill_gradient2(guide = FALSE ,low=\"red3\",high=\"orchid4\", midpoint = 0,na.value = 'white') +\n",
    "  geom_text(aes(label = Freq), color = 'black', size = 3)+\n",
    "  theme_bw() +\n",
    "  theme(panel.grid.major = element_blank(), panel.grid.minor = element_blank(),\n",
    "        legend.position = \"none\",\n",
    "        panel.border = element_blank(),\n",
    "        plot.background = element_blank(),\n",
    "        axis.line = element_blank(),\n",
    "  )\n",
    "best_m"
   ]
  },
  {
   "cell_type": "code",
   "execution_count": 34,
   "metadata": {
    "vscode": {
     "languageId": "r"
    }
   },
   "outputs": [],
   "source": [
    "# Determine Variable Importance ('varImp')\n",
    "\n",
    "importance1 <- varImp(fit.lda)\n",
    "importance2 <- varImp(fit.cart)\n",
    "importance3 <- varImp(fit.knn)\n",
    "importance4 <- varImp(fit.svm)\n",
    "importance5 <- varImp(fit.glm)\n",
    "\n",
    "# Check structure of the data.frames\n",
    "#str(importance1)\n",
    "\n",
    "# Extract importance into a df\n",
    "imp1 <- importance1$importance \n",
    "imp2 <- importance2$importance\n",
    "imp3 <- importance3$importance\n",
    "imp4 <- importance4$importance\n",
    "imp5 <- importance5$importance"
   ]
  },
  {
   "cell_type": "code",
   "execution_count": 35,
   "metadata": {
    "vscode": {
     "languageId": "r"
    }
   },
   "outputs": [],
   "source": [
    "# Plot the Variable Importance by Model\n",
    "# Linear Discriminant Analysis (lda)\n",
    "p1 <- imp1 %>% \n",
    "  mutate(Predictor = rownames(imp1)) %>% \n",
    "  pivot_longer(names_to = \"GDP_Per_Capita\", values_to = \"Importance\", -Predictor) %>%\n",
    "  ggplot(aes(x=Predictor, y=Importance))+\n",
    "  geom_segment(aes(x=Predictor, xend=Predictor, y=0, yend=Importance), color=\"skyblue\") +\n",
    "  geom_point(color=\"blue\", size=4, alpha=0.6) +\n",
    "  theme_light() +\n",
    "  coord_flip() +\n",
    "  theme(\n",
    "    panel.grid.major.y = element_blank(),\n",
    "    panel.border = element_blank(),\n",
    "    axis.ticks.y = element_blank())+\n",
    "  ylab(\"Linear Discriminant Analysis\")+\n",
    "  xlab(\"\")\n",
    "\n",
    "# Classification and Regression Trees (cart)\n",
    "p2 <- imp2 %>% \n",
    "  mutate(Predictor = rownames(imp2)) %>% \n",
    "  pivot_longer(names_to = \"GDP_Per_Capita\", values_to = \"Importance\", -Predictor) %>%\n",
    "  ggplot(aes(x=Predictor, y=Importance))+\n",
    "  geom_segment(aes(x=Predictor, xend=Predictor, y=0, yend=Importance), color=\"skyblue\") +\n",
    "  geom_point(color=\"blue\", size=4, alpha=0.6) +\n",
    "  theme_light() +\n",
    "  coord_flip() +\n",
    "  theme(\n",
    "    panel.grid.major.y = element_blank(),\n",
    "    panel.border = element_blank(),\n",
    "    axis.ticks.y = element_blank())+\n",
    "  ylab(\"Classification & Regression Tree\")+\n",
    "  xlab(\"\")\n",
    "\n",
    "# k-Nearest Neighbors (knn)\n",
    "p3 <- imp3 %>% \n",
    "  mutate(Predictor = rownames(imp3)) %>% \n",
    "  pivot_longer(names_to = \"GDP_Per_Capita\", values_to = \"Importance\", -Predictor) %>%\n",
    "  ggplot(aes(x=Predictor, y=Importance))+\n",
    "  geom_segment(aes(x=Predictor, xend=Predictor, y=0, yend=Importance), color=\"skyblue\") +\n",
    "  geom_point(color=\"blue\", size=4, alpha=0.6) +\n",
    "  theme_light() +\n",
    "  coord_flip() +\n",
    "  theme(\n",
    "    panel.grid.major.y = element_blank(),\n",
    "    panel.border = element_blank(),\n",
    "    axis.ticks.y = element_blank())+\n",
    "  ylab(\"k-Nearest Neighbors\")\n",
    "\n",
    "# Support Vector Machine (svm)\n",
    "p4 <- imp4 %>% \n",
    "  mutate(Predictor = rownames(imp4)) %>% \n",
    "  pivot_longer(names_to = \"GDP_Per_Capita\", values_to = \"Importance\", -Predictor) %>%\n",
    "  ggplot(aes(x=Predictor, y=Importance))+\n",
    "  geom_segment(aes(x=Predictor, xend=Predictor, y=0, yend=Importance), color=\"skyblue\") +\n",
    "  geom_point(color=\"blue\", size=4, alpha=0.6) +\n",
    "  theme_light() +\n",
    "  coord_flip() +\n",
    "  theme(\n",
    "    panel.grid.major.y = element_blank(),\n",
    "    panel.border = element_blank(),\n",
    "    axis.ticks.y = element_blank())+\n",
    "  ylab(\"Support Vector Machine\")+\n",
    "  xlab(\"\")\n",
    "\n",
    "# Logistic Regression (glm)\n",
    "p5 <- imp5 %>% \n",
    "  mutate(Predictor = rownames(imp5)) %>% \n",
    "  pivot_longer(names_to = \"GDP_Per_Capita\", values_to = \"Importance\", -Predictor) %>%\n",
    "  ggplot(aes(x=Predictor, y=Importance))+\n",
    "  geom_segment(aes(x=Predictor, xend=Predictor, y=0, yend=Importance), color=\"skyblue\") +\n",
    "  geom_point(color=\"blue\", size=4, alpha=0.6) +\n",
    "  theme_light() +\n",
    "  coord_flip() +\n",
    "  theme(\n",
    "    panel.grid.major.y = element_blank(),\n",
    "    panel.border = element_blank(),\n",
    "    axis.ticks.y = element_blank())+\n",
    "  ylab(\"Logistic Regression\")+\n",
    "  xlab(\"\")"
   ]
  },
  {
   "cell_type": "code",
   "execution_count": 37,
   "metadata": {
    "vscode": {
     "languageId": "r"
    }
   },
   "outputs": [
    {
     "data": {
      "image/png": "[encoded data removed]",
      "text/plain": [
       "plot without title"
      ]
     },
     "metadata": {
      "image/png": {
       "height": 420,
       "width": 420
      }
     },
     "output_type": "display_data"
    }
   ],
   "source": [
    "# Plot the Variable Importance from \"glm (our best model)\"\n",
    "p5"
   ]
  },
  {
   "cell_type": "code",
   "execution_count": 44,
   "metadata": {
    "vscode": {
     "languageId": "r"
    }
   },
   "outputs": [
    {
     "name": "stderr",
     "output_type": "stream",
     "text": [
      "Warning message in as_grob.default(plot):\n",
      "\"Cannot convert object of class numeric into a grob.\"\n"
     ]
    }
   ],
   "source": [
    "# Plot them all on a single lollipop-chart\n",
    "plot_importance <- ggarrange(p1, p2, p3, p4, p5, ncol = 1, heights = c(4, 4, 4, 4, 4), width = 6) +\n",
    "  theme(text = element_text(size = 12)) +\n",
    "  theme(axis.text.x = element_text(angle = 90, hjust = 1)) +\n",
    "  theme(plot.margin = margin(2, 2, 2, 2))\n",
    "\n",
    "# save the plot to a file\n",
    "ggsave(\"plot_importance.png\", plot_importance, height = 10, width = 8)\n",
    "\n",
    "# open the saved image in a viewer\n",
    "png_file <- \"plot_importance.png\"\n",
    "browseURL(png_file)"
   ]
  },
  {
   "cell_type": "code",
   "execution_count": 45,
   "metadata": {
    "vscode": {
     "languageId": "r"
    }
   },
   "outputs": [
    {
     "data": {
      "image/png": "[encoded data removed]",
      "text/plain": [
       "plot without title"
      ]
     },
     "metadata": {
      "image/png": {
       "height": 420,
       "width": 420
      }
     },
     "output_type": "display_data"
    }
   ],
   "source": [
    "# Get the avg. variable importance for each predictor across all models\n",
    "\n",
    "average_importance <- rowMeans(cbind(imp1, imp2, imp3, imp4, imp5))\n",
    "\n",
    "# Create a data frame for plotting\n",
    "importance_df <- data.frame(Predictor = names(average_importance), Importance = average_importance)\n",
    "\n",
    "# Sort the data frame by importance score in descending order\n",
    "importance_df <- importance_df[order(importance_df$Importance, decreasing = TRUE), ]\n",
    "\n",
    "# Create the plot\n",
    "library(ggplot2)\n",
    "ggplot(importance_df, aes(x = reorder(Predictor, -Importance), y = Importance)) +\n",
    "  geom_bar(stat = \"identity\", fill = \"purple\") +\n",
    "  theme_minimal() +\n",
    "  theme(axis.text.x = element_text(angle = 45, hjust = 1)) +\n",
    "  labs(x = \"Predictor\", y = \"Average Importance Score\") +\n",
    "  ggtitle(\"Overall Predictor Importance Across All Models\")"
   ]
  },
  {
   "cell_type": "markdown",
   "metadata": {},
   "source": [
    "**Last Check for Collinearity with a Correlation Matrix**"
   ]
  },
  {
   "cell_type": "code",
   "execution_count": 49,
   "metadata": {
    "vscode": {
     "languageId": "r"
    }
   },
   "outputs": [
    {
     "data": {
      "image/png": "[encoded data removed]",
      "text/plain": [
       "plot without title"
      ]
     },
     "metadata": {
      "image/png": {
       "height": 420,
       "width": 420
      }
     },
     "output_type": "display_data"
    }
   ],
   "source": [
    "# source: http://www.sthda.com/english/wiki/ggcorrplot-visualization-of-a-correlation-matrix-using-ggplot2\n",
    "\n",
    "test_df <- df %>% \n",
    "  select(\"DENSITY\", \"URBAN\", \"LIFEEXPF\", \"LIFEEXPM\", \"LITERACY\", \"BIRTH_RT\",\n",
    "         \"DEATH_RT\", \"FERTILTY\", \"POP_INCR\", \"BABYMORT\")\n",
    "\n",
    "# compute a matrix of correlation p-values\n",
    "p.mat <- cor_pmat(test_df)\n",
    "\n",
    "# compute a correlation matrix\n",
    "corr <- round(cor(test_df),1)\n",
    "\n",
    "# Argument p.mat indicates the no significant correlation coefficient\n",
    "# Visualize the Correlation Matrix\n",
    "ggcorrplot(corr, hc.order = TRUE, type = \"lower\",lab = TRUE, p.mat= p.mat)"
   ]
  },
  {
   "cell_type": "markdown",
   "metadata": {},
   "source": [
    "**Interpretation/Observations**"
   ]
  },
  {
   "cell_type": "markdown",
   "metadata": {},
   "source": [
    "The four most important predictors are:\n",
    "    \n",
    "    \"LIFEEXPF: average female life expectancy\"\n",
    "    \"URBAN: percent of people living in cities\"\n",
    "    \"LIFEEXPM: average male life expectancy\"\n",
    "    \"LITERACY: percent of people who can read\"\n",
    "\n",
    "The least effective predictors are:\n",
    "    \n",
    "    \"DEATH_RT: number of deaths per 100 people\"\n",
    "    \"DENSITY: population density\"\n",
    "    \n",
    "The data quality of these two variables may be subpar, and their data distribution could be heavily skewed. Removing them might improve our models, but finding suitable substitutes is challenging because many other variables also have numerous rows with missing data (value = 0). Therefore, replacing these two predictors could necessitate removing additional observations (i.e. countries). Consequently, this would decrease the sample size once more, potentially leading to inflated model results due to training with a smaller dataset.\n",
    "\n",
    "If there are more variables and more consistent data, drawing conclusion from the correlation matrix shown.  I would pay extra attention when analyzing pairs such as:\n",
    "\n",
    "    \"BIRTH_RT\" and \"FERTILITY\"\n",
    "    \"POP_INCR\" and \"BIRTH_RT\"\n",
    "    \"LIFEEXPF\" and \"LIFEEXPM\" \n",
    "\n",
    "because they exhibit strong positive correlations with each other."
   ]
  }
 ],
 "metadata": {
  "kernelspec": {
   "display_name": "R",
   "language": "R",
   "name": "ir"
  },
  "language_info": {
   "codemirror_mode": "r",
   "file_extension": ".r",
   "mimetype": "text/x-r-source",
   "name": "R",
   "pygments_lexer": "r",
   "version": "4.1.3"
  }
 },
 "nbformat": 4,
 "nbformat_minor": 2
}
