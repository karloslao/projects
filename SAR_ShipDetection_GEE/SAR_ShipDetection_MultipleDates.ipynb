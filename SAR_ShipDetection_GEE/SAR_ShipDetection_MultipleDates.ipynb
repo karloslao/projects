{
  "cells": [
    {
      "cell_type": "markdown",
      "metadata": {
        "id": "L5pu20JPbp1p"
      },
      "source": [
        "**Set Up Packages**"
      ]
    },
    {
      "cell_type": "code",
      "execution_count": 1,
      "metadata": {
        "id": "aFeNGSdOwu3T"
      },
      "outputs": [],
      "source": [
        "# Run this if geemap is not yet installed\n",
        "import subprocess\n",
        "#subprocess.check_call([\"python\", '-m', 'pip', 'install', 'geemap'])\n",
        "#subprocess.check_call([\"python\", '-m', 'pip', 'install', 'ee'])\n",
        "\n",
        "import geemap\n",
        "Map = geemap.Map()\n",
        "import ee\n",
        "ee.Authenticate()\n",
        "ee.Initialize()"
      ]
    },
    {
      "cell_type": "markdown",
      "metadata": {
        "id": "uoW3fLnqHak7"
      },
      "source": [
        "**Set Input parameters and Get Image Collection**\n"
      ]
    },
    {
      "cell_type": "code",
      "execution_count": 2,
      "metadata": {
        "id": "086GdOOXHh4e",
        "colab": {
          "base_uri": "https://localhost:8080/",
          "height": 17
        },
        "outputId": "7f69b4bc-c8e7-4608-fbcb-8946f75f9fad"
      },
      "outputs": [
        {
          "output_type": "display_data",
          "data": {
            "text/plain": [
              "<IPython.core.display.HTML object>"
            ],
            "text/html": [
              "\n",
              "            <style>\n",
              "                .geemap-dark {\n",
              "                    --jp-widgets-color: white;\n",
              "                    --jp-widgets-label-color: white;\n",
              "                    --jp-ui-font-color1: white;\n",
              "                    --jp-layout-color2: #454545;\n",
              "                    background-color: #383838;\n",
              "                }\n",
              "\n",
              "                .geemap-dark .jupyter-button {\n",
              "                    --jp-layout-color3: #383838;\n",
              "                }\n",
              "\n",
              "                .geemap-colab {\n",
              "                    background-color: var(--colab-primary-surface-color, white);\n",
              "                }\n",
              "\n",
              "                .geemap-colab .jupyter-button {\n",
              "                    --jp-layout-color3: var(--colab-primary-surface-color, white);\n",
              "                }\n",
              "            </style>\n",
              "            "
            ]
          },
          "metadata": {}
        }
      ],
      "source": [
        "# Set up the bounding box\n",
        "ee_asset = ee.FeatureCollection('projects/ee-karlos/assets/sar_ship_mask')\n",
        "aoi = ee_asset.filter(ee.Filter.eq('orbit_stat', 'ascending'))\n",
        "\n",
        "# Set up a function to clip the images within the aoi\n",
        "def clip_to_aoi(imagecollection):\n",
        "  return imagecollection.clip(aoi)\n",
        "\n",
        "# Get Image Stack\n",
        "s1_collection = ee.ImageCollection('COPERNICUS/S1_GRD')  \\\n",
        "    .filter(ee.Filter.listContains('transmitterReceiverPolarisation', 'VV')) \\\n",
        "    .filter(ee.Filter.listContains('transmitterReceiverPolarisation', 'VH')) \\\n",
        "    .filter(ee.Filter.eq('instrumentMode', 'IW'))  \\\n",
        "    .filterDate('2023-01-01', '2023-12-31')\\\n",
        "    .filterBounds(aoi)\\\n",
        "    .filterMetadata('orbitProperties_pass', 'equals', 'ASCENDING')\\\n",
        "    .map(clip_to_aoi)\n",
        "\n",
        "# If multiple time range is required, use this format:\n",
        "# Yr2022 =  ee.Filter.date('2022-06-01', '2022-09-01')\n",
        "# Yr2023 =  ee.Filter.date('2023-06-01', '2023-09-01')\n",
        "# TimeFilter = ee.Filter.Or(Yr2022,Yr2023)"
      ]
    },
    {
      "cell_type": "markdown",
      "metadata": {
        "id": "pSXVhaUGHnXe"
      },
      "source": [
        "**Image Pre-processing**"
      ]
    },
    {
      "cell_type": "code",
      "execution_count": 3,
      "metadata": {
        "id": "Xl6zQsF4HwVu",
        "colab": {
          "base_uri": "https://localhost:8080/",
          "height": 17
        },
        "outputId": "3c287b51-256f-4174-af34-6ba155a433ec"
      },
      "outputs": [
        {
          "output_type": "display_data",
          "data": {
            "text/plain": [
              "<IPython.core.display.HTML object>"
            ],
            "text/html": [
              "\n",
              "            <style>\n",
              "                .geemap-dark {\n",
              "                    --jp-widgets-color: white;\n",
              "                    --jp-widgets-label-color: white;\n",
              "                    --jp-ui-font-color1: white;\n",
              "                    --jp-layout-color2: #454545;\n",
              "                    background-color: #383838;\n",
              "                }\n",
              "\n",
              "                .geemap-dark .jupyter-button {\n",
              "                    --jp-layout-color3: #383838;\n",
              "                }\n",
              "\n",
              "                .geemap-colab {\n",
              "                    background-color: var(--colab-primary-surface-color, white);\n",
              "                }\n",
              "\n",
              "                .geemap-colab .jupyter-button {\n",
              "                    --jp-layout-color3: var(--colab-primary-surface-color, white);\n",
              "                }\n",
              "            </style>\n",
              "            "
            ]
          },
          "metadata": {}
        }
      ],
      "source": [
        "# Change the image values to float type\n",
        "s1_collection = s1_collection.map(lambda image: image.toFloat())\n",
        "\n",
        "# Get Track Numbers of the Images (more tracks = increase complexity)\n",
        "track_num = s1_collection.aggregate_array('relativeOrbitNumber_start')\n",
        "#track_num.distinct()\n",
        "\n",
        "# Get the most common orbital track from the initial image stack (best track to use for training the model)\n",
        "best_track = track_num.reduce(ee.Reducer.mode())\n",
        "best_track = ee.Number(best_track)\n",
        "\n",
        "# Filter the image stack to include images only for this track\n",
        "s1_collection = s1_collection.filterMetadata('relativeOrbitNumber_start', 'equals', best_track)\n",
        "\n",
        "# Save all the image properties as a list so that the final images can have metadata appended.\n",
        "# This step is needed because metadata will be removed after the LEE filter is applied\n",
        "savedSystemIndexList = s1_collection.aggregate_array('system:index')\n",
        "savedOrbitPropertiesPassList = s1_collection.aggregate_array('orbitProperties_pass')\n",
        "savedRelativeOrbitStartList = s1_collection.aggregate_array('relativeOrbitNumber_start')\n",
        "savedTimeStartList = s1_collection.aggregate_array('system:time_start')"
      ]
    },
    {
      "cell_type": "markdown",
      "metadata": {
        "id": "lW7J4LQOzirJ"
      },
      "source": [
        "**Apply a 7x7 Refined LEE Filter for de-speckling SAR images**"
      ]
    },
    {
      "cell_type": "code",
      "execution_count": 4,
      "metadata": {
        "colab": {
          "base_uri": "https://localhost:8080/",
          "height": 17
        },
        "id": "LL_0UfXFzirK",
        "outputId": "fbee9991-034f-4e01-f8cb-6dd418509f5a"
      },
      "outputs": [
        {
          "output_type": "display_data",
          "data": {
            "text/plain": [
              "<IPython.core.display.HTML object>"
            ],
            "text/html": [
              "\n",
              "            <style>\n",
              "                .geemap-dark {\n",
              "                    --jp-widgets-color: white;\n",
              "                    --jp-widgets-label-color: white;\n",
              "                    --jp-ui-font-color1: white;\n",
              "                    --jp-layout-color2: #454545;\n",
              "                    background-color: #383838;\n",
              "                }\n",
              "\n",
              "                .geemap-dark .jupyter-button {\n",
              "                    --jp-layout-color3: #383838;\n",
              "                }\n",
              "\n",
              "                .geemap-colab {\n",
              "                    background-color: var(--colab-primary-surface-color, white);\n",
              "                }\n",
              "\n",
              "                .geemap-colab .jupyter-button {\n",
              "                    --jp-layout-color3: var(--colab-primary-surface-color, white);\n",
              "                }\n",
              "            </style>\n",
              "            "
            ]
          },
          "metadata": {}
        }
      ],
      "source": [
        "# Set Up a 7x7 Refined LEE Filter\n",
        "# Source: https://mygeoblog.com/2018/02/16/timeseries-with-sar/\n",
        "# Convert image from db to natural units:\n",
        "toNatural = lambda img: ee.Image(10.0).pow(img.select(0).divide(10.0))\n",
        "\n",
        "# After running the filter, convert the natural units back to dB\n",
        "toDB = lambda img: ee.Image(img).log10().multiply(10.0)\n",
        "\n",
        "def RefinedLee(img):\n",
        "  # img must be in natural units, i.e. not in dB!\n",
        "  # Set up a 7x7 kernel\n",
        "  myimg = toNatural(img)\n",
        "  weights7 = ee.List.repeat(ee.List.repeat(1,7),7)\n",
        "  kernel7 = ee.Kernel.fixed(7,7, weights7, 1, 1, False)\n",
        "  mean7 = myimg.reduceNeighborhood(ee.Reducer.mean(), kernel7)\n",
        "  variance7 = myimg.reduceNeighborhood(ee.Reducer.variance(), kernel7)\n",
        "\n",
        "  # Use a sample of the 7x7 windows inside a 15x15 windows to determine gradients and directions\n",
        "  sample_weights = ee.List([\n",
        "      [0,0,0,0,0,0,0,0,0,0,0,0,0,0,0],\n",
        "      [0,1,0,1,0,1,0,1,0,1,0,1,0,1,0],\n",
        "      [0,0,0,0,0,0,0,0,0,0,0,0,0,0,0],\n",
        "      [0,1,0,1,0,1,0,1,0,1,0,1,0,1,0],\n",
        "      [0,0,0,0,0,0,0,0,0,0,0,0,0,0,0],\n",
        "      [0,1,0,1,0,1,0,1,0,1,0,1,0,1,0],\n",
        "      [0,0,0,0,0,0,0,0,0,0,0,0,0,0,0],\n",
        "      [0,1,0,1,0,1,0,1,0,1,0,1,0,1,0],\n",
        "      [0,0,0,0,0,0,0,0,0,0,0,0,0,0,0],\n",
        "      [0,1,0,1,0,1,0,1,0,1,0,1,0,1,0],\n",
        "      [0,0,0,0,0,0,0,0,0,0,0,0,0,0,0],\n",
        "      [0,1,0,1,0,1,0,1,0,1,0,1,0,1,0],\n",
        "      [0,0,0,0,0,0,0,0,0,0,0,0,0,0,0],\n",
        "      [0,1,0,1,0,1,0,1,0,1,0,1,0,1,0],\n",
        "      [0,0,0,0,0,0,0,0,0,0,0,0,0,0,0]\n",
        "  ])\n",
        "  sample_kernel = ee.Kernel.fixed(15,15, sample_weights, 7,7, False)\n",
        "\n",
        "  # Calculate mean and variance for the sampled windows and store as 9 bands\n",
        "  sample_mean = mean7.neighborhoodToBands(sample_kernel)\n",
        "  sample_var = variance7.neighborhoodToBands(sample_kernel)\n",
        "\n",
        "  # Determine the 4 gradients for the sampled windows\n",
        "  gradients = sample_mean.select(1).subtract(sample_mean.select(7)).abs()\n",
        "  gradients = gradients.addBands(sample_mean.select(6).subtract(sample_mean.select(2)).abs())\n",
        "  gradients = gradients.addBands(sample_mean.select(3).subtract(sample_mean.select(5)).abs())\n",
        "  gradients = gradients.addBands(sample_mean.select(0).subtract(sample_mean.select(8)).abs())\n",
        "\n",
        "  # And find the maximum gradient amongst gradient bands\n",
        "  max_gradient = gradients.reduce(ee.Reducer.max())\n",
        "\n",
        "  # Create a mask for band pixels that are the maximum gradient\n",
        "  gradmask = gradients.eq(max_gradient)\n",
        "\n",
        "  # duplicate gradmask bands: each gradient represents 2 directions\n",
        "  gradmask = gradmask.addBands(gradmask)\n",
        "\n",
        "  # Determine the 8 directions\n",
        "  directions = sample_mean.select(1).subtract(sample_mean.select(4)).gt(sample_mean.select(4).subtract(sample_mean.select(7))).multiply(1)\n",
        "  directions = directions.addBands(sample_mean.select(6).subtract(sample_mean.select(4)).gt(sample_mean.select(4).subtract(sample_mean.select(2))).multiply(2))\n",
        "  directions = directions.addBands(sample_mean.select(3).subtract(sample_mean.select(4)).gt(sample_mean.select(4).subtract(sample_mean.select(5))).multiply(3))\n",
        "  directions = directions.addBands(sample_mean.select(0).subtract(sample_mean.select(4)).gt(sample_mean.select(4).subtract(sample_mean.select(8))).multiply(4))\n",
        "  # The next 4 are the not() of the previous 4\n",
        "  directions = directions.addBands(directions.select(0).Not().multiply(5))\n",
        "  directions = directions.addBands(directions.select(1).Not().multiply(6))\n",
        "  directions = directions.addBands(directions.select(2).Not().multiply(7))\n",
        "  directions = directions.addBands(directions.select(3).Not().multiply(8))\n",
        "\n",
        "  # Mask all values that are not 1-8\n",
        "  directions = directions.updateMask(gradmask)\n",
        "\n",
        "  # \"collapse\" the stack into a singe band image (due to masking, each pixel has just one value (1-8) in it's directional band, and is otherwise masked)\n",
        "  directions = directions.reduce(ee.Reducer.sum())\n",
        "  sample_stats = sample_var.divide(sample_mean.multiply(sample_mean))\n",
        "\n",
        "  # Calculate localNoiseVariance\n",
        "  sigmaV = sample_stats.toArray().arraySort().arraySlice(0,0,5).arrayReduce(ee.Reducer.mean(), [0])\n",
        "\n",
        "  # Set up the 15*15 kernels for directional statistics\n",
        "  rect_weights = ee.List.repeat(ee.List.repeat(0,15),7).cat(ee.List.repeat(ee.List.repeat(1,15),8))\n",
        "  diag_weights = ee.List([\n",
        "      [1,0,0,0,0,0,0,0,0,0,0,0,0,0,0],\n",
        "      [1,1,0,0,0,0,0,0,0,0,0,0,0,0,0],\n",
        "      [1,1,1,0,0,0,0,0,0,0,0,0,0,0,0],\n",
        "      [1,1,1,1,0,0,0,0,0,0,0,0,0,0,0],\n",
        "      [1,1,1,1,1,0,0,0,0,0,0,0,0,0,0],\n",
        "      [1,1,1,1,1,1,0,0,0,0,0,0,0,0,0],\n",
        "      [1,1,1,1,1,1,1,0,0,0,0,0,0,0,0],\n",
        "      [1,1,1,1,1,1,1,1,0,0,0,0,0,0,0],\n",
        "      [1,1,1,1,1,1,1,1,1,0,0,0,0,0,0],\n",
        "      [1,1,1,1,1,1,1,1,1,1,0,0,0,0,0],\n",
        "      [1,1,1,1,1,1,1,1,1,1,1,0,0,0,0],\n",
        "      [1,1,1,1,1,1,1,1,1,1,1,1,0,0,0],\n",
        "      [1,1,1,1,1,1,1,1,1,1,1,1,1,0,0],\n",
        "      [1,1,1,1,1,1,1,1,1,1,1,1,1,1,0],\n",
        "      [1,1,1,1,1,1,1,1,1,1,1,1,1,1,1]\n",
        "  ])\n",
        "\n",
        "  rect_kernel = ee.Kernel.fixed(15,15, rect_weights, 7, 7, False)\n",
        "  diag_kernel = ee.Kernel.fixed(15,15, diag_weights, 7, 7, False)\n",
        "\n",
        "  # Create stacks for mean and variance using the original kernels. Mask with relevant direction.\n",
        "  dir_mean = myimg.reduceNeighborhood(ee.Reducer.mean(), rect_kernel).updateMask(directions.eq(1))\n",
        "  dir_var = myimg.reduceNeighborhood(ee.Reducer.variance(), rect_kernel).updateMask(directions.eq(1))\n",
        "\n",
        "  dir_mean = dir_mean.addBands(myimg.reduceNeighborhood(ee.Reducer.mean(), diag_kernel).updateMask(directions.eq(2)))\n",
        "  dir_var = dir_var.addBands(myimg.reduceNeighborhood(ee.Reducer.variance(), diag_kernel).updateMask(directions.eq(2)))\n",
        "\n",
        "  # and add the bands for rotated kernels\n",
        "  for i in range(1, 8):\n",
        "    dir_mean = dir_mean.addBands(myimg.reduceNeighborhood(ee.Reducer.mean(), rect_kernel.rotate(i)).updateMask(directions.eq(2*i+1)))\n",
        "    dir_var = dir_var.addBands(myimg.reduceNeighborhood(ee.Reducer.variance(), rect_kernel.rotate(i)).updateMask(directions.eq(2*i+1)))\n",
        "    dir_mean = dir_mean.addBands(myimg.reduceNeighborhood(ee.Reducer.mean(), diag_kernel.rotate(i)).updateMask(directions.eq(2*i+2)))\n",
        "    dir_var = dir_var.addBands(myimg.reduceNeighborhood(ee.Reducer.variance(), diag_kernel.rotate(i)).updateMask(directions.eq(2*i+2)))\n",
        "\n",
        "  # \"collapse\" the stack into a single band image (due to masking, each pixel has just one value in it's directional band, and is otherwise masked)\n",
        "  dir_mean = dir_mean.reduce(ee.Reducer.sum())\n",
        "  dir_var = dir_var.reduce(ee.Reducer.sum())\n",
        "\n",
        "  # A finally generate the filtered value\n",
        "  varX = dir_var.subtract(dir_mean.multiply(dir_mean).multiply(sigmaV)).divide(sigmaV.add(1.0))\n",
        "  b = varX.divide(dir_var)\n",
        "  result = dir_mean.add(b.multiply(myimg.subtract(dir_mean)))\n",
        "  return ee.Image(toDB(result.arrayGet(0))).toFloat()\n",
        "\n",
        "# The bands for VV and VH are both named 'sum' after the Lee filter is applied, and are renamed back to VV and VH afterwards\n",
        "s1_LeeVV = s1_collection.select('VV').map(RefinedLee).select(['sum'], ['VV'])\n",
        "s1_LeeVH = s1_collection.select('VH').map(RefinedLee).select(['sum'], ['VH'])\n",
        "\n",
        "# Save the angle band and a dummy collection with no bands\n",
        "s1_angle = s1_collection.select(['angle'])\n",
        "dummy = s1_collection.select([])\n",
        "\n",
        "# Creating the filter for the joins\n",
        "filter = ee.Filter.equals(leftField = 'system:index', rightField = 'system:index')\n",
        "\n",
        "# Create the simple join\n",
        "simpleJoin = ee.Join.inner();\n",
        "\n",
        "# Function used with the inner joins\n",
        "doFeaturePrimarySecondary = lambda feature: ee.Image.cat(feature.get('primary'), feature.get('secondary'))\n",
        "\n",
        "# Create the inner join for merging the VV and VH collections\n",
        "# Join the VV and VH into a single image collection\n",
        "innerJoin = ee.ImageCollection(simpleJoin.apply(s1_LeeVV, s1_LeeVH, filter))\n",
        "s1_VV_VH = innerJoin.map(doFeaturePrimarySecondary)\n",
        "\n",
        "# Create the inner join for merging the angle and dummy collections\n",
        "# Join angle and dummy into a single image collection\n",
        "innerJoin2 = ee.ImageCollection(simpleJoin.apply(s1_angle, dummy, filter))\n",
        "s1_angle_dummy = innerJoin2.map(doFeaturePrimarySecondary)\n",
        "\n",
        "# Create the inner join for merging the angle and dummy collections\n",
        "# Join VV_VH and angle_dummy into a single image collection\n",
        "innerJoin3 = ee.ImageCollection(simpleJoin.apply(s1_VV_VH, s1_angle_dummy, filter))\n",
        "s1_collection = innerJoin3.map(doFeaturePrimarySecondary)\n",
        "\n",
        "# Make a list of index values and turn the image collection into a list\n",
        "indexList = ee.List.sequence(0, s1_collection.size().subtract(1))\n",
        "listOfImages = s1_collection.toList(s1_collection.size())\n",
        "\n",
        "# Function for adding the properties back to the images\n",
        "def addProperties(index):\n",
        "  # Get the image at the index\n",
        "  image = ee.Image(listOfImages.get(index))\n",
        "  # Get the properties from the saved lists based on the index\n",
        "  systemIndex = savedSystemIndexList.get(index)\n",
        "  orbitPropertiesPass = savedOrbitPropertiesPassList.get(index)\n",
        "  relativeOrbitStart = savedRelativeOrbitStartList.get(index)\n",
        "  timeStart = savedTimeStartList.get(index)\n",
        "\n",
        "  # Change the properties to the format that is needed for the exported image name and add them back to the image\n",
        "  image = image.set('savedSystemIndex', ee.String(systemIndex).slice(0, 32))\n",
        "  image = image.set('savedOrbitPropertiesPass', ee.String(orbitPropertiesPass).slice(0, 3))\n",
        "  image = image.set('savedRelativeOrbitStart', (ee.Number(relativeOrbitStart).toByte()).format())\n",
        "  image = image.set('system:time_start', ee.Number(timeStart))\n",
        "  return image\n",
        "\n",
        "# Now all properties are returned to the images\n",
        "s1_collection_finalized = ee.ImageCollection(indexList.map(addProperties))\n",
        "\n",
        "###### Mosaic adjacent images that were taken on the same day ###########\n",
        "# Source: https://gis.stackexchange.com/questions/369057/google-earth-engine-roi-area-falling-outside-partial-coverage-by-sentinel-1-tile/370455#370455\n",
        "def makeMosaics(image):\n",
        "  thisImage = ee.Image(image)\n",
        "  date = ee.Date(thisImage.get('system:time_start'))\n",
        "  orbitPropertiesPass = thisImage.get('savedOrbitPropertiesPass')\n",
        "  filtered_stack = s1_collection_finalized  \\\n",
        "    .filterDate(date, date.advance(1,'day'))  \\\n",
        "    .filter(ee.Filter.eq('savedOrbitPropertiesPass', orbitPropertiesPass))\n",
        "  # Mosaic the filtered images together and copy the metadata/image properties\n",
        "  return ee.Image(filtered_stack.mosaic().copyProperties(image, ['system:time_start', 'savedSystemIndex', 'savedOrbitPropertiesPass', 'savedRelativeOrbitStart']))\n",
        "\n",
        "s1_collection_mosaic = s1_collection_finalized.map(makeMosaics)\n",
        "\n",
        "###### Remove images that were acquired but processed at different dates (a Sentinel-1 problem)###########\n",
        "# Source: https://gis.stackexchange.com/questions/336257/filter-out-duplicate-sentinel-2-images-form-earth-engine-image-collection-by-dat\n",
        "\n",
        "# Generate a list from the mosaiced images\n",
        "compareDateListOriginal = s1_collection_mosaic.toList(s1_collection_mosaic.size())\n",
        "# Create an list with a dummy image with a dummy date\n",
        "startList = ee.List([ee.Image().set('system:time_start', ee.Date(0))])\n",
        "# Add the dummy list to the beginning of the mosaiced list\n",
        "compareDateList = startList.cat(compareDateListOriginal)\n",
        "\n",
        "# Function to find all the duplicates\n",
        "def findDuplicates(image):\n",
        "  # Index of the image in the list\n",
        "  index = compareDateList.indexOf(image)\n",
        "  # Get the previous image in the list\n",
        "  prevImage = ee.Image(compareDateList.get(index.subtract(1)))\n",
        "  # Compare date of the image with the date of the previous image in the list\n",
        "  date1 = ee.Date(image.get('system:time_start')).format('Y-M-d')\n",
        "  date2 = ee.Date(prevImage.get('system:time_start')).format('Y-M-d')\n",
        "  duplicateCheck = ee.Algorithms.IsEqual(date1, date2)\n",
        "  # String reprisenting if image is a duplicate or not\n",
        "  isDuplicate = ee.String('')\n",
        "  # Set the string\n",
        "  isDuplicate = ee.String(ee.Algorithms.If(condition = duplicateCheck, trueCase = 'duplicate', falseCase = 'no duplicate'))\n",
        "  return image.set('duplicate', isDuplicate)\n",
        "\n",
        "# Find all the duplicates and then filter to remove them\n",
        "s1_collection_check = s1_collection_mosaic.map(findDuplicates)\n",
        "s1_collection_no_duplicates = s1_collection_check.filter(ee.Filter.eq('duplicate', 'no duplicate'))\n",
        "\n",
        "# Create an \"ID\" field for the image stack\n",
        "# Make a list of id values the size of s1_collection (mosaic, no duplicates)\n",
        "list_of_ids = ee.List.sequence(0, s1_collection_no_duplicates.size().subtract(1))\n",
        "# Turn s1_collection into a list\n",
        "stack_list = s1_collection_no_duplicates.toList(s1_collection_no_duplicates.size())\n",
        "\n",
        "# Function for adding the index value as the property ID (unique id# = system index#)\n",
        "def addID(index):\n",
        "  image = ee.Image(stack_list.get(index))\n",
        "  indexNum = ee.Number(index)\n",
        "  image = image.set('ID', indexNum)\n",
        "  image = image.toInt16()\n",
        "  return image\n",
        "s1_collection = ee.ImageCollection(list_of_ids.map(addID))\n",
        "s1_VH = s1_collection.select('VH')"
      ]
    },
    {
      "cell_type": "code",
      "execution_count": 5,
      "metadata": {
        "scrolled": true,
        "id": "6aGPfNA6zirL",
        "outputId": "2fefb1eb-0492-4f96-dca9-c34cc6034796",
        "colab": {
          "base_uri": "https://localhost:8080/",
          "height": 68
        }
      },
      "outputs": [
        {
          "output_type": "display_data",
          "data": {
            "text/plain": [
              "<IPython.core.display.HTML object>"
            ],
            "text/html": [
              "\n",
              "            <style>\n",
              "                .geemap-dark {\n",
              "                    --jp-widgets-color: white;\n",
              "                    --jp-widgets-label-color: white;\n",
              "                    --jp-ui-font-color1: white;\n",
              "                    --jp-layout-color2: #454545;\n",
              "                    background-color: #383838;\n",
              "                }\n",
              "\n",
              "                .geemap-dark .jupyter-button {\n",
              "                    --jp-layout-color3: #383838;\n",
              "                }\n",
              "\n",
              "                .geemap-colab {\n",
              "                    background-color: var(--colab-primary-surface-color, white);\n",
              "                }\n",
              "\n",
              "                .geemap-colab .jupyter-button {\n",
              "                    --jp-layout-color3: var(--colab-primary-surface-color, white);\n",
              "                }\n",
              "            </style>\n",
              "            "
            ]
          },
          "metadata": {}
        },
        {
          "output_type": "execute_result",
          "data": {
            "text/plain": [
              "<ee.ee_list.List at 0x79a8a2f5e320>"
            ],
            "text/html": [
              "<div><style>:root {\n",
              "  --font-color-primary: var(--jp-content-font-color0, rgba(0, 0, 0, 1));\n",
              "  --font-color-secondary: var(--jp-content-font-color2, rgba(0, 0, 0, 0.6));\n",
              "  --font-color-accent: rgba(123, 31, 162, 1);\n",
              "  --border-color: var(--jp-border-color2, #e0e0e0);\n",
              "  --background-color: var(--jp-layout-color0, white);\n",
              "  --background-color-row-even: var(--jp-layout-color1, white);\n",
              "  --background-color-row-odd: var(--jp-layout-color2, #eeeeee);\n",
              "}\n",
              "\n",
              "html[theme=\"dark\"],\n",
              "body[data-theme=\"dark\"],\n",
              "body.vscode-dark {\n",
              "  --font-color-primary: rgba(255, 255, 255, 1);\n",
              "  --font-color-secondary: rgba(255, 255, 255, 0.6);\n",
              "  --font-color-accent: rgb(173, 132, 190);\n",
              "  --border-color: #2e2e2e;\n",
              "  --background-color: #111111;\n",
              "  --background-color-row-even: #111111;\n",
              "  --background-color-row-odd: #313131;\n",
              "}\n",
              "\n",
              ".ee {\n",
              "  padding: 1em;\n",
              "  line-height: 1.5em;\n",
              "  min-width: 300px;\n",
              "  max-width: 1200px;\n",
              "  overflow-y: scroll;\n",
              "  max-height: 600px;\n",
              "  border: 1px solid var(--border-color);\n",
              "  font-family: monospace;\n",
              "}\n",
              "\n",
              ".ee li {\n",
              "  list-style-type: none;\n",
              "}\n",
              "\n",
              ".ee ul {\n",
              "  padding-left: 1.5em !important;\n",
              "  margin: 0;\n",
              "}\n",
              "\n",
              ".ee > ul {\n",
              "  padding-left: 0 !important;\n",
              "}\n",
              "\n",
              ".ee-open,\n",
              ".ee-shut {\n",
              "  color: var(--font-color-secondary);\n",
              "  cursor: pointer;\n",
              "  margin: 0;\n",
              "}\n",
              "\n",
              ".ee-open:hover,\n",
              ".ee-shut:hover {\n",
              "  color: var(--font-color-primary);\n",
              "}\n",
              "\n",
              ".ee-k {\n",
              "  color: var(--font-color-accent);\n",
              "  margin-right: 6px;\n",
              "}\n",
              "\n",
              ".ee-v {\n",
              "  color: var(--font-color-primary);\n",
              "}\n",
              "\n",
              ".ee-toggle {\n",
              "  display: none;\n",
              "}\n",
              "\n",
              ".ee-shut + ul {\n",
              "  display: none;\n",
              "}\n",
              "\n",
              ".ee-open + ul {\n",
              "  display: block;\n",
              "}\n",
              "\n",
              ".ee-shut::before {\n",
              "  display: inline-block;\n",
              "  content: \"▼\";\n",
              "  margin-right: 6px;\n",
              "  transform: rotate(-90deg);\n",
              "  transition: transform 0.2s;\n",
              "}\n",
              "\n",
              ".ee-open::before {\n",
              "  transform: rotate(0deg);\n",
              "  display: inline-block;\n",
              "  content: \"▼\";\n",
              "  margin-right: 6px;\n",
              "  transition: transform 0.2s;\n",
              "}\n",
              "</style><div class='ee'><ul><li><label class='ee-shut'>['VV', 'VH', 'angle']<input type='checkbox' class='ee-toggle'></label><ul><li><span class='ee-k'>0:</span><span class='ee-v'>VV</span></li><li><span class='ee-k'>1:</span><span class='ee-v'>VH</span></li><li><span class='ee-k'>2:</span><span class='ee-v'>angle</span></li></ul></li></ul></div><script>function toggleHeader() {\n",
              "    const parent = this.parentElement;\n",
              "    parent.className = parent.className === \"ee-open\" ? \"ee-shut\" : \"ee-open\";\n",
              "}\n",
              "\n",
              "for (let c of document.getElementsByClassName(\"ee-toggle\")) {\n",
              "    c.onclick = toggleHeader;\n",
              "}</script></div>"
            ]
          },
          "metadata": {},
          "execution_count": 5
        }
      ],
      "source": [
        "# Get band names of the first image\n",
        "band_names = s1_collection.first().bandNames()\n",
        "band_names"
      ]
    },
    {
      "cell_type": "markdown",
      "source": [
        "**Use the \"Otsu Thresholding\" method to find the threshold value that best\n",
        "differentiates water and ships**"
      ],
      "metadata": {
        "id": "iPl7eJ_4mOqq"
      }
    },
    {
      "cell_type": "code",
      "source": [
        "# Source: https://github.com/gee-community/geemap/blob/master/examples/notebooks/otsu.ipynb\n",
        "# Inspiration: https://medium.com/google-earth/otsus-method-for-image-segmentation-f5c48f405e\n",
        "# Otsu’s method is a means of automatically finding an optimal threshold based on the observed distribution of pixel values (Otsu. 1979).\n",
        "\n",
        "# Create functions to do the following operations in order:\n",
        "# 1. Histogram calculation\n",
        "# 2. Class Variance calculation\n",
        "# 3. Threshold selection\n",
        "# 4. Binarization (create a binary image that classifies water vs. ships)\n",
        "\n",
        "# Return the DN that maximizes interclass variance\n",
        "def otsu(histogram):\n",
        "    counts = ee.Array(ee.Dictionary(histogram).get(\"histogram\"))\n",
        "    means = ee.Array(ee.Dictionary(histogram).get(\"bucketMeans\"))\n",
        "    size = means.length().get([0])\n",
        "    total = counts.reduce(ee.Reducer.sum(), [0]).get([0])\n",
        "    sum = means.multiply(counts).reduce(ee.Reducer.sum(), [0]).get([0])\n",
        "    mean = sum.divide(total)\n",
        "\n",
        "    indices = ee.List.sequence(1, size)\n",
        "\n",
        "    # Compute between sum of squares, where each mean partitions the data.\n",
        "    def func_xxx(i):\n",
        "        aCounts = counts.slice(0, 0, i)\n",
        "        aCount = aCounts.reduce(ee.Reducer.sum(), [0]).get([0])\n",
        "        aMeans = means.slice(0, 0, i)\n",
        "        aMean = (\n",
        "            aMeans.multiply(aCounts)\n",
        "            .reduce(ee.Reducer.sum(), [0])\n",
        "            .get([0])\n",
        "            .divide(aCount)\n",
        "        )\n",
        "        bCount = total.subtract(aCount)\n",
        "        bMean = sum.subtract(aCount.multiply(aMean)).divide(bCount)\n",
        "        return aCount.multiply(aMean.subtract(mean).pow(2)).add(\n",
        "            bCount.multiply(bMean.subtract(mean).pow(2))\n",
        "        )\n",
        "\n",
        "    bss = indices.map(func_xxx)\n",
        "\n",
        "    # Return the mean value corresponding to the maximum BSS.\n",
        "    return means.sort(bss).get([-1])\n",
        "\n",
        "\n",
        "# Apply this threshold to extract ships, incorporate the otsu function insde\n",
        "# a function\n",
        "def extract_ship(image):\n",
        "    histogram = image.select(\"VH\").reduceRegion(\n",
        "        **{\n",
        "            \"reducer\": ee.Reducer.histogram(255, 2),\n",
        "            \"geometry\": aoi,\n",
        "            \"scale\": 10,\n",
        "            \"bestEffort\": True\n",
        "        }\n",
        "    )\n",
        "    threshold = otsu(histogram.get(\"VH\"))\n",
        "    ship_raster = image.select(\"VH\").gt(threshold).selfMask()\n",
        "\n",
        "    # The thresholded image still contains a lot of noise\n",
        "    # We can convert them into polygons and filter the polygons\n",
        "    # to get rid of clusters with small size (<500 pixels)\n",
        "\n",
        "    # Convert the ee.image to ee.FeatureCollection\n",
        "    ship_vector = ship_raster.reduceToVectors(\n",
        "        reducer=ee.Reducer.countEvery(),\n",
        "        geometry=aoi,\n",
        "        scale=10,\n",
        "        maxPixels=1e13\n",
        "    )\n",
        "\n",
        "    # Filter by size to get the polygons of the ship\n",
        "    # Store the count of ships in the ee.Image as a band\n",
        "    cleaned_ships = ship_vector.filter(ee.Filter.gt('count', 500))\n",
        "    num_ships = ee.Number(cleaned_ships.size())\n",
        "    # Add the number of ships as a property into the image\n",
        "    new_image = ship_raster.set('count_ships', num_ships)\n",
        "    return new_image\n",
        "\n",
        "# Apply the Otsu-thresholding functions\n",
        "num_ships = s1_VH.map(extract_ship)"
      ],
      "metadata": {
        "colab": {
          "base_uri": "https://localhost:8080/",
          "height": 17
        },
        "id": "Lpcl5XYflhhW",
        "outputId": "95eb9c93-3211-4c48-9057-0c9559de6c26"
      },
      "execution_count": 6,
      "outputs": [
        {
          "output_type": "display_data",
          "data": {
            "text/plain": [
              "<IPython.core.display.HTML object>"
            ],
            "text/html": [
              "\n",
              "            <style>\n",
              "                .geemap-dark {\n",
              "                    --jp-widgets-color: white;\n",
              "                    --jp-widgets-label-color: white;\n",
              "                    --jp-ui-font-color1: white;\n",
              "                    --jp-layout-color2: #454545;\n",
              "                    background-color: #383838;\n",
              "                }\n",
              "\n",
              "                .geemap-dark .jupyter-button {\n",
              "                    --jp-layout-color3: #383838;\n",
              "                }\n",
              "\n",
              "                .geemap-colab {\n",
              "                    background-color: var(--colab-primary-surface-color, white);\n",
              "                }\n",
              "\n",
              "                .geemap-colab .jupyter-button {\n",
              "                    --jp-layout-color3: var(--colab-primary-surface-color, white);\n",
              "                }\n",
              "            </style>\n",
              "            "
            ]
          },
          "metadata": {}
        }
      ]
    },
    {
      "cell_type": "code",
      "source": [
        "from datetime import datetime\n",
        "counts = num_ships.aggregate_array('count_ships').getInfo()\n",
        "system_index = num_ships.aggregate_array('system:index').getInfo()\n",
        "\n",
        "# re-iterate the list of system index to get human-readable dates\n",
        "# Function to extract the date part (YYYYMMDD) from the system:index string\n",
        "def extract_date(system_index):\n",
        "    # Splitting the string by '_' and selecting the part containing the date\n",
        "    date = system_index.split('_')[4][:8]\n",
        "    # Extracting just the date (YYYYMMDD) from the timestamp\n",
        "    return date\n",
        "\n",
        "# Extracting dates for each system:index\n",
        "dates = [extract_date(i) for i in system_index]"
      ],
      "metadata": {
        "colab": {
          "base_uri": "https://localhost:8080/",
          "height": 17
        },
        "id": "HcFzkLE-6wsn",
        "outputId": "000d91d2-ac3d-4e81-de41-c929c8945677"
      },
      "execution_count": 7,
      "outputs": [
        {
          "output_type": "display_data",
          "data": {
            "text/plain": [
              "<IPython.core.display.HTML object>"
            ],
            "text/html": [
              "\n",
              "            <style>\n",
              "                .geemap-dark {\n",
              "                    --jp-widgets-color: white;\n",
              "                    --jp-widgets-label-color: white;\n",
              "                    --jp-ui-font-color1: white;\n",
              "                    --jp-layout-color2: #454545;\n",
              "                    background-color: #383838;\n",
              "                }\n",
              "\n",
              "                .geemap-dark .jupyter-button {\n",
              "                    --jp-layout-color3: #383838;\n",
              "                }\n",
              "\n",
              "                .geemap-colab {\n",
              "                    background-color: var(--colab-primary-surface-color, white);\n",
              "                }\n",
              "\n",
              "                .geemap-colab .jupyter-button {\n",
              "                    --jp-layout-color3: var(--colab-primary-surface-color, white);\n",
              "                }\n",
              "            </style>\n",
              "            "
            ]
          },
          "metadata": {}
        }
      ]
    },
    {
      "cell_type": "code",
      "source": [
        "counts"
      ],
      "metadata": {
        "colab": {
          "base_uri": "https://localhost:8080/",
          "height": 538
        },
        "id": "ZhCUdzdPJxfy",
        "outputId": "f4d4c3a6-999f-4cfc-b894-c1898d4e1d7a"
      },
      "execution_count": 8,
      "outputs": [
        {
          "output_type": "display_data",
          "data": {
            "text/plain": [
              "<IPython.core.display.HTML object>"
            ],
            "text/html": [
              "\n",
              "            <style>\n",
              "                .geemap-dark {\n",
              "                    --jp-widgets-color: white;\n",
              "                    --jp-widgets-label-color: white;\n",
              "                    --jp-ui-font-color1: white;\n",
              "                    --jp-layout-color2: #454545;\n",
              "                    background-color: #383838;\n",
              "                }\n",
              "\n",
              "                .geemap-dark .jupyter-button {\n",
              "                    --jp-layout-color3: #383838;\n",
              "                }\n",
              "\n",
              "                .geemap-colab {\n",
              "                    background-color: var(--colab-primary-surface-color, white);\n",
              "                }\n",
              "\n",
              "                .geemap-colab .jupyter-button {\n",
              "                    --jp-layout-color3: var(--colab-primary-surface-color, white);\n",
              "                }\n",
              "            </style>\n",
              "            "
            ]
          },
          "metadata": {}
        },
        {
          "output_type": "execute_result",
          "data": {
            "text/plain": [
              "[16,\n",
              " 17,\n",
              " 11,\n",
              " 16,\n",
              " 16,\n",
              " 15,\n",
              " 16,\n",
              " 13,\n",
              " 16,\n",
              " 15,\n",
              " 12,\n",
              " 15,\n",
              " 11,\n",
              " 11,\n",
              " 16,\n",
              " 13,\n",
              " 8,\n",
              " 9,\n",
              " 7,\n",
              " 16,\n",
              " 18,\n",
              " 16,\n",
              " 32,\n",
              " 15,\n",
              " 14,\n",
              " 17,\n",
              " 16,\n",
              " 16,\n",
              " 14,\n",
              " 15]"
            ]
          },
          "metadata": {},
          "execution_count": 8
        }
      ]
    },
    {
      "cell_type": "code",
      "source": [
        "dates"
      ],
      "metadata": {
        "colab": {
          "base_uri": "https://localhost:8080/",
          "height": 538
        },
        "id": "wcRX-nVeKjeN",
        "outputId": "fa639b85-589e-4da3-ebea-f6d26203bbe6"
      },
      "execution_count": 9,
      "outputs": [
        {
          "output_type": "display_data",
          "data": {
            "text/plain": [
              "<IPython.core.display.HTML object>"
            ],
            "text/html": [
              "\n",
              "            <style>\n",
              "                .geemap-dark {\n",
              "                    --jp-widgets-color: white;\n",
              "                    --jp-widgets-label-color: white;\n",
              "                    --jp-ui-font-color1: white;\n",
              "                    --jp-layout-color2: #454545;\n",
              "                    background-color: #383838;\n",
              "                }\n",
              "\n",
              "                .geemap-dark .jupyter-button {\n",
              "                    --jp-layout-color3: #383838;\n",
              "                }\n",
              "\n",
              "                .geemap-colab {\n",
              "                    background-color: var(--colab-primary-surface-color, white);\n",
              "                }\n",
              "\n",
              "                .geemap-colab .jupyter-button {\n",
              "                    --jp-layout-color3: var(--colab-primary-surface-color, white);\n",
              "                }\n",
              "            </style>\n",
              "            "
            ]
          },
          "metadata": {}
        },
        {
          "output_type": "execute_result",
          "data": {
            "text/plain": [
              "['20230101',\n",
              " '20230113',\n",
              " '20230125',\n",
              " '20230206',\n",
              " '20230218',\n",
              " '20230302',\n",
              " '20230314',\n",
              " '20230326',\n",
              " '20230407',\n",
              " '20230419',\n",
              " '20230501',\n",
              " '20230513',\n",
              " '20230525',\n",
              " '20230606',\n",
              " '20230618',\n",
              " '20230630',\n",
              " '20230712',\n",
              " '20230724',\n",
              " '20230805',\n",
              " '20230817',\n",
              " '20230829',\n",
              " '20230910',\n",
              " '20230922',\n",
              " '20231004',\n",
              " '20231028',\n",
              " '20231109',\n",
              " '20231121',\n",
              " '20231203',\n",
              " '20231215',\n",
              " '20231227']"
            ]
          },
          "metadata": {},
          "execution_count": 9
        }
      ]
    },
    {
      "cell_type": "code",
      "source": [
        "import matplotlib.pyplot as plt\n",
        "plt.plot(dates, counts)\n",
        "plt.xlabel('Dates')\n",
        "plt.ylabel('Counts')\n",
        "# Setting the x-axis to display every 10th date\n",
        "plt.xticks(range(0, len(dates), 10), [dates[i] for i in range(0, len(dates), 10)])\n",
        "\n",
        "plt.show()"
      ],
      "metadata": {
        "colab": {
          "base_uri": "https://localhost:8080/",
          "height": 449
        },
        "id": "b1K8QxIiEANm",
        "outputId": "e46dfbd4-179a-40e1-951d-2fd3c33e7fc4"
      },
      "execution_count": 10,
      "outputs": [
        {
          "output_type": "display_data",
          "data": {
            "text/plain": [
              "<IPython.core.display.HTML object>"
            ],
            "text/html": [
              "\n",
              "            <style>\n",
              "                .geemap-dark {\n",
              "                    --jp-widgets-color: white;\n",
              "                    --jp-widgets-label-color: white;\n",
              "                    --jp-ui-font-color1: white;\n",
              "                    --jp-layout-color2: #454545;\n",
              "                    background-color: #383838;\n",
              "                }\n",
              "\n",
              "                .geemap-dark .jupyter-button {\n",
              "                    --jp-layout-color3: #383838;\n",
              "                }\n",
              "\n",
              "                .geemap-colab {\n",
              "                    background-color: var(--colab-primary-surface-color, white);\n",
              "                }\n",
              "\n",
              "                .geemap-colab .jupyter-button {\n",
              "                    --jp-layout-color3: var(--colab-primary-surface-color, white);\n",
              "                }\n",
              "            </style>\n",
              "            "
            ]
          },
          "metadata": {}
        },
        {
          "output_type": "display_data",
          "data": {
            "text/plain": [
              "<Figure size 640x480 with 1 Axes>"
            ],
            "image/png": "[encoded data removed]"
          },
          "metadata": {}
        }
      ]
    }
  ],
  "metadata": {
    "colab": {
      "provenance": []
    },
    "kernelspec": {
      "display_name": "venv-geemap",
      "language": "python",
      "name": "venv-geemap"
    },
    "language_info": {
      "codemirror_mode": {
        "name": "ipython",
        "version": 3
      },
      "file_extension": ".py",
      "mimetype": "text/x-python",
      "name": "python",
      "nbconvert_exporter": "python",
      "pygments_lexer": "ipython3",
      "version": "3.12.2"
    }
  },
  "nbformat": 4,
  "nbformat_minor": 0
}