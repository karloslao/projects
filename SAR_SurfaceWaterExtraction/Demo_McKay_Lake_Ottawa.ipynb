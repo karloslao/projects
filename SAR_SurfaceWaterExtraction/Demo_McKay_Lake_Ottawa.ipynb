{
  "nbformat": 4,
  "nbformat_minor": 0,
  "metadata": {
    "colab": {
      "provenance": [],
      "collapsed_sections": [
        "B94lfnwE_kKM",
        "ToGAaGQd_xr4",
        "rydMvJoRALX7",
        "NAbeLQd2AQEn",
        "uCiehdaHAVUX",
        "JPiJrbrhAgcb",
        "ZB2BFJnLAtu2",
        "zGbyBGeiAy25",
        "6gnZOI7IA-zo",
        "9Ir3Dl4qBCfI",
        "txZXpzYfBFjo",
        "kqB9ZOqIBJuT",
        "RVJWliUZBTbu",
        "m-4SeDlOBpxU",
        "4H-3W0JHB8cO",
        "EhYNcbHID5P8"
      ]
    },
    "kernelspec": {
      "name": "python3",
      "display_name": "Python 3"
    },
    "language_info": {
      "name": "python"
    },
    "widgets": {
      "application/vnd.jupyter.widget-state+json": {
        "b911b4fe5d0448269871ce359e7b7145": {
          "model_module": "jupyter-leaflet",
          "model_name": "LeafletMapModel",
          "model_module_version": "^0.17",
          "state": {
            "_dom_classes": [],
            "_model_module": "jupyter-leaflet",
            "_model_module_version": "^0.17",
            "_model_name": "LeafletMapModel",
            "_view_count": null,
            "_view_module": "jupyter-leaflet",
            "_view_module_version": "^0.17",
            "_view_name": "LeafletMapView",
            "bottom": 6005603,
            "bounce_at_zoom_limits": true,
            "box_zoom": true,
            "center": [
              45.45158995513827,
              -75.66957774036722
            ],
            "close_popup_on_click": true,
            "controls": [
              "IPY_MODEL_1186d463d0a148ed9e72b6b9641b3fe7",
              "IPY_MODEL_23618bd455604fc2b847bf815a42b7d8",
              "IPY_MODEL_c0401dd8ce5e4aa8b2ac919cb1c9822a",
              "IPY_MODEL_9399a21c84184a96b923994d1937d55e",
              "IPY_MODEL_0532263a729d4b0fa1ea26cb79286469",
              "IPY_MODEL_ba9f65decf8b4c6a8a53ac7104a43a4e",
              "IPY_MODEL_00926a483dff49d5b54fbc25ed2374b3",
              "IPY_MODEL_ec8bcd33ab3749959fd865b1f93a3fd6"
            ],
            "crs": {
              "name": "EPSG3857",
              "custom": false
            },
            "default_style": "IPY_MODEL_99e9b2a25ef340f79a0b7f80721332db",
            "double_click_zoom": true,
            "dragging": true,
            "dragging_style": "IPY_MODEL_0571b61d56484bf8968be64585015108",
            "east": -75.65033197402956,
            "fullscreen": false,
            "inertia": true,
            "inertia_deceleration": 3000,
            "inertia_max_speed": 1500,
            "interpolation": "bilinear",
            "keyboard": true,
            "keyboard_pan_offset": 80,
            "keyboard_zoom_offset": 1,
            "layers": [
              "IPY_MODEL_9960062d6dd94e6ab373e74e7a8fda07",
              "IPY_MODEL_9eff71b055854b42927444f92f53b56f",
              "IPY_MODEL_d964c1d595ef49b28403163027baa608",
              "IPY_MODEL_d81482728d8c48efabe36602ade7909f",
              "IPY_MODEL_b2d41b81e8ca4e40987cf6e4042bc338",
              "IPY_MODEL_3efc1252c929410d9b67f0abd27ff7ee"
            ],
            "layout": "IPY_MODEL_fa3d1cff4b414649bc6ad64b8cba37c1",
            "left": 4861253,
            "max_zoom": 24,
            "min_zoom": null,
            "modisdate": "2023-08-23",
            "north": 45.45611200392096,
            "options": [
              "bounce_at_zoom_limits",
              "box_zoom",
              "center",
              "close_popup_on_click",
              "double_click_zoom",
              "dragging",
              "fullscreen",
              "inertia",
              "inertia_deceleration",
              "inertia_max_speed",
              "interpolation",
              "keyboard",
              "keyboard_pan_offset",
              "keyboard_zoom_offset",
              "max_zoom",
              "min_zoom",
              "prefer_canvas",
              "scroll_wheel_zoom",
              "tap",
              "tap_tolerance",
              "touch_zoom",
              "world_copy_jump",
              "zoom",
              "zoom_animation_threshold",
              "zoom_delta",
              "zoom_snap"
            ],
            "panes": {},
            "prefer_canvas": false,
            "right": 4863047,
            "scroll_wheel_zoom": true,
            "south": 45.44708032076192,
            "style": "IPY_MODEL_723c9985a7494ff2a1043c1adfecbee0",
            "tap": true,
            "tap_tolerance": 15,
            "top": 6005003,
            "touch_zoom": true,
            "west": -75.6888270378113,
            "window_url": "https://4fovqv2pefz-496ff2e9c6d22116-0-colab.googleusercontent.com/outputframe.html?vrz=colab-20230823-060135-RC00_559378898",
            "world_copy_jump": false,
            "zoom": 16,
            "zoom_animation_threshold": 4,
            "zoom_delta": 1,
            "zoom_snap": 1
          }
        },
        "1186d463d0a148ed9e72b6b9641b3fe7": {
          "model_module": "jupyter-leaflet",
          "model_name": "LeafletWidgetControlModel",
          "model_module_version": "^0.17",
          "state": {
            "_model_module": "jupyter-leaflet",
            "_model_module_version": "^0.17",
            "_model_name": "LeafletWidgetControlModel",
            "_view_count": null,
            "_view_module": "jupyter-leaflet",
            "_view_module_version": "^0.17",
            "_view_name": "LeafletWidgetControlView",
            "max_height": null,
            "max_width": null,
            "min_height": null,
            "min_width": null,
            "options": [
              "position",
              "transparent_bg"
            ],
            "position": "topleft",
            "transparent_bg": false,
            "widget": "IPY_MODEL_4a1eafbd27804777b80f9a69067d50c3"
          }
        },
        "23618bd455604fc2b847bf815a42b7d8": {
          "model_module": "jupyter-leaflet",
          "model_name": "LeafletZoomControlModel",
          "model_module_version": "^0.17",
          "state": {
            "_model_module": "jupyter-leaflet",
            "_model_module_version": "^0.17",
            "_model_name": "LeafletZoomControlModel",
            "_view_count": null,
            "_view_module": "jupyter-leaflet",
            "_view_module_version": "^0.17",
            "_view_name": "LeafletZoomControlView",
            "options": [
              "position",
              "zoom_in_text",
              "zoom_in_title",
              "zoom_out_text",
              "zoom_out_title"
            ],
            "position": "topleft",
            "zoom_in_text": "+",
            "zoom_in_title": "Zoom in",
            "zoom_out_text": "-",
            "zoom_out_title": "Zoom out"
          }
        },
        "c0401dd8ce5e4aa8b2ac919cb1c9822a": {
          "model_module": "jupyter-leaflet",
          "model_name": "LeafletFullScreenControlModel",
          "model_module_version": "^0.17",
          "state": {
            "_model_module": "jupyter-leaflet",
            "_model_module_version": "^0.17",
            "_model_name": "LeafletFullScreenControlModel",
            "_view_count": null,
            "_view_module": "jupyter-leaflet",
            "_view_module_version": "^0.17",
            "_view_name": "LeafletFullScreenControlView",
            "options": [
              "position"
            ],
            "position": "topleft"
          }
        },
        "9399a21c84184a96b923994d1937d55e": {
          "model_module": "jupyter-leaflet",
          "model_name": "LeafletDrawControlModel",
          "model_module_version": "^0.17",
          "state": {
            "_model_module": "jupyter-leaflet",
            "_model_module_version": "^0.17",
            "_model_name": "LeafletDrawControlModel",
            "_view_count": null,
            "_view_module": "jupyter-leaflet",
            "_view_module_version": "^0.17",
            "_view_name": "LeafletDrawControlView",
            "circle": {},
            "circlemarker": {},
            "data": [],
            "edit": true,
            "marker": {
              "shapeOptions": {
                "color": "#3388ff"
              }
            },
            "options": [
              "position"
            ],
            "polygon": {
              "shapeOptions": {}
            },
            "polyline": {
              "shapeOptions": {}
            },
            "position": "topleft",
            "rectangle": {
              "shapeOptions": {
                "color": "#3388ff"
              }
            },
            "remove": true
          }
        },
        "0532263a729d4b0fa1ea26cb79286469": {
          "model_module": "jupyter-leaflet",
          "model_name": "LeafletScaleControlModel",
          "model_module_version": "^0.17",
          "state": {
            "_model_module": "jupyter-leaflet",
            "_model_module_version": "^0.17",
            "_model_name": "LeafletScaleControlModel",
            "_view_count": null,
            "_view_module": "jupyter-leaflet",
            "_view_module_version": "^0.17",
            "_view_name": "LeafletScaleControlView",
            "imperial": true,
            "max_width": 100,
            "metric": true,
            "options": [
              "imperial",
              "max_width",
              "metric",
              "position",
              "update_when_idle"
            ],
            "position": "bottomleft",
            "update_when_idle": false
          }
        },
        "ba9f65decf8b4c6a8a53ac7104a43a4e": {
          "model_module": "jupyter-leaflet",
          "model_name": "LeafletMeasureControlModel",
          "model_module_version": "^0.17",
          "state": {
            "_custom_units": {},
            "_model_module": "jupyter-leaflet",
            "_model_module_version": "^0.17",
            "_model_name": "LeafletMeasureControlModel",
            "_view_count": null,
            "_view_module": "jupyter-leaflet",
            "_view_module_version": "^0.17",
            "_view_name": "LeafletMeasureControlView",
            "active_color": "orange",
            "capture_z_index": 10000,
            "completed_color": "#C8F2BE",
            "options": [
              "active_color",
              "capture_z_index",
              "completed_color",
              "popup_options",
              "position",
              "primary_area_unit",
              "primary_length_unit",
              "secondary_area_unit",
              "secondary_length_unit"
            ],
            "popup_options": {
              "className": "leaflet-measure-resultpopup",
              "autoPanPadding": [
                10,
                10
              ]
            },
            "position": "bottomleft",
            "primary_area_unit": "acres",
            "primary_length_unit": "kilometers",
            "secondary_area_unit": null,
            "secondary_length_unit": null
          }
        },
        "00926a483dff49d5b54fbc25ed2374b3": {
          "model_module": "jupyter-leaflet",
          "model_name": "LeafletWidgetControlModel",
          "model_module_version": "^0.17",
          "state": {
            "_model_module": "jupyter-leaflet",
            "_model_module_version": "^0.17",
            "_model_name": "LeafletWidgetControlModel",
            "_view_count": null,
            "_view_module": "jupyter-leaflet",
            "_view_module_version": "^0.17",
            "_view_name": "LeafletWidgetControlView",
            "max_height": null,
            "max_width": null,
            "min_height": null,
            "min_width": null,
            "options": [
              "position",
              "transparent_bg"
            ],
            "position": "topright",
            "transparent_bg": false,
            "widget": "IPY_MODEL_3c745804b7f542b1bbe236f26e6d36d7"
          }
        },
        "ec8bcd33ab3749959fd865b1f93a3fd6": {
          "model_module": "jupyter-leaflet",
          "model_name": "LeafletAttributionControlModel",
          "model_module_version": "^0.17",
          "state": {
            "_model_module": "jupyter-leaflet",
            "_model_module_version": "^0.17",
            "_model_name": "LeafletAttributionControlModel",
            "_view_count": null,
            "_view_module": "jupyter-leaflet",
            "_view_module_version": "^0.17",
            "_view_name": "LeafletAttributionControlView",
            "options": [
              "position",
              "prefix"
            ],
            "position": "bottomright",
            "prefix": "ipyleaflet"
          }
        },
        "99e9b2a25ef340f79a0b7f80721332db": {
          "model_module": "jupyter-leaflet",
          "model_name": "LeafletMapStyleModel",
          "model_module_version": "^0.17",
          "state": {
            "_model_module": "jupyter-leaflet",
            "_model_module_version": "^0.17",
            "_model_name": "LeafletMapStyleModel",
            "_view_count": null,
            "_view_module": "@jupyter-widgets/base",
            "_view_module_version": "1.2.0",
            "_view_name": "StyleView",
            "cursor": "grab"
          }
        },
        "0571b61d56484bf8968be64585015108": {
          "model_module": "jupyter-leaflet",
          "model_name": "LeafletMapStyleModel",
          "model_module_version": "^0.17",
          "state": {
            "_model_module": "jupyter-leaflet",
            "_model_module_version": "^0.17",
            "_model_name": "LeafletMapStyleModel",
            "_view_count": null,
            "_view_module": "@jupyter-widgets/base",
            "_view_module_version": "1.2.0",
            "_view_name": "StyleView",
            "cursor": "move"
          }
        },
        "9960062d6dd94e6ab373e74e7a8fda07": {
          "model_module": "jupyter-leaflet",
          "model_name": "LeafletTileLayerModel",
          "model_module_version": "^0.17",
          "state": {
            "_model_module": "jupyter-leaflet",
            "_model_module_version": "^0.17",
            "_model_name": "LeafletTileLayerModel",
            "_view_count": null,
            "_view_module": "jupyter-leaflet",
            "_view_module_version": "^0.17",
            "_view_name": "LeafletTileLayerView",
            "attribution": "&copy; <a href=\"https://www.openstreetmap.org/copyright\">OpenStreetMap</a> contributors",
            "base": true,
            "bottom": true,
            "bounds": null,
            "detect_retina": false,
            "loading": false,
            "max_native_zoom": null,
            "max_zoom": 19,
            "min_native_zoom": null,
            "min_zoom": 1,
            "name": "OpenStreetMap.Mapnik",
            "no_wrap": false,
            "opacity": 1,
            "options": [
              "attribution",
              "bounds",
              "detect_retina",
              "max_native_zoom",
              "max_zoom",
              "min_native_zoom",
              "min_zoom",
              "no_wrap",
              "tile_size",
              "tms",
              "zoom_offset"
            ],
            "pane": "",
            "popup": null,
            "popup_max_height": null,
            "popup_max_width": 300,
            "popup_min_width": 50,
            "show_loading": false,
            "subitems": [],
            "tile_size": 256,
            "tms": false,
            "url": "https://tile.openstreetmap.org/{z}/{x}/{y}.png",
            "visible": true,
            "zoom_offset": 0
          }
        },
        "9eff71b055854b42927444f92f53b56f": {
          "model_module": "jupyter-leaflet",
          "model_name": "LeafletTileLayerModel",
          "model_module_version": "^0.17",
          "state": {
            "_model_module": "jupyter-leaflet",
            "_model_module_version": "^0.17",
            "_model_name": "LeafletTileLayerModel",
            "_view_count": null,
            "_view_module": "jupyter-leaflet",
            "_view_module_version": "^0.17",
            "_view_name": "LeafletTileLayerView",
            "attribution": "Google",
            "base": false,
            "bottom": true,
            "bounds": null,
            "detect_retina": false,
            "loading": false,
            "max_native_zoom": null,
            "max_zoom": 24,
            "min_native_zoom": null,
            "min_zoom": 0,
            "name": "Google Maps",
            "no_wrap": false,
            "opacity": 1,
            "options": [
              "attribution",
              "bounds",
              "detect_retina",
              "max_native_zoom",
              "max_zoom",
              "min_native_zoom",
              "min_zoom",
              "no_wrap",
              "tile_size",
              "tms",
              "zoom_offset"
            ],
            "pane": "",
            "popup": null,
            "popup_max_height": null,
            "popup_max_width": 300,
            "popup_min_width": 50,
            "show_loading": false,
            "subitems": [],
            "tile_size": 256,
            "tms": false,
            "url": "https://mt1.google.com/vt/lyrs=m&x={x}&y={y}&z={z}",
            "visible": true,
            "zoom_offset": 0
          }
        },
        "d964c1d595ef49b28403163027baa608": {
          "model_module": "jupyter-leaflet",
          "model_name": "LeafletTileLayerModel",
          "model_module_version": "^0.17",
          "state": {
            "_model_module": "jupyter-leaflet",
            "_model_module_version": "^0.17",
            "_model_name": "LeafletTileLayerModel",
            "_view_count": null,
            "_view_module": "jupyter-leaflet",
            "_view_module_version": "^0.17",
            "_view_name": "LeafletTileLayerView",
            "attribution": "Google Earth Engine",
            "base": false,
            "bottom": true,
            "bounds": null,
            "detect_retina": false,
            "loading": true,
            "max_native_zoom": null,
            "max_zoom": 24,
            "min_native_zoom": null,
            "min_zoom": 0,
            "name": "Maximum Water Extent",
            "no_wrap": false,
            "opacity": 1,
            "options": [
              "attribution",
              "bounds",
              "detect_retina",
              "max_native_zoom",
              "max_zoom",
              "min_native_zoom",
              "min_zoom",
              "no_wrap",
              "tile_size",
              "tms",
              "zoom_offset"
            ],
            "pane": "",
            "popup": null,
            "popup_max_height": null,
            "popup_max_width": 300,
            "popup_min_width": 50,
            "show_loading": false,
            "subitems": [],
            "tile_size": 256,
            "tms": false,
            "url": "https://earthengine.googleapis.com/v1/projects/earthengine-legacy/maps/a0a2d7769887691e4a754cc49ad30df8-7342b342adbc63206fff43b433677050/tiles/{z}/{x}/{y}",
            "visible": true,
            "zoom_offset": 0
          }
        },
        "fa3d1cff4b414649bc6ad64b8cba37c1": {
          "model_module": "@jupyter-widgets/base",
          "model_name": "LayoutModel",
          "model_module_version": "1.2.0",
          "state": {
            "_model_module": "@jupyter-widgets/base",
            "_model_module_version": "1.2.0",
            "_model_name": "LayoutModel",
            "_view_count": null,
            "_view_module": "@jupyter-widgets/base",
            "_view_module_version": "1.2.0",
            "_view_name": "LayoutView",
            "align_content": null,
            "align_items": null,
            "align_self": null,
            "border": null,
            "bottom": null,
            "display": null,
            "flex": null,
            "flex_flow": null,
            "grid_area": null,
            "grid_auto_columns": null,
            "grid_auto_flow": null,
            "grid_auto_rows": null,
            "grid_column": null,
            "grid_gap": null,
            "grid_row": null,
            "grid_template_areas": null,
            "grid_template_columns": null,
            "grid_template_rows": null,
            "height": "600px",
            "justify_content": null,
            "justify_items": null,
            "left": null,
            "margin": null,
            "max_height": null,
            "max_width": null,
            "min_height": null,
            "min_width": null,
            "object_fit": null,
            "object_position": null,
            "order": null,
            "overflow": null,
            "overflow_x": null,
            "overflow_y": null,
            "padding": null,
            "right": null,
            "top": null,
            "visibility": null,
            "width": null
          }
        },
        "723c9985a7494ff2a1043c1adfecbee0": {
          "model_module": "jupyter-leaflet",
          "model_name": "LeafletMapStyleModel",
          "model_module_version": "^0.17",
          "state": {
            "_model_module": "jupyter-leaflet",
            "_model_module_version": "^0.17",
            "_model_name": "LeafletMapStyleModel",
            "_view_count": null,
            "_view_module": "@jupyter-widgets/base",
            "_view_module_version": "1.2.0",
            "_view_name": "StyleView",
            "cursor": "grab"
          }
        },
        "4a1eafbd27804777b80f9a69067d50c3": {
          "model_module": "@jupyter-widgets/controls",
          "model_name": "HBoxModel",
          "model_module_version": "1.5.0",
          "state": {
            "_dom_classes": [],
            "_model_module": "@jupyter-widgets/controls",
            "_model_module_version": "1.5.0",
            "_model_name": "HBoxModel",
            "_view_count": null,
            "_view_module": "@jupyter-widgets/controls",
            "_view_module_version": "1.5.0",
            "_view_name": "HBoxView",
            "box_style": "",
            "children": [
              "IPY_MODEL_c90cb37f570b4abf8e4540e1d89ed25a"
            ],
            "layout": "IPY_MODEL_f093476971d44fc490828abca30a752d"
          }
        },
        "3c745804b7f542b1bbe236f26e6d36d7": {
          "model_module": "@jupyter-widgets/controls",
          "model_name": "VBoxModel",
          "model_module_version": "1.5.0",
          "state": {
            "_dom_classes": [],
            "_model_module": "@jupyter-widgets/controls",
            "_model_module_version": "1.5.0",
            "_model_name": "VBoxModel",
            "_view_count": null,
            "_view_module": "@jupyter-widgets/controls",
            "_view_module_version": "1.5.0",
            "_view_name": "VBoxView",
            "box_style": "",
            "children": [
              "IPY_MODEL_5f616b72a4e54ce4ac369ebf02f0a3e2"
            ],
            "layout": "IPY_MODEL_151c9c6ecf9e45d49f11d35e8a2c2aa0"
          }
        },
        "c90cb37f570b4abf8e4540e1d89ed25a": {
          "model_module": "@jupyter-widgets/controls",
          "model_name": "ToggleButtonModel",
          "model_module_version": "1.5.0",
          "state": {
            "_dom_classes": [],
            "_model_module": "@jupyter-widgets/controls",
            "_model_module_version": "1.5.0",
            "_model_name": "ToggleButtonModel",
            "_view_count": null,
            "_view_module": "@jupyter-widgets/controls",
            "_view_module_version": "1.5.0",
            "_view_name": "ToggleButtonView",
            "button_style": "",
            "description": "",
            "description_tooltip": null,
            "disabled": false,
            "icon": "globe",
            "layout": "IPY_MODEL_9978a02844794c20b23749b9b88ec4b0",
            "style": "IPY_MODEL_5e05519680a94d5c8dc7323466d81d7a",
            "tooltip": "Search location/data",
            "value": false
          }
        },
        "f093476971d44fc490828abca30a752d": {
          "model_module": "@jupyter-widgets/base",
          "model_name": "LayoutModel",
          "model_module_version": "1.2.0",
          "state": {
            "_model_module": "@jupyter-widgets/base",
            "_model_module_version": "1.2.0",
            "_model_name": "LayoutModel",
            "_view_count": null,
            "_view_module": "@jupyter-widgets/base",
            "_view_module_version": "1.2.0",
            "_view_name": "LayoutView",
            "align_content": null,
            "align_items": null,
            "align_self": null,
            "border": null,
            "bottom": null,
            "display": null,
            "flex": null,
            "flex_flow": null,
            "grid_area": null,
            "grid_auto_columns": null,
            "grid_auto_flow": null,
            "grid_auto_rows": null,
            "grid_column": null,
            "grid_gap": null,
            "grid_row": null,
            "grid_template_areas": null,
            "grid_template_columns": null,
            "grid_template_rows": null,
            "height": null,
            "justify_content": null,
            "justify_items": null,
            "left": null,
            "margin": null,
            "max_height": null,
            "max_width": null,
            "min_height": null,
            "min_width": null,
            "object_fit": null,
            "object_position": null,
            "order": null,
            "overflow": null,
            "overflow_x": null,
            "overflow_y": null,
            "padding": null,
            "right": null,
            "top": null,
            "visibility": null,
            "width": null
          }
        },
        "5f616b72a4e54ce4ac369ebf02f0a3e2": {
          "model_module": "@jupyter-widgets/controls",
          "model_name": "ToggleButtonModel",
          "model_module_version": "1.5.0",
          "state": {
            "_dom_classes": [],
            "_model_module": "@jupyter-widgets/controls",
            "_model_module_version": "1.5.0",
            "_model_name": "ToggleButtonModel",
            "_view_count": null,
            "_view_module": "@jupyter-widgets/controls",
            "_view_module_version": "1.5.0",
            "_view_name": "ToggleButtonView",
            "button_style": "",
            "description": "",
            "description_tooltip": null,
            "disabled": false,
            "icon": "wrench",
            "layout": "IPY_MODEL_50d6e64cd7fe409696e33e5ed96141ee",
            "style": "IPY_MODEL_759a33b581794218b006b4cb805c8cbb",
            "tooltip": "Toolbar",
            "value": false
          }
        },
        "151c9c6ecf9e45d49f11d35e8a2c2aa0": {
          "model_module": "@jupyter-widgets/base",
          "model_name": "LayoutModel",
          "model_module_version": "1.2.0",
          "state": {
            "_model_module": "@jupyter-widgets/base",
            "_model_module_version": "1.2.0",
            "_model_name": "LayoutModel",
            "_view_count": null,
            "_view_module": "@jupyter-widgets/base",
            "_view_module_version": "1.2.0",
            "_view_name": "LayoutView",
            "align_content": null,
            "align_items": null,
            "align_self": null,
            "border": null,
            "bottom": null,
            "display": null,
            "flex": null,
            "flex_flow": null,
            "grid_area": null,
            "grid_auto_columns": null,
            "grid_auto_flow": null,
            "grid_auto_rows": null,
            "grid_column": null,
            "grid_gap": null,
            "grid_row": null,
            "grid_template_areas": null,
            "grid_template_columns": null,
            "grid_template_rows": null,
            "height": null,
            "justify_content": null,
            "justify_items": null,
            "left": null,
            "margin": null,
            "max_height": null,
            "max_width": null,
            "min_height": null,
            "min_width": null,
            "object_fit": null,
            "object_position": null,
            "order": null,
            "overflow": null,
            "overflow_x": null,
            "overflow_y": null,
            "padding": null,
            "right": null,
            "top": null,
            "visibility": null,
            "width": null
          }
        },
        "9978a02844794c20b23749b9b88ec4b0": {
          "model_module": "@jupyter-widgets/base",
          "model_name": "LayoutModel",
          "model_module_version": "1.2.0",
          "state": {
            "_model_module": "@jupyter-widgets/base",
            "_model_module_version": "1.2.0",
            "_model_name": "LayoutModel",
            "_view_count": null,
            "_view_module": "@jupyter-widgets/base",
            "_view_module_version": "1.2.0",
            "_view_name": "LayoutView",
            "align_content": null,
            "align_items": null,
            "align_self": null,
            "border": null,
            "bottom": null,
            "display": null,
            "flex": null,
            "flex_flow": null,
            "grid_area": null,
            "grid_auto_columns": null,
            "grid_auto_flow": null,
            "grid_auto_rows": null,
            "grid_column": null,
            "grid_gap": null,
            "grid_row": null,
            "grid_template_areas": null,
            "grid_template_columns": null,
            "grid_template_rows": null,
            "height": "28px",
            "justify_content": null,
            "justify_items": null,
            "left": null,
            "margin": null,
            "max_height": null,
            "max_width": null,
            "min_height": null,
            "min_width": null,
            "object_fit": null,
            "object_position": null,
            "order": null,
            "overflow": null,
            "overflow_x": null,
            "overflow_y": null,
            "padding": "0px 0px 0px 4px",
            "right": null,
            "top": null,
            "visibility": null,
            "width": "28px"
          }
        },
        "5e05519680a94d5c8dc7323466d81d7a": {
          "model_module": "@jupyter-widgets/controls",
          "model_name": "DescriptionStyleModel",
          "model_module_version": "1.5.0",
          "state": {
            "_model_module": "@jupyter-widgets/controls",
            "_model_module_version": "1.5.0",
            "_model_name": "DescriptionStyleModel",
            "_view_count": null,
            "_view_module": "@jupyter-widgets/base",
            "_view_module_version": "1.2.0",
            "_view_name": "StyleView",
            "description_width": ""
          }
        },
        "50d6e64cd7fe409696e33e5ed96141ee": {
          "model_module": "@jupyter-widgets/base",
          "model_name": "LayoutModel",
          "model_module_version": "1.2.0",
          "state": {
            "_model_module": "@jupyter-widgets/base",
            "_model_module_version": "1.2.0",
            "_model_name": "LayoutModel",
            "_view_count": null,
            "_view_module": "@jupyter-widgets/base",
            "_view_module_version": "1.2.0",
            "_view_name": "LayoutView",
            "align_content": null,
            "align_items": null,
            "align_self": null,
            "border": null,
            "bottom": null,
            "display": null,
            "flex": null,
            "flex_flow": null,
            "grid_area": null,
            "grid_auto_columns": null,
            "grid_auto_flow": null,
            "grid_auto_rows": null,
            "grid_column": null,
            "grid_gap": null,
            "grid_row": null,
            "grid_template_areas": null,
            "grid_template_columns": null,
            "grid_template_rows": null,
            "height": "28px",
            "justify_content": null,
            "justify_items": null,
            "left": null,
            "margin": null,
            "max_height": null,
            "max_width": null,
            "min_height": null,
            "min_width": null,
            "object_fit": null,
            "object_position": null,
            "order": null,
            "overflow": null,
            "overflow_x": null,
            "overflow_y": null,
            "padding": "0px 0px 0px 4px",
            "right": null,
            "top": null,
            "visibility": null,
            "width": "28px"
          }
        },
        "759a33b581794218b006b4cb805c8cbb": {
          "model_module": "@jupyter-widgets/controls",
          "model_name": "DescriptionStyleModel",
          "model_module_version": "1.5.0",
          "state": {
            "_model_module": "@jupyter-widgets/controls",
            "_model_module_version": "1.5.0",
            "_model_name": "DescriptionStyleModel",
            "_view_count": null,
            "_view_module": "@jupyter-widgets/base",
            "_view_module_version": "1.2.0",
            "_view_name": "StyleView",
            "description_width": ""
          }
        },
        "d81482728d8c48efabe36602ade7909f": {
          "model_module": "jupyter-leaflet",
          "model_name": "LeafletTileLayerModel",
          "model_module_version": "^0.17",
          "state": {
            "_model_module": "jupyter-leaflet",
            "_model_module_version": "^0.17",
            "_model_name": "LeafletTileLayerModel",
            "_view_count": null,
            "_view_module": "jupyter-leaflet",
            "_view_module_version": "^0.17",
            "_view_name": "LeafletTileLayerView",
            "attribution": "Google Earth Engine",
            "base": false,
            "bottom": true,
            "bounds": null,
            "detect_retina": false,
            "loading": false,
            "max_native_zoom": null,
            "max_zoom": 24,
            "min_native_zoom": null,
            "min_zoom": 0,
            "name": "Minimum Water Extent",
            "no_wrap": false,
            "opacity": 1,
            "options": [
              "attribution",
              "bounds",
              "detect_retina",
              "max_native_zoom",
              "max_zoom",
              "min_native_zoom",
              "min_zoom",
              "no_wrap",
              "tile_size",
              "tms",
              "zoom_offset"
            ],
            "pane": "",
            "popup": null,
            "popup_max_height": null,
            "popup_max_width": 300,
            "popup_min_width": 50,
            "show_loading": false,
            "subitems": [],
            "tile_size": 256,
            "tms": false,
            "url": "https://earthengine.googleapis.com/v1/projects/earthengine-legacy/maps/315e49b88a5845ec3942ab6531c1b803-71dc2bc858964d3a8278086f6c07d124/tiles/{z}/{x}/{y}",
            "visible": true,
            "zoom_offset": 0
          }
        },
        "b2d41b81e8ca4e40987cf6e4042bc338": {
          "model_module": "jupyter-leaflet",
          "model_name": "LeafletTileLayerModel",
          "model_module_version": "^0.17",
          "state": {
            "_model_module": "jupyter-leaflet",
            "_model_module_version": "^0.17",
            "_model_name": "LeafletTileLayerModel",
            "_view_count": null,
            "_view_module": "jupyter-leaflet",
            "_view_module_version": "^0.17",
            "_view_name": "LeafletTileLayerView",
            "attribution": "Google Earth Engine",
            "base": false,
            "bottom": true,
            "bounds": null,
            "detect_retina": false,
            "loading": true,
            "max_native_zoom": null,
            "max_zoom": 24,
            "min_native_zoom": null,
            "min_zoom": 0,
            "name": "SAR_ProbabilityRaster",
            "no_wrap": false,
            "opacity": 1,
            "options": [
              "attribution",
              "bounds",
              "detect_retina",
              "max_native_zoom",
              "max_zoom",
              "min_native_zoom",
              "min_zoom",
              "no_wrap",
              "tile_size",
              "tms",
              "zoom_offset"
            ],
            "pane": "",
            "popup": null,
            "popup_max_height": null,
            "popup_max_width": 300,
            "popup_min_width": 50,
            "show_loading": false,
            "subitems": [],
            "tile_size": 256,
            "tms": false,
            "url": "https://earthengine.googleapis.com/v1/projects/earthengine-legacy/maps/d6b764ff320ffa4cb7f75f0d665ba1e7-1d443dfb3dbe28ff9db4cad608b9acdc/tiles/{z}/{x}/{y}",
            "visible": true,
            "zoom_offset": 0
          }
        },
        "3efc1252c929410d9b67f0abd27ff7ee": {
          "model_module": "jupyter-leaflet",
          "model_name": "LeafletTileLayerModel",
          "model_module_version": "^0.17",
          "state": {
            "_model_module": "jupyter-leaflet",
            "_model_module_version": "^0.17",
            "_model_name": "LeafletTileLayerModel",
            "_view_count": null,
            "_view_module": "jupyter-leaflet",
            "_view_module_version": "^0.17",
            "_view_name": "LeafletTileLayerView",
            "attribution": "Google Earth Engine",
            "base": false,
            "bottom": true,
            "bounds": null,
            "detect_retina": false,
            "loading": true,
            "max_native_zoom": null,
            "max_zoom": 24,
            "min_native_zoom": null,
            "min_zoom": 0,
            "name": "DW_ProbabilityRaster",
            "no_wrap": false,
            "opacity": 1,
            "options": [
              "attribution",
              "bounds",
              "detect_retina",
              "max_native_zoom",
              "max_zoom",
              "min_native_zoom",
              "min_zoom",
              "no_wrap",
              "tile_size",
              "tms",
              "zoom_offset"
            ],
            "pane": "",
            "popup": null,
            "popup_max_height": null,
            "popup_max_width": 300,
            "popup_min_width": 50,
            "show_loading": false,
            "subitems": [],
            "tile_size": 256,
            "tms": false,
            "url": "https://earthengine.googleapis.com/v1/projects/earthengine-legacy/maps/f7ec680b422e9c6e9c0c2112f656cf3e-1179ab48c1f14c4d859f3a895d53b6d4/tiles/{z}/{x}/{y}",
            "visible": true,
            "zoom_offset": 0
          }
        }
      }
    }
  },
  "cells": [
    {
      "cell_type": "markdown",
      "source": [
        "###Setting up the environment and install packages"
      ],
      "metadata": {
        "id": "B94lfnwE_kKM"
      }
    },
    {
      "cell_type": "code",
      "execution_count": null,
      "metadata": {
        "id": "aFeNGSdOwu3T"
      },
      "outputs": [],
      "source": [
        "#pip install earthengine-api --upgrade\n",
        "\n",
        "import subprocess\n",
        "try:\n",
        "  import geemap\n",
        "except ImportError:\n",
        "  print('geemap package not installed. Installing ...')\n",
        "  subprocess.check_call([\"python\", '-m', 'pip', 'install', 'geemap'])\n",
        "  import geemap\n",
        "try:\n",
        "  import geetools\n",
        "except ImportError:\n",
        "  print('geetools package not installed. Installing ...')\n",
        "  subprocess.check_call([\"python\", '-m', 'pip', 'install', 'geetools'])\n",
        "  import geetools\n",
        "\n",
        "import ee\n",
        "try:\n",
        "  ee.Initialize()\n",
        "except Exception as e:\n",
        "  ee.Authenticate()\n",
        "  ee.Initialize()\n",
        "\n",
        "Map = geemap.Map()"
      ]
    },
    {
      "cell_type": "markdown",
      "source": [
        "### ***Set Up Input parameters (AOI, Time Range, Number of Samples)\n"
      ],
      "metadata": {
        "id": "ToGAaGQd_xr4"
      }
    },
    {
      "cell_type": "code",
      "source": [
        "# Specify area of interest (change path to the GEE asset); This input polygon should capture most areas of the reservoir\n",
        "aoi = ee.FeatureCollection('projects/ee-climatechangehydrology/assets/test_aoi')\n",
        "buffer_size = 250\n",
        "\n",
        "# Create a buffer\n",
        "aoi_buff = (aoi.geometry()).buffer(buffer_size)\n",
        "aoi_buff = ee.Feature(aoi_buff)\n",
        "\n",
        "# Set up a function to clip the images within the aoi buffer zone\n",
        "def clip_to_aoi_buff(imagecollection):\n",
        "  return imagecollection.clip(aoi_buff)\n",
        "\n",
        "# **** A buffer is needed three major reasons:\n",
        "#1. Reduce the size of the image collection for intermediate processsing;\n",
        "#2. Controls the training samples to be within a specified distance;\n",
        "#3. Clipping the final outcomes for export\n",
        "\n",
        "# Number of training points\n",
        "numWaterPts = 250\n",
        "numLandPts = 250\n",
        "\n",
        "######  Specify filter dates for the Sentinel-1 images ###########\n",
        "Yr2015 =  ee.Filter.date('2015-06-01', '2015-09-01')\n",
        "Yr2016 =  ee.Filter.date('2016-06-01', '2016-09-01')\n",
        "Yr2017 =  ee.Filter.date('2017-06-01', '2017-09-01')\n",
        "Yr2018 =  ee.Filter.date('2018-06-01', '2018-09-01')\n",
        "Yr2019 =  ee.Filter.date('2019-06-01', '2019-09-01')\n",
        "Yr2020 =  ee.Filter.date('2020-06-01', '2020-09-01')\n",
        "Yr2021 =  ee.Filter.date('2021-06-01', '2021-09-01')\n",
        "Yr2022 =  ee.Filter.date('2022-06-01', '2022-09-01')\n",
        "\n",
        "# Combine these dates to create a single time filter\n",
        "TimeFilter = ee.Filter.Or(Yr2015, Yr2016, Yr2017,Yr2018,Yr2019,Yr2020,Yr2021,Yr2022)\n",
        "#TimeFilter = ee.Filter.Or(Yr2017)"
      ],
      "metadata": {
        "id": "LdkfNCRK_ztH"
      },
      "execution_count": null,
      "outputs": []
    },
    {
      "cell_type": "markdown",
      "source": [
        "###Specify where you want to export the data to"
      ],
      "metadata": {
        "id": "ba1Mj2OUGa_s"
      }
    },
    {
      "cell_type": "code",
      "source": [
        "# What's the Name of the reservoir?\n",
        "res_name = 'ArnPrior'\n",
        "\n",
        "# Name of the folder you want to export to on Google Drive (a new one will be created if none exists)\n",
        "FolderName = 'HydroReservoir_Data'\n",
        "\n",
        "# Path of your GEE directory where you want to export the data as an Google Asset\n",
        "GEE_AssetDirectory = 'projects/ee-climatechangehydrology/assets/'\n",
        "\n",
        "# Give a readable name for your export task (this will be shown on GEE's task manager)\n",
        "TaskDescription_Probability = str(res_name)+'_ProbailityMap'"
      ],
      "metadata": {
        "id": "3AguHDyMGbSy"
      },
      "execution_count": null,
      "outputs": []
    },
    {
      "cell_type": "markdown",
      "source": [
        "### Create a SAR Image Stack"
      ],
      "metadata": {
        "id": "rydMvJoRALX7"
      }
    },
    {
      "cell_type": "code",
      "source": [
        "s1_stack = ee.ImageCollection('COPERNICUS/S1_GRD')  \\\n",
        "    .filter(ee.Filter.listContains('transmitterReceiverPolarisation', 'VV')) \\\n",
        "    .filter(ee.Filter.listContains('transmitterReceiverPolarisation', 'VH')) \\\n",
        "    .filter(ee.Filter.eq('instrumentMode', 'IW'))  \\\n",
        "    .filter(TimeFilter)\\\n",
        "    .filterBounds(aoi)\\\n",
        "    .filterMetadata('orbitProperties_pass', 'equals', 'ASCENDING')\\\n",
        "    .map(clip_to_aoi_buff)\\\n",
        "\n",
        "# Change the image values to float type\n",
        "s1_stack = s1_stack.map(lambda image: image.toFloat())\n",
        "\n",
        "#Get Track Numbers of the Images (more tracks = increase complexity)\n",
        "track_num = s1_stack.aggregate_array('relativeOrbitNumber_start')\n",
        "#track_num.distinct()"
      ],
      "metadata": {
        "id": "7Ju3QVeJAFwT"
      },
      "execution_count": null,
      "outputs": []
    },
    {
      "cell_type": "markdown",
      "source": [
        "### Filter Image Stack with the Most Frequent Orbital Track (avoid using data from multiple tracks for training samples)"
      ],
      "metadata": {
        "id": "NAbeLQd2AQEn"
      }
    },
    {
      "cell_type": "code",
      "source": [
        "# Get the most common orbital track from the initial image stack (best track to use for training the model)\n",
        "best_track = track_num.reduce(ee.Reducer.mode())\n",
        "best_track = ee.Number(best_track)\n",
        "\n",
        "# Filter the image stack to include images only for this track\n",
        "s1_stack = s1_stack.filterMetadata('relativeOrbitNumber_start', 'equals', best_track)"
      ],
      "metadata": {
        "id": "VTM9f98EAQU-"
      },
      "execution_count": null,
      "outputs": []
    },
    {
      "cell_type": "markdown",
      "source": [
        "###Save the Original Image Properties"
      ],
      "metadata": {
        "id": "uCiehdaHAVUX"
      }
    },
    {
      "cell_type": "code",
      "source": [
        "# Save all the image properties as a list so that the final images can have metadata appended.\n",
        "# This step is needed because metadata will be removed after the LEE filter is applied\n",
        "\n",
        "savedSystemIndexList = s1_stack.aggregate_array('system:index')\n",
        "savedOrbitPropertiesPassList = s1_stack.aggregate_array('orbitProperties_pass')\n",
        "savedRelativeOrbitStartList = s1_stack.aggregate_array('relativeOrbitNumber_start')\n",
        "savedTimeStartList = s1_stack.aggregate_array('system:time_start')"
      ],
      "metadata": {
        "id": "YNRXI4QMAVif"
      },
      "execution_count": null,
      "outputs": []
    },
    {
      "cell_type": "markdown",
      "source": [
        "### Set Up the Refined Lee Filter and Apply the Filter to the \"VV\" and \"VH\" Bands using a 7x7 Kernel"
      ],
      "metadata": {
        "id": "JPiJrbrhAgcb"
      }
    },
    {
      "cell_type": "code",
      "source": [
        "# @title Set Up a 7x7 Refined LEE Filter\n",
        "# Source: https://mygeoblog.com/2018/02/16/timeseries-with-sar/\n",
        "\n",
        "# Convert image from db to natural units:\n",
        "toNatural = lambda img: ee.Image(10.0).pow(img.select(0).divide(10.0))\n",
        "\n",
        "# After running the filter, convert the natural units back to dB\n",
        "toDB = lambda img: ee.Image(img).log10().multiply(10.0)\n",
        "\n",
        "def RefinedLee(img):\n",
        "  # img must be in natural units, i.e. not in dB!\n",
        "  # Set up a 7x7 kernel\n",
        "  myimg = toNatural(img)\n",
        "  weights7 = ee.List.repeat(ee.List.repeat(1,7),7)\n",
        "  kernel7 = ee.Kernel.fixed(7,7, weights7, 1, 1, False)\n",
        "  mean7 = myimg.reduceNeighborhood(ee.Reducer.mean(), kernel7)\n",
        "  variance7 = myimg.reduceNeighborhood(ee.Reducer.variance(), kernel7)\n",
        "\n",
        "  # Use a sample of the 7x7 windows inside a 15x15 windows to determine gradients and directions\n",
        "  sample_weights = ee.List([\n",
        "      [0,0,0,0,0,0,0,0,0,0,0,0,0,0,0],\n",
        "      [0,1,0,1,0,1,0,1,0,1,0,1,0,1,0],\n",
        "      [0,0,0,0,0,0,0,0,0,0,0,0,0,0,0],\n",
        "      [0,1,0,1,0,1,0,1,0,1,0,1,0,1,0],\n",
        "      [0,0,0,0,0,0,0,0,0,0,0,0,0,0,0],\n",
        "      [0,1,0,1,0,1,0,1,0,1,0,1,0,1,0],\n",
        "      [0,0,0,0,0,0,0,0,0,0,0,0,0,0,0],\n",
        "      [0,1,0,1,0,1,0,1,0,1,0,1,0,1,0],\n",
        "      [0,0,0,0,0,0,0,0,0,0,0,0,0,0,0],\n",
        "      [0,1,0,1,0,1,0,1,0,1,0,1,0,1,0],\n",
        "      [0,0,0,0,0,0,0,0,0,0,0,0,0,0,0],\n",
        "      [0,1,0,1,0,1,0,1,0,1,0,1,0,1,0],\n",
        "      [0,0,0,0,0,0,0,0,0,0,0,0,0,0,0],\n",
        "      [0,1,0,1,0,1,0,1,0,1,0,1,0,1,0],\n",
        "      [0,0,0,0,0,0,0,0,0,0,0,0,0,0,0]\n",
        "  ])\n",
        "  sample_kernel = ee.Kernel.fixed(15,15, sample_weights, 7,7, False)\n",
        "\n",
        "  # Calculate mean and variance for the sampled windows and store as 9 bands\n",
        "  sample_mean = mean7.neighborhoodToBands(sample_kernel)\n",
        "  sample_var = variance7.neighborhoodToBands(sample_kernel)\n",
        "\n",
        "  # Determine the 4 gradients for the sampled windows\n",
        "  gradients = sample_mean.select(1).subtract(sample_mean.select(7)).abs()\n",
        "  gradients = gradients.addBands(sample_mean.select(6).subtract(sample_mean.select(2)).abs())\n",
        "  gradients = gradients.addBands(sample_mean.select(3).subtract(sample_mean.select(5)).abs())\n",
        "  gradients = gradients.addBands(sample_mean.select(0).subtract(sample_mean.select(8)).abs())\n",
        "\n",
        "  # And find the maximum gradient amongst gradient bands\n",
        "  max_gradient = gradients.reduce(ee.Reducer.max())\n",
        "\n",
        "  # Create a mask for band pixels that are the maximum gradient\n",
        "  gradmask = gradients.eq(max_gradient)\n",
        "\n",
        "  # duplicate gradmask bands: each gradient represents 2 directions\n",
        "  gradmask = gradmask.addBands(gradmask)\n",
        "\n",
        "  # Determine the 8 directions\n",
        "  directions = sample_mean.select(1).subtract(sample_mean.select(4)).gt(sample_mean.select(4).subtract(sample_mean.select(7))).multiply(1)\n",
        "  directions = directions.addBands(sample_mean.select(6).subtract(sample_mean.select(4)).gt(sample_mean.select(4).subtract(sample_mean.select(2))).multiply(2))\n",
        "  directions = directions.addBands(sample_mean.select(3).subtract(sample_mean.select(4)).gt(sample_mean.select(4).subtract(sample_mean.select(5))).multiply(3))\n",
        "  directions = directions.addBands(sample_mean.select(0).subtract(sample_mean.select(4)).gt(sample_mean.select(4).subtract(sample_mean.select(8))).multiply(4))\n",
        "  # The next 4 are the not() of the previous 4\n",
        "  directions = directions.addBands(directions.select(0).Not().multiply(5))\n",
        "  directions = directions.addBands(directions.select(1).Not().multiply(6))\n",
        "  directions = directions.addBands(directions.select(2).Not().multiply(7))\n",
        "  directions = directions.addBands(directions.select(3).Not().multiply(8))\n",
        "\n",
        "  # Mask all values that are not 1-8\n",
        "  directions = directions.updateMask(gradmask)\n",
        "\n",
        "  # \"collapse\" the stack into a singe band image (due to masking, each pixel has just one value (1-8) in it's directional band, and is otherwise masked)\n",
        "  directions = directions.reduce(ee.Reducer.sum())\n",
        "  sample_stats = sample_var.divide(sample_mean.multiply(sample_mean))\n",
        "\n",
        "  # Calculate localNoiseVariance\n",
        "  sigmaV = sample_stats.toArray().arraySort().arraySlice(0,0,5).arrayReduce(ee.Reducer.mean(), [0])\n",
        "\n",
        "  # Set up the 15*15 kernels for directional statistics\n",
        "  rect_weights = ee.List.repeat(ee.List.repeat(0,15),7).cat(ee.List.repeat(ee.List.repeat(1,15),8))\n",
        "\n",
        "  diag_weights = ee.List([\n",
        "      [1,0,0,0,0,0,0,0,0,0,0,0,0,0,0],\n",
        "      [1,1,0,0,0,0,0,0,0,0,0,0,0,0,0],\n",
        "      [1,1,1,0,0,0,0,0,0,0,0,0,0,0,0],\n",
        "      [1,1,1,1,0,0,0,0,0,0,0,0,0,0,0],\n",
        "      [1,1,1,1,1,0,0,0,0,0,0,0,0,0,0],\n",
        "      [1,1,1,1,1,1,0,0,0,0,0,0,0,0,0],\n",
        "      [1,1,1,1,1,1,1,0,0,0,0,0,0,0,0],\n",
        "      [1,1,1,1,1,1,1,1,0,0,0,0,0,0,0],\n",
        "      [1,1,1,1,1,1,1,1,1,0,0,0,0,0,0],\n",
        "      [1,1,1,1,1,1,1,1,1,1,0,0,0,0,0],\n",
        "      [1,1,1,1,1,1,1,1,1,1,1,0,0,0,0],\n",
        "      [1,1,1,1,1,1,1,1,1,1,1,1,0,0,0],\n",
        "      [1,1,1,1,1,1,1,1,1,1,1,1,1,0,0],\n",
        "      [1,1,1,1,1,1,1,1,1,1,1,1,1,1,0],\n",
        "      [1,1,1,1,1,1,1,1,1,1,1,1,1,1,1]\n",
        "  ])\n",
        "\n",
        "  rect_kernel = ee.Kernel.fixed(15,15, rect_weights, 7, 7, False)\n",
        "  diag_kernel = ee.Kernel.fixed(15,15, diag_weights, 7, 7, False)\n",
        "\n",
        "  # Create stacks for mean and variance using the original kernels. Mask with relevant direction.\n",
        "  dir_mean = myimg.reduceNeighborhood(ee.Reducer.mean(), rect_kernel).updateMask(directions.eq(1))\n",
        "  dir_var = myimg.reduceNeighborhood(ee.Reducer.variance(), rect_kernel).updateMask(directions.eq(1))\n",
        "\n",
        "  dir_mean = dir_mean.addBands(myimg.reduceNeighborhood(ee.Reducer.mean(), diag_kernel).updateMask(directions.eq(2)))\n",
        "  dir_var = dir_var.addBands(myimg.reduceNeighborhood(ee.Reducer.variance(), diag_kernel).updateMask(directions.eq(2)))\n",
        "\n",
        "  # and add the bands for rotated kernels\n",
        "  for i in range(1, 8):\n",
        "    dir_mean = dir_mean.addBands(myimg.reduceNeighborhood(ee.Reducer.mean(), rect_kernel.rotate(i)).updateMask(directions.eq(2*i+1)))\n",
        "    dir_var = dir_var.addBands(myimg.reduceNeighborhood(ee.Reducer.variance(), rect_kernel.rotate(i)).updateMask(directions.eq(2*i+1)))\n",
        "    dir_mean = dir_mean.addBands(myimg.reduceNeighborhood(ee.Reducer.mean(), diag_kernel.rotate(i)).updateMask(directions.eq(2*i+2)))\n",
        "    dir_var = dir_var.addBands(myimg.reduceNeighborhood(ee.Reducer.variance(), diag_kernel.rotate(i)).updateMask(directions.eq(2*i+2)))\n",
        "\n",
        "  # \"collapse\" the stack into a single band image (due to masking, each pixel has just one value in it's directional band, and is otherwise masked)\n",
        "  dir_mean = dir_mean.reduce(ee.Reducer.sum())\n",
        "  dir_var = dir_var.reduce(ee.Reducer.sum())\n",
        "\n",
        "  # A finally generate the filtered value\n",
        "  varX = dir_var.subtract(dir_mean.multiply(dir_mean).multiply(sigmaV)).divide(sigmaV.add(1.0))\n",
        "  b = varX.divide(dir_var)\n",
        "  result = dir_mean.add(b.multiply(myimg.subtract(dir_mean)))\n",
        "  return ee.Image(toDB(result.arrayGet(0))).toFloat()"
      ],
      "metadata": {
        "cellView": "form",
        "id": "sqvZt6T3AeJU"
      },
      "execution_count": null,
      "outputs": []
    },
    {
      "cell_type": "code",
      "source": [
        "# @title Apply the LEE Filter to VV and VH\n",
        "\n",
        "# The bands for VV and VH are both named 'sum' after the Lee filter is applied, and are renamed back to VV and VH afterwards\n",
        "s1_LeeVV = s1_stack.select('VV').map(RefinedLee).select(['sum'], ['VV'])\n",
        "s1_LeeVH = s1_stack.select('VH').map(RefinedLee).select(['sum'], ['VH'])\n",
        "\n",
        "# Save the angle band and a dummy collection with no bands\n",
        "s1_angle = s1_stack.select(['angle'])\n",
        "dummy = s1_stack.select([])\n",
        "\n",
        "# Creating the filter for the joins\n",
        "filter = ee.Filter.equals(leftField = 'system:index', rightField = 'system:index')\n",
        "\n",
        "# Create the simple join\n",
        "simpleJoin = ee.Join.inner();\n",
        "\n",
        "# Function used with the inner joins\n",
        "doFeaturePrimarySecondary = lambda feature: ee.Image.cat(feature.get('primary'), feature.get('secondary'))\n",
        "\n",
        "# Create the inner join for merging the VV and VH collections\n",
        "# Join the VV and VH into a single image collection\n",
        "innerJoin = ee.ImageCollection(simpleJoin.apply(s1_LeeVV, s1_LeeVH, filter))\n",
        "s1_VV_VH = innerJoin.map(doFeaturePrimarySecondary)\n",
        "\n",
        "# Create the inner join for merging the angle and dummy collections\n",
        "# Join angle and dummy into a single image collection\n",
        "innerJoin2 = ee.ImageCollection(simpleJoin.apply(s1_angle, dummy, filter))\n",
        "s1_angle_dummy = innerJoin2.map(doFeaturePrimarySecondary)\n",
        "\n",
        "# Create the inner join for merging the angle and dummy collections\n",
        "# Join VV_VH and angle_dummy into a single image collection\n",
        "innerJoin3 = ee.ImageCollection(simpleJoin.apply(s1_VV_VH, s1_angle_dummy, filter))\n",
        "s1_stack = innerJoin3.map(doFeaturePrimarySecondary)"
      ],
      "metadata": {
        "cellView": "form",
        "id": "yj3oG8u0Aejv"
      },
      "execution_count": null,
      "outputs": []
    },
    {
      "cell_type": "markdown",
      "source": [
        "###Calculate Standard Deviation and GLCM using a 7x7 Kernel"
      ],
      "metadata": {
        "id": "ZB2BFJnLAtu2"
      }
    },
    {
      "cell_type": "code",
      "source": [
        "####### Standard Deviation #################\n",
        "def compute_VV_stdDev(image):\n",
        "    VV_stdDev = image.select('VV').reduceNeighborhood(reducer = ee.Reducer.stdDev(), kernel = ee.Kernel.square(7))\n",
        "    return image.addBands(VV_stdDev)\n",
        "s1_stack = s1_stack.map(compute_VV_stdDev)\n",
        "\n",
        "def compute_VH_stdDev(image):\n",
        "    VH_stdDev = image.select('VH').reduceNeighborhood(reducer = ee.Reducer.stdDev(), kernel = ee.Kernel.square(7))\n",
        "    return image.addBands(VH_stdDev)\n",
        "s1_stack = s1_stack.map(compute_VH_stdDev)\n",
        "\n",
        "####### GLCM bands #################\n",
        "glcm_bands = ['VH_asm', 'VH_contrast', 'VH_corr', 'VH_idm']\n",
        "def addGLCM(image):\n",
        "  img16 = ee.Image(image).toInt16()# Ensures variables are stored in 16-bit integers\n",
        "  glcm = img16.glcmTexture(size = 7).select(glcm_bands).toFloat()\n",
        "  return image.addBands(glcm)\n",
        "\n",
        "s1_stack = s1_stack.map(addGLCM)"
      ],
      "metadata": {
        "id": "Bjl8-GQZArse"
      },
      "execution_count": null,
      "outputs": []
    },
    {
      "cell_type": "markdown",
      "source": [
        "### Add Properities Back to the Filtered Stack"
      ],
      "metadata": {
        "id": "zGbyBGeiAy25"
      }
    },
    {
      "cell_type": "code",
      "source": [
        "# Make a list of index values and turn the image collection into a list\n",
        "indexList = ee.List.sequence(0, s1_stack.size().subtract(1))\n",
        "listOfImages = s1_stack.toList(s1_stack.size())\n",
        "\n",
        "# Function for adding the properties back to the images\n",
        "def addProperties(index):\n",
        "  # Get the image at the index\n",
        "  image = ee.Image(listOfImages.get(index))\n",
        "  # Get the properties from the saved lists based on the index\n",
        "  systemIndex = savedSystemIndexList.get(index)\n",
        "  orbitPropertiesPass = savedOrbitPropertiesPassList.get(index)\n",
        "  relativeOrbitStart = savedRelativeOrbitStartList.get(index)\n",
        "  timeStart = savedTimeStartList.get(index)\n",
        "\n",
        "  # Change the properties to the format that is needed for the exported image name and add them back to the image\n",
        "  image = image.set('savedSystemIndex', ee.String(systemIndex).slice(0, 32))\n",
        "  image = image.set('savedOrbitPropertiesPass', ee.String(orbitPropertiesPass).slice(0, 3))\n",
        "  image = image.set('savedRelativeOrbitStart', (ee.Number(relativeOrbitStart).toByte()).format())\n",
        "  image = image.set('system:time_start', ee.Number(timeStart))\n",
        "  return image\n",
        "\n",
        "# Now all properties are returned to the images\n",
        "s1_stack_finalized = ee.ImageCollection(indexList.map(addProperties))\n",
        "\n",
        "# Check if all the bands are added to the stack\n",
        "#stack_finalized_json = s1_stack_finalized.getInfo()\n",
        "#stacked_img_json = getImageFromCollection(stack_finalized_json)\n",
        "#printImageBands(stacked_img_json)"
      ],
      "metadata": {
        "id": "cK8FVBbYAsd-"
      },
      "execution_count": null,
      "outputs": []
    },
    {
      "cell_type": "markdown",
      "source": [
        "### Mosaic Adjacent Images and Remove Duplicates"
      ],
      "metadata": {
        "id": "6gnZOI7IA-zo"
      }
    },
    {
      "cell_type": "code",
      "source": [
        "###### Mosaic adjacent images that were taken on the same day ###########\n",
        "# Source: https://gis.stackexchange.com/questions/369057/google-earth-engine-roi-area-falling-outside-partial-coverage-by-sentinel-1-tile/370455#370455\n",
        "\n",
        "def makeMosaics(image):\n",
        "  thisImage = ee.Image(image)\n",
        "  date = ee.Date(thisImage.get('system:time_start'))\n",
        "  orbitPropertiesPass = thisImage.get('savedOrbitPropertiesPass')\n",
        "  filtered_stack = s1_stack_finalized  \\\n",
        "    .filterDate(date, date.advance(1,'day'))  \\\n",
        "    .filter(ee.Filter.eq('savedOrbitPropertiesPass', orbitPropertiesPass))\n",
        "  # Mosaic the filtered images together and copy the metadata/image properties\n",
        "  return ee.Image(filtered_stack.mosaic().copyProperties(image, ['system:time_start', 'savedSystemIndex', 'savedOrbitPropertiesPass', 'savedRelativeOrbitStart']))\n",
        "\n",
        "s1_stack_mosaic = s1_stack_finalized.map(makeMosaics)\n",
        "\n",
        "###### Remove images that were acquired but processed at different dates (a Sentinel-1 problem)###########\n",
        "# Source: https://gis.stackexchange.com/questions/336257/filter-out-duplicate-sentinel-2-images-form-earth-engine-image-collection-by-dat\n",
        "\n",
        "# Generate a list from the mosaiced images\n",
        "compareDateListOriginal = s1_stack_mosaic.toList(s1_stack_mosaic.size())\n",
        "# Create an list with a dummy image with a dummy date\n",
        "startList = ee.List([ee.Image().set('system:time_start', ee.Date(0))])\n",
        "# Add the dummy list to the beginning of the mosaiced list\n",
        "compareDateList = startList.cat(compareDateListOriginal)\n",
        "\n",
        "# Function to find all the duplicates\n",
        "def findDuplicates(image):\n",
        "  # Index of the image in the list\n",
        "  index = compareDateList.indexOf(image)\n",
        "  # Get the previous image in the list\n",
        "  prevImage = ee.Image(compareDateList.get(index.subtract(1)))\n",
        "  # Compare date of the image with the date of the previous image in the list\n",
        "  date1 = ee.Date(image.get('system:time_start')).format('Y-M-d')\n",
        "  date2 = ee.Date(prevImage.get('system:time_start')).format('Y-M-d')\n",
        "  duplicateCheck = ee.Algorithms.IsEqual(date1, date2)\n",
        "  # String reprisenting if image is a duplicate or not\n",
        "  isDuplicate = ee.String('')\n",
        "  # Set the string\n",
        "  isDuplicate = ee.String(ee.Algorithms.If(condition = duplicateCheck, trueCase = 'duplicate', falseCase = 'no duplicate'))\n",
        "  return image.set('duplicate', isDuplicate)\n",
        "\n",
        "# Find all the duplicates and then filter to remove them\n",
        "s1_stack_check = s1_stack_mosaic.map(findDuplicates)\n",
        "s1_stack_no_duplicates = s1_stack_check.filter(ee.Filter.eq('duplicate', 'no duplicate'))\n",
        "\n",
        "# Get info on the number of images on the image stack after mosaic and removing duplicates:\n",
        "num_images = s1_stack_no_duplicates.size()\n",
        "#num_images"
      ],
      "metadata": {
        "id": "DtWdldRqA9cr"
      },
      "execution_count": null,
      "outputs": []
    },
    {
      "cell_type": "markdown",
      "source": [
        "### Create an \"ID\" field for the Image Stack"
      ],
      "metadata": {
        "id": "9Ir3Dl4qBCfI"
      }
    },
    {
      "cell_type": "code",
      "source": [
        "# Without the ID field, the script can run into issues\n",
        "# Make a list of id values the size of s1_stack (mosaic, no duplicates)\n",
        "list_of_ids = ee.List.sequence(0, s1_stack_no_duplicates.size().subtract(1))\n",
        "# Turn s1_stack into a list\n",
        "stack_list = s1_stack_no_duplicates.toList(s1_stack_no_duplicates.size())\n",
        "\n",
        "# Function for adding the index value as the property ID (unique id# = system index#)\n",
        "def addID(index):\n",
        "  image = ee.Image(stack_list.get(index))\n",
        "  indexNum = ee.Number(index)\n",
        "  image = image.set('ID', indexNum)\n",
        "  return image\n",
        "s1_stack = ee.ImageCollection(list_of_ids.map(addID))"
      ],
      "metadata": {
        "id": "W-friFylA9X-"
      },
      "execution_count": null,
      "outputs": []
    },
    {
      "cell_type": "markdown",
      "source": [
        "###Get Permanent Water and Land Areas from Dynamic World"
      ],
      "metadata": {
        "id": "txZXpzYfBFjo"
      }
    },
    {
      "cell_type": "code",
      "source": [
        "#Import the water layer from \"Dynamic World\"\n",
        "#Create a composite with values of average probability for water\n",
        "\n",
        "dw_water = ee.ImageCollection('GOOGLE/DYNAMICWORLD/V1')\\\n",
        "    .filter(TimeFilter)\\\n",
        "    .filterBounds(aoi)\\\n",
        "    .map(clip_to_aoi_buff)\\\n",
        "    .mean()\\\n",
        "    .select('water').rename('class')\n",
        "\n",
        "# Set a <5% threshold to get permanent land areas, set land = 0\n",
        "perm_land = dw_water.lt(0.05)\n",
        "perm_land = perm_land.selfMask()\n",
        "perm_land = perm_land.where(perm_land.eq(1), 0)\n",
        "perm_land = perm_land.toInt()\n",
        "\n",
        "# Set a >50% threshold to get permanent water areas\n",
        "perm_water = dw_water.gt(0.50)\n",
        "perm_water = perm_water.selfMask()\n",
        "perm_water = perm_water.toInt()\n",
        "\n",
        "# Now label is renamed as \"class\", where water = 1 and land = 0"
      ],
      "metadata": {
        "id": "Hn-8MoO0A9RT"
      },
      "execution_count": null,
      "outputs": []
    },
    {
      "cell_type": "markdown",
      "source": [
        "### Set Up Functions to Create Training Points and Obtain Training Data"
      ],
      "metadata": {
        "id": "kqB9ZOqIBJuT"
      }
    },
    {
      "cell_type": "code",
      "source": [
        "# Define the geometry for where samples are contained\n",
        "# Using the filtered s1_stack (1 orbital track), we want to limit the samples within the image extent instead of 'aoi_buff'\n",
        "\n",
        "def settingGeometry(f):\n",
        "  return f.setGeometry(ee.Geometry.Point([f.get('longitude'), f.get('latitude')]))\n",
        "\n",
        "# Obtain water samples\n",
        "def getWaterPoints(points, seedValue, imgGeo):\n",
        "  waterPts = perm_water.addBands(ee.Image.pixelLonLat())\\\n",
        "    .stratifiedSample(\n",
        "      numPoints = points,\n",
        "      classBand = 'class',\n",
        "      projection = 'EPSG:4326',\n",
        "      scale = 10,\n",
        "      region = imgGeo,\n",
        "      seed = seedValue\n",
        "    ).map(settingGeometry)\n",
        "  return waterPts\n",
        "\n",
        "# Obtain land samples\n",
        "def getLandPoints(points, seedValue, imgGeo):\n",
        "  landPts = perm_land.addBands(ee.Image.pixelLonLat())\\\n",
        "    .stratifiedSample(\n",
        "      numPoints = points,\n",
        "      classBand = 'class',\n",
        "      projection = 'EPSG:4326',\n",
        "      scale = 10,\n",
        "      region = imgGeo,\n",
        "      seed = seedValue\n",
        "    ).map(settingGeometry)\n",
        "  return landPts\n",
        "\n",
        "# Extract predictor data from the image stack using the water and land samples\n",
        "def extractTraining(image):\n",
        "  imageGeometry = aoi_buff.geometry()\n",
        "  ID = image.get('ID')\n",
        "  WaterPts = getWaterPoints(numWaterPts, ID, imageGeometry)\n",
        "  LandPts = getLandPoints(numLandPts, ID, imageGeometry)\n",
        "  PtsMerged = LandPts.merge(WaterPts)\n",
        "\n",
        "  # Add the \"Pass\" & \"Track\" columns to the point features\n",
        "  def addPass(feature):\n",
        "    return ee.Feature(feature.set('pass', image.get('savedOrbitPropertiesPass')))\n",
        "  PtsMergedWithPass = PtsMerged.map(addPass)\n",
        "  def addTrack(feature):\n",
        "    return ee.Feature(feature.set('track', image.get('savedRelativeOrbitStart')))\n",
        "  PtsMergedWithPassAndTrack = PtsMergedWithPass.map(addTrack)\n",
        "\n",
        "  # Train the points for the image\n",
        "  trainingData = image.select(bands).sampleRegions(collection = PtsMergedWithPassAndTrack, properties = [label, 'pass', 'track'], scale = 10, geometries = True, tileScale = 2)\n",
        "  return trainingData"
      ],
      "metadata": {
        "id": "v8zI7ZOxBJiv"
      },
      "execution_count": null,
      "outputs": []
    },
    {
      "cell_type": "markdown",
      "source": [
        "### Initial Sampling and Get Training Data"
      ],
      "metadata": {
        "id": "RVJWliUZBTbu"
      }
    },
    {
      "cell_type": "code",
      "source": [
        "# Getting all the band names\n",
        "bands = s1_stack.first().bandNames()\n",
        "\n",
        "# The land cover info are stored in the 'class' column (1 = water, 0= land)\n",
        "label = 'class'\n",
        "training_data = s1_stack.map(extractTraining).flatten()"
      ],
      "metadata": {
        "id": "rpWE25XLAsA-"
      },
      "execution_count": null,
      "outputs": []
    },
    {
      "cell_type": "markdown",
      "source": [
        "### Create a Random Forest Classifier"
      ],
      "metadata": {
        "id": "m-4SeDlOBpxU"
      }
    },
    {
      "cell_type": "code",
      "source": [
        "# Specify predictor data bands\n",
        "bands_of_interest = ['VV', 'VH', 'angle', 'VV_stdDev','VH_stdDev','VH_asm', 'VH_contrast', 'VH_corr', 'VH_idm']\n",
        "\n",
        "# Create a random forest classifier with 500 trees\n",
        "ee_classifier = ee.Classifier.smileRandomForest(500).setOutputMode('RAW').train(training_data, label, bands_of_interest)"
      ],
      "metadata": {
        "id": "2MDSHxi4Bs1E"
      },
      "execution_count": null,
      "outputs": []
    },
    {
      "cell_type": "markdown",
      "source": [
        "### Run the Classifier on the Image Collection"
      ],
      "metadata": {
        "id": "4H-3W0JHB8cO"
      }
    },
    {
      "cell_type": "code",
      "source": [
        "## Set up a function to run the rf classifier for every image in the image collection\n",
        "def classification(image):\n",
        "  classified = image.select(bands_of_interest).classify(ee_classifier)\n",
        "  prob = classified.arrayReduce(ee.Reducer.mean(), ee.List([0])).arrayGet(0)\n",
        "  return prob\n",
        "\n",
        "# Apply the RF model to the image collection\n",
        "classified_result = s1_stack.map(classification)\n",
        "\n",
        "### Get the Average Probability Raster ###\n",
        "SAR_WaterProbability = classified_result.mean()"
      ],
      "metadata": {
        "id": "VpVQqphfB8zO"
      },
      "execution_count": null,
      "outputs": []
    },
    {
      "cell_type": "markdown",
      "source": [
        "###Get Max and Min Water Polygons (Data Classification)"
      ],
      "metadata": {
        "id": "OfQBHzhdCG5R"
      }
    },
    {
      "cell_type": "code",
      "source": [
        "import numpy as np\n",
        "# Do a natural breaks classification with three classes (non-water,seasonal water, permanent water)\n",
        "histogram = SAR_WaterProbability.reduceRegion(reducer=ee.Reducer.histogram(),geometry=aoi_buff.geometry(),scale=10)\n",
        "\n",
        "# Extract the histogram values\n",
        "histogram_values = histogram.get('classification')  #Change the band name if needed\n",
        "# Convert histogram values to a list\n",
        "histogram_dict = ee.Dictionary(histogram_values)\n",
        "#Extract the \"buketMeans\" from the dictionary\n",
        "means_arrays = histogram_dict.get('bucketMeans')\n",
        "#Convert the array into a python list and then a numpy array\n",
        "np_array = np.array(means_arrays.getInfo())\n",
        "\n",
        "#Get the break values for the 3 classes\n",
        "values_array = np.histogram(np_array, bins=3)[1]"
      ],
      "metadata": {
        "id": "hvBGnbpSCGZR"
      },
      "execution_count": null,
      "outputs": []
    },
    {
      "cell_type": "code",
      "source": [
        "# Non-water = <=array[1]\n",
        "# seasonal water >array[1] but <=array [2]\n",
        "# Permanent water > array [2] but <=array[3]\n",
        "\n",
        "max_water = SAR_WaterProbability.gt(values_array[1]).selfMask()\n",
        "min_water = SAR_WaterProbability.gt(values_array[2]).selfMask()\n",
        "\n",
        "#Convert to vectors\n",
        "max_water_poly = max_water.reduceToVectors(geometryType='polygon', geometry = aoi_buff.geometry(),scale=10, eightConnected=False, labelProperty='b1',bestEffort=True)\n",
        "min_water_poly = min_water.reduceToVectors(geometryType='polygon', geometry = aoi_buff.geometry(),scale=10, eightConnected=False, labelProperty='b1',bestEffort=True)"
      ],
      "metadata": {
        "id": "vsvNck-pCwaA"
      },
      "execution_count": null,
      "outputs": []
    },
    {
      "cell_type": "code",
      "source": [
        "# Use the histogram to show data distributuion\n",
        "import matplotlib.pyplot as plt\n",
        "\n",
        "# Convert histogram values to a Python list\n",
        "histogram_list = histogram_values.getInfo()\n",
        "\n",
        "# Extract the bucket boundaries and counts\n",
        "bucket_boundaries = histogram_list['bucketMeans']\n",
        "bucket_counts = histogram_list['histogram']\n",
        "\n",
        "# Plot the histogram\n",
        "plt.bar(bucket_boundaries, bucket_counts, width=np.diff(bucket_boundaries)[0])\n",
        "plt.title('Histogram of Image Values')\n",
        "plt.xlabel('Pixel Value')\n",
        "plt.ylabel('Frequency')\n",
        "plt.show()"
      ],
      "metadata": {
        "colab": {
          "base_uri": "https://localhost:8080/",
          "height": 472
        },
        "id": "Fc3tWNwmC5ri",
        "outputId": "bc4d5d44-f121-4fed-bc69-def3cb906d9c"
      },
      "execution_count": null,
      "outputs": [
        {
          "output_type": "display_data",
          "data": {
            "text/plain": [
              "<Figure size 640x480 with 1 Axes>"
            ],
            "image/png": "[encoded data removed]"
          },
          "metadata": {}
        }
      ]
    },
    {
      "cell_type": "code",
      "source": [
        "#Break values\n",
        "values_array"
      ],
      "metadata": {
        "colab": {
          "base_uri": "https://localhost:8080/"
        },
        "id": "E2aTttzUMpDl",
        "outputId": "c3874915-aa6f-4320-f0d9-fa5b42d8357f"
      },
      "execution_count": null,
      "outputs": [
        {
          "output_type": "execute_result",
          "data": {
            "text/plain": [
              "array([0.00109618, 0.33406412, 0.66703206, 1.        ])"
            ]
          },
          "metadata": {},
          "execution_count": 21
        }
      ]
    },
    {
      "cell_type": "markdown",
      "source": [
        "### On-the-Fly Visualizations"
      ],
      "metadata": {
        "id": "-LgH8xuVDJ3p"
      }
    },
    {
      "cell_type": "code",
      "source": [
        "Map.addLayer(max_water_poly, {},'Maximum Water Extent')\n",
        "Map.centerObject(aoi, zoom = 16)\n",
        "Map"
      ],
      "metadata": {
        "colab": {
          "base_uri": "https://localhost:8080/",
          "height": 621,
          "referenced_widgets": [
            "b911b4fe5d0448269871ce359e7b7145",
            "1186d463d0a148ed9e72b6b9641b3fe7",
            "23618bd455604fc2b847bf815a42b7d8",
            "c0401dd8ce5e4aa8b2ac919cb1c9822a",
            "9399a21c84184a96b923994d1937d55e",
            "0532263a729d4b0fa1ea26cb79286469",
            "ba9f65decf8b4c6a8a53ac7104a43a4e",
            "00926a483dff49d5b54fbc25ed2374b3",
            "ec8bcd33ab3749959fd865b1f93a3fd6",
            "99e9b2a25ef340f79a0b7f80721332db",
            "0571b61d56484bf8968be64585015108",
            "9960062d6dd94e6ab373e74e7a8fda07",
            "9eff71b055854b42927444f92f53b56f",
            "d964c1d595ef49b28403163027baa608",
            "fa3d1cff4b414649bc6ad64b8cba37c1",
            "723c9985a7494ff2a1043c1adfecbee0",
            "4a1eafbd27804777b80f9a69067d50c3",
            "3c745804b7f542b1bbe236f26e6d36d7",
            "c90cb37f570b4abf8e4540e1d89ed25a",
            "f093476971d44fc490828abca30a752d",
            "5f616b72a4e54ce4ac369ebf02f0a3e2",
            "151c9c6ecf9e45d49f11d35e8a2c2aa0",
            "9978a02844794c20b23749b9b88ec4b0",
            "5e05519680a94d5c8dc7323466d81d7a",
            "50d6e64cd7fe409696e33e5ed96141ee",
            "759a33b581794218b006b4cb805c8cbb",
            "d81482728d8c48efabe36602ade7909f",
            "b2d41b81e8ca4e40987cf6e4042bc338",
            "3efc1252c929410d9b67f0abd27ff7ee"
          ]
        },
        "id": "3vSEbJypDKGt",
        "outputId": "4ed95b10-91a0-443a-96ed-ed6c70610520"
      },
      "execution_count": null,
      "outputs": [
        {
          "output_type": "display_data",
          "data": {
            "text/plain": [
              "Map(center=[45.45158995513827, -75.66957774036722], controls=(WidgetControl(options=['position', 'transparent_…"
            ],
            "application/vnd.jupyter.widget-view+json": {
              "version_major": 2,
              "version_minor": 0,
              "model_id": "b911b4fe5d0448269871ce359e7b7145"
            }
          },
          "metadata": {
            "application/vnd.jupyter.widget-view+json": {
              "colab": {
                "custom_widget_manager": {
                  "url": "https://ssl.gstatic.com/colaboratory-static/widgets/colab-cdn-widget-manager/b3e629b1971e1542/manager.min.js"
                }
              }
            }
          }
        }
      ]
    },
    {
      "cell_type": "code",
      "source": [
        "Map.addLayer(min_water_poly, {},'Minimum Water Extent')\n",
        "Map"
      ],
      "metadata": {
        "colab": {
          "base_uri": "https://localhost:8080/",
          "height": 621,
          "referenced_widgets": [
            "b911b4fe5d0448269871ce359e7b7145",
            "1186d463d0a148ed9e72b6b9641b3fe7",
            "23618bd455604fc2b847bf815a42b7d8",
            "c0401dd8ce5e4aa8b2ac919cb1c9822a",
            "9399a21c84184a96b923994d1937d55e",
            "0532263a729d4b0fa1ea26cb79286469",
            "ba9f65decf8b4c6a8a53ac7104a43a4e",
            "00926a483dff49d5b54fbc25ed2374b3",
            "ec8bcd33ab3749959fd865b1f93a3fd6",
            "99e9b2a25ef340f79a0b7f80721332db",
            "0571b61d56484bf8968be64585015108",
            "9960062d6dd94e6ab373e74e7a8fda07",
            "9eff71b055854b42927444f92f53b56f",
            "d964c1d595ef49b28403163027baa608",
            "d81482728d8c48efabe36602ade7909f",
            "fa3d1cff4b414649bc6ad64b8cba37c1",
            "723c9985a7494ff2a1043c1adfecbee0",
            "4a1eafbd27804777b80f9a69067d50c3",
            "3c745804b7f542b1bbe236f26e6d36d7",
            "c90cb37f570b4abf8e4540e1d89ed25a",
            "f093476971d44fc490828abca30a752d",
            "5f616b72a4e54ce4ac369ebf02f0a3e2",
            "151c9c6ecf9e45d49f11d35e8a2c2aa0",
            "9978a02844794c20b23749b9b88ec4b0",
            "5e05519680a94d5c8dc7323466d81d7a",
            "50d6e64cd7fe409696e33e5ed96141ee",
            "759a33b581794218b006b4cb805c8cbb",
            "b2d41b81e8ca4e40987cf6e4042bc338",
            "3efc1252c929410d9b67f0abd27ff7ee"
          ]
        },
        "id": "MD-w5kLUNhK-",
        "outputId": "7cbebe28-3256-4057-d903-b3c96be84182"
      },
      "execution_count": null,
      "outputs": [
        {
          "output_type": "display_data",
          "data": {
            "text/plain": [
              "Map(center=[45.45158995513827, -75.66957774036722], controls=(WidgetControl(options=['position', 'transparent_…"
            ],
            "application/vnd.jupyter.widget-view+json": {
              "version_major": 2,
              "version_minor": 0,
              "model_id": "b911b4fe5d0448269871ce359e7b7145"
            }
          },
          "metadata": {
            "application/vnd.jupyter.widget-view+json": {
              "colab": {
                "custom_widget_manager": {
                  "url": "https://ssl.gstatic.com/colaboratory-static/widgets/colab-cdn-widget-manager/b3e629b1971e1542/manager.min.js"
                }
              }
            }
          }
        }
      ]
    },
    {
      "cell_type": "code",
      "source": [
        "Map.addLayer(SAR_WaterProbability, {'min':0, 'max':1,'palette': ['252525','00FFC5']},'SAR_ProbabilityRaster')\n",
        "Map"
      ],
      "metadata": {
        "colab": {
          "base_uri": "https://localhost:8080/",
          "height": 621,
          "referenced_widgets": [
            "b911b4fe5d0448269871ce359e7b7145",
            "1186d463d0a148ed9e72b6b9641b3fe7",
            "23618bd455604fc2b847bf815a42b7d8",
            "c0401dd8ce5e4aa8b2ac919cb1c9822a",
            "9399a21c84184a96b923994d1937d55e",
            "0532263a729d4b0fa1ea26cb79286469",
            "ba9f65decf8b4c6a8a53ac7104a43a4e",
            "00926a483dff49d5b54fbc25ed2374b3",
            "ec8bcd33ab3749959fd865b1f93a3fd6",
            "99e9b2a25ef340f79a0b7f80721332db",
            "0571b61d56484bf8968be64585015108",
            "9960062d6dd94e6ab373e74e7a8fda07",
            "9eff71b055854b42927444f92f53b56f",
            "d964c1d595ef49b28403163027baa608",
            "d81482728d8c48efabe36602ade7909f",
            "b2d41b81e8ca4e40987cf6e4042bc338",
            "fa3d1cff4b414649bc6ad64b8cba37c1",
            "723c9985a7494ff2a1043c1adfecbee0",
            "4a1eafbd27804777b80f9a69067d50c3",
            "3c745804b7f542b1bbe236f26e6d36d7",
            "c90cb37f570b4abf8e4540e1d89ed25a",
            "f093476971d44fc490828abca30a752d",
            "5f616b72a4e54ce4ac369ebf02f0a3e2",
            "151c9c6ecf9e45d49f11d35e8a2c2aa0",
            "9978a02844794c20b23749b9b88ec4b0",
            "5e05519680a94d5c8dc7323466d81d7a",
            "50d6e64cd7fe409696e33e5ed96141ee",
            "759a33b581794218b006b4cb805c8cbb",
            "3efc1252c929410d9b67f0abd27ff7ee"
          ]
        },
        "id": "UjWaFBrgNhn2",
        "outputId": "623b3ab1-46ae-4358-f53c-6ca18561ad14"
      },
      "execution_count": null,
      "outputs": [
        {
          "output_type": "display_data",
          "data": {
            "text/plain": [
              "Map(center=[45.45158995513827, -75.66957774036722], controls=(WidgetControl(options=['position', 'transparent_…"
            ],
            "application/vnd.jupyter.widget-view+json": {
              "version_major": 2,
              "version_minor": 0,
              "model_id": "b911b4fe5d0448269871ce359e7b7145"
            }
          },
          "metadata": {
            "application/vnd.jupyter.widget-view+json": {
              "colab": {
                "custom_widget_manager": {
                  "url": "https://ssl.gstatic.com/colaboratory-static/widgets/colab-cdn-widget-manager/b3e629b1971e1542/manager.min.js"
                }
              }
            }
          }
        }
      ]
    },
    {
      "cell_type": "code",
      "source": [
        "Map.addLayer(dw_water, {'min':0, 'max':1,'palette': ['252525','00FFC5']},'DW_ProbabilityRaster')\n",
        "Map"
      ],
      "metadata": {
        "colab": {
          "base_uri": "https://localhost:8080/",
          "height": 621,
          "referenced_widgets": [
            "b911b4fe5d0448269871ce359e7b7145",
            "1186d463d0a148ed9e72b6b9641b3fe7",
            "23618bd455604fc2b847bf815a42b7d8",
            "c0401dd8ce5e4aa8b2ac919cb1c9822a",
            "9399a21c84184a96b923994d1937d55e",
            "0532263a729d4b0fa1ea26cb79286469",
            "ba9f65decf8b4c6a8a53ac7104a43a4e",
            "00926a483dff49d5b54fbc25ed2374b3",
            "ec8bcd33ab3749959fd865b1f93a3fd6",
            "99e9b2a25ef340f79a0b7f80721332db",
            "0571b61d56484bf8968be64585015108",
            "9960062d6dd94e6ab373e74e7a8fda07",
            "9eff71b055854b42927444f92f53b56f",
            "d964c1d595ef49b28403163027baa608",
            "d81482728d8c48efabe36602ade7909f",
            "b2d41b81e8ca4e40987cf6e4042bc338",
            "3efc1252c929410d9b67f0abd27ff7ee",
            "fa3d1cff4b414649bc6ad64b8cba37c1",
            "723c9985a7494ff2a1043c1adfecbee0",
            "4a1eafbd27804777b80f9a69067d50c3",
            "3c745804b7f542b1bbe236f26e6d36d7",
            "c90cb37f570b4abf8e4540e1d89ed25a",
            "f093476971d44fc490828abca30a752d",
            "5f616b72a4e54ce4ac369ebf02f0a3e2",
            "151c9c6ecf9e45d49f11d35e8a2c2aa0",
            "9978a02844794c20b23749b9b88ec4b0",
            "5e05519680a94d5c8dc7323466d81d7a",
            "50d6e64cd7fe409696e33e5ed96141ee",
            "759a33b581794218b006b4cb805c8cbb"
          ]
        },
        "id": "_8VZT5JfNhz3",
        "outputId": "db005a62-e8e7-49cd-e9cb-8e0600d8f8f6"
      },
      "execution_count": null,
      "outputs": [
        {
          "output_type": "display_data",
          "data": {
            "text/plain": [
              "Map(center=[45.45158995513827, -75.66957774036722], controls=(WidgetControl(options=['position', 'transparent_…"
            ],
            "application/vnd.jupyter.widget-view+json": {
              "version_major": 2,
              "version_minor": 0,
              "model_id": "b911b4fe5d0448269871ce359e7b7145"
            }
          },
          "metadata": {
            "application/vnd.jupyter.widget-view+json": {
              "colab": {
                "custom_widget_manager": {
                  "url": "https://ssl.gstatic.com/colaboratory-static/widgets/colab-cdn-widget-manager/b3e629b1971e1542/manager.min.js"
                }
              }
            }
          }
        }
      ]
    },
    {
      "cell_type": "markdown",
      "source": [
        "### Export Results\n",
        "(Training Data, Probability Raster, Max/Min Water Polygons)"
      ],
      "metadata": {
        "id": "EhYNcbHID5P8"
      }
    },
    {
      "cell_type": "code",
      "source": [
        "# Name of the Hydro Reservoir\n",
        "hydro_reservoir_name = 'McKay'\n",
        "# Name of the folder you want to export to (a new folder will be created with this name if none exists)\n",
        "GDrive_FolderName = 'Demo'\n",
        "GEE_AssetDirectory = 'projects/ee-karloslao/assets/'\n",
        "\n",
        "TaskDescription_Probability = str(hydro_reservoir_name)+'_ProbailityMap'\n",
        "\n",
        "### Export training data as csv or shp\n",
        "#Export_TrainingCSV = ee.batch.Export.table.toDrive(collection=training_data, folder=GDrive_FolderName, description=str(hydro_reservoir_name)+'TraininigData', fileFormat='SHP')  # or fileFormat= 'SHP'\n",
        "#Export_TrainingCSV.start()\n",
        "\n",
        "### Export training data as GEE asset\n",
        "#Export_TrainingAsset = ee.batch.Export.table.toAsset(collection=training_data, description=str(hydro_reservoir_name)+'TraininigData', assetId=GEE_AssetDirectory+str(hydro_reservoir_name)+'_TrainingData')\n",
        "#Export_TrainingAsset.start()\n",
        "\n",
        "### Export the Sentinel-2 Probability Map (Multispectral)\n",
        "#ExportDW_ProbailityRaster = ee.batch.Export.image.toDrive(image=dw_water,region = aoi_buff.geometry(),folder=GDrive_FolderName, description= str(TaskDescription_Probability)+'Sentinel2', fileFormat='GeoTIFF',scale=10, maxPixels=1e13)\n",
        "#ExportDW_ProbailityRaster.start()\n",
        "\n"
      ],
      "metadata": {
        "id": "8sXcKRhX8_cC"
      },
      "execution_count": null,
      "outputs": []
    }
  ]
}