{
  "cells": [
    {
      "cell_type": "markdown",
      "metadata": {
        "id": "L5pu20JPbp1p"
      },
      "source": [
        "### Setting up the GEE Packages"
      ]
    },
    {
      "cell_type": "code",
      "execution_count": null,
      "metadata": {
        "colab": {
          "base_uri": "https://localhost:8080/",
          "height": 211
        },
        "id": "aFeNGSdOwu3T",
        "outputId": "ce793ade-557e-4aaf-d85e-a72262dc7bfc"
      },
      "outputs": [
        {
          "name": "stdout",
          "output_type": "stream",
          "text": [
            "geemap package not installed. Installing ...\n",
            "geetools package not installed. Installing ...\n",
            "To authorize access needed by Earth Engine, open the following URL in a web browser and follow the instructions. If the web browser does not start automatically, please manually browse the URL below.\n",
            "\n",
            "    https://code.earthengine.google.com/client-auth?scopes=https%3A//www.googleapis.com/auth/earthengine%20https%3A//www.googleapis.com/auth/devstorage.full_control&request_id=HlkRA7Lgy3kkb6D8DP-u-F2PwBqu5yEBcWZx8CBDXXQ&tc=5uYv7yAwhIrAOEIYQWvTkrqGAQ9GU5dzzJVDsDvOnnI&cc=XoC37n8QJtmsFFvCPPqDR8XWDZHVIugXBeLCv0C4DRs\n",
            "\n",
            "The authorization workflow will generate a code, which you should paste in the box below.\n",
            "Enter verification code: 4/1Adeu5BVe3unUIE_mew0Sz6BVHcHT0xG3e11ZJsPvKKttMb4UYEvYXIJ-b0E\n",
            "\n",
            "Successfully saved authorization token.\n"
          ]
        }
      ],
      "source": [
        "#pip install earthengine-api --upgrade\n",
        "\n",
        "import subprocess\n",
        "try:\n",
        "  import geemap\n",
        "except ImportError:\n",
        "  print('geemap package not installed. Installing ...')\n",
        "  subprocess.check_call([\"python\", '-m', 'pip', 'install', 'geemap'])\n",
        "  import geemap\n",
        "try:\n",
        "  import geetools\n",
        "except ImportError:\n",
        "  print('geetools package not installed. Installing ...')\n",
        "  subprocess.check_call([\"python\", '-m', 'pip', 'install', 'geetools'])\n",
        "  import geetools\n",
        "import ee\n",
        "try:\n",
        "  ee.Initialize()\n",
        "except Exception as e:\n",
        "  ee.Authenticate()\n",
        "  ee.Initialize()\n",
        "\n",
        "Map = geemap.Map()"
      ]
    },
    {
      "cell_type": "markdown",
      "metadata": {
        "id": "uoW3fLnqHak7"
      },
      "source": [
        "### ***Set Up Input parameters (AOI, Time Range, Number of Samples)\n"
      ]
    },
    {
      "cell_type": "code",
      "execution_count": null,
      "metadata": {
        "id": "086GdOOXHh4e"
      },
      "outputs": [],
      "source": [
        "# Specify area of interest (change path to the GEE asset); This input polygon should capture most areas of the reservoir\n",
        "GeoDAR_Polys = ee.FeatureCollection('projects/ee-climatechangehydrology1/assets/GeoDAR_Polygons')\n",
        "aoi = GeoDAR_Polys.filter(ee.Filter.eq('ID_v11', 1801))     # ID_v11 for ArnPrior is 1801\n",
        "\n",
        "buffer_size = 250\n",
        "\n",
        "# Create a buffer\n",
        "aoi_buff = (aoi.geometry()).buffer(buffer_size)\n",
        "aoi_buff = ee.Feature(aoi_buff)\n",
        "\n",
        "# Set up a function to clip the images within the aoi buffer zone\n",
        "def clip_to_aoi_buff(imagecollection):\n",
        "  return imagecollection.clip(aoi_buff)\n",
        "\n",
        "# **** A buffer is needed three major reasons:\n",
        "#1. Reduce the size of the image collection for intermediate processsing;\n",
        "#2. Controls the training samples to be within a specified distance;\n",
        "#3. Clipping the final outcomes for export\n",
        "\n",
        "# Number of training points\n",
        "numWaterPts = 250\n",
        "numLandPts = 250\n",
        "\n",
        "######  Specify the dates for your image collection ###########\n",
        "# This will be used for both the images and training data\n",
        "Yr2015 =  ee.Filter.date('2015-06-01', '2015-09-01')\n",
        "Yr2016 =  ee.Filter.date('2016-06-01', '2016-09-01')\n",
        "Yr2017 =  ee.Filter.date('2017-06-01', '2017-09-01')\n",
        "Yr2018 =  ee.Filter.date('2018-06-01', '2018-09-01')\n",
        "Yr2019 =  ee.Filter.date('2019-06-01', '2019-09-01')\n",
        "Yr2020 =  ee.Filter.date('2020-06-01', '2020-09-01')\n",
        "Yr2021 =  ee.Filter.date('2021-06-01', '2021-09-01')\n",
        "Yr2022 =  ee.Filter.date('2022-06-01', '2022-09-01')\n",
        "\n",
        "# Combine these dates to create a single time filter\n",
        "TimeFilter = ee.Filter.Or(Yr2015, Yr2016, Yr2017,Yr2018,Yr2019,Yr2020,Yr2021,Yr2022)\n",
        "\n",
        "# Use this to get a single year of data instead\n",
        "#TimeFilter = ee.Filter.Or(Yr2017)"
      ]
    },
    {
      "cell_type": "markdown",
      "metadata": {
        "id": "BEMD6KVYDwf4"
      },
      "source": [
        "###Specify where you want to export the data to"
      ]
    },
    {
      "cell_type": "code",
      "execution_count": null,
      "metadata": {
        "id": "PmN2AMcGD3Fy"
      },
      "outputs": [],
      "source": [
        "# What's the Name of the reservoir?\n",
        "res_name = 'ArnPrior'\n",
        "\n",
        "# Name of the folder you want to export to on Google Drive (a new one will be created if none exists)\n",
        "FolderName = 'HydroReservoir_Data'\n",
        "\n",
        "# Path of your GEE directory where you want to export the data as an Google Asset\n",
        "GEE_AssetDirectory = 'projects/ee-climatechangehydrology/assets/reservoirs_training/'"
      ]
    },
    {
      "cell_type": "markdown",
      "metadata": {
        "id": "pSXVhaUGHnXe"
      },
      "source": [
        "### Create a SAR Image Stack"
      ]
    },
    {
      "cell_type": "code",
      "execution_count": null,
      "metadata": {
        "id": "Xl6zQsF4HwVu"
      },
      "outputs": [],
      "source": [
        "s1_stack = ee.ImageCollection('COPERNICUS/S1_GRD')  \\\n",
        "    .filter(ee.Filter.listContains('transmitterReceiverPolarisation', 'VV')) \\\n",
        "    .filter(ee.Filter.listContains('transmitterReceiverPolarisation', 'VH')) \\\n",
        "    .filter(ee.Filter.eq('instrumentMode', 'IW'))  \\\n",
        "    .filter(TimeFilter)\\\n",
        "    .filterBounds(aoi)\\\n",
        "    .filterMetadata('orbitProperties_pass', 'equals', 'ASCENDING')\\\n",
        "    .map(clip_to_aoi_buff)\\\n",
        "\n",
        "# Change the image values to float type\n",
        "s1_stack = s1_stack.map(lambda image: image.toFloat())\n",
        "\n",
        "#Get Track Numbers of the Images (more tracks = increase complexity)\n",
        "track_num = s1_stack.aggregate_array('relativeOrbitNumber_start')\n",
        "#track_num.distinct()"
      ]
    },
    {
      "cell_type": "markdown",
      "metadata": {
        "id": "9vBpi_wQ8yAF"
      },
      "source": [
        "### Filter Image Stack with the Most Frequent Orbital Track (avoid using data from multiple tracks for training samples)"
      ]
    },
    {
      "cell_type": "code",
      "execution_count": null,
      "metadata": {
        "id": "pYsLVeNQ8xNh"
      },
      "outputs": [],
      "source": [
        "# Get the most common orbital track from the initial image stack (best track to use for training the model)\n",
        "best_track = track_num.reduce(ee.Reducer.mode())\n",
        "best_track = ee.Number(best_track)\n",
        "\n",
        "# Filter the image stack to include images only for this track\n",
        "s1_stack = s1_stack.filterMetadata('relativeOrbitNumber_start', 'equals', best_track)"
      ]
    },
    {
      "cell_type": "markdown",
      "metadata": {
        "id": "Ktig5bua8jny"
      },
      "source": [
        "###Save the Original Image Properties"
      ]
    },
    {
      "cell_type": "code",
      "execution_count": null,
      "metadata": {
        "id": "5zJTNYvL8pKd"
      },
      "outputs": [],
      "source": [
        "# Save all the image properties as a list so that the final images can have metadata appended.\n",
        "# This step is needed because metadata will be removed after the LEE filter is applied\n",
        "\n",
        "savedSystemIndexList = s1_stack.aggregate_array('system:index')\n",
        "savedOrbitPropertiesPassList = s1_stack.aggregate_array('orbitProperties_pass')\n",
        "savedRelativeOrbitStartList = s1_stack.aggregate_array('relativeOrbitNumber_start')\n",
        "savedTimeStartList = s1_stack.aggregate_array('system:time_start')"
      ]
    },
    {
      "cell_type": "markdown",
      "metadata": {
        "id": "Tysx2ZOKY54S"
      },
      "source": [
        "### Set Up the Refined Lee Filter and Apply the Filter to the \"VV\" and \"VH\" Bands using a 7x7 Kernel"
      ]
    },
    {
      "cell_type": "code",
      "execution_count": null,
      "metadata": {
        "id": "HH7JnRfNZB-J"
      },
      "outputs": [],
      "source": [
        "# @title Set Up a 7x7 Refined LEE Filter\n",
        "# Source: https://mygeoblog.com/2018/02/16/timeseries-with-sar/\n",
        "\n",
        "# Convert image from db to natural units:\n",
        "toNatural = lambda img: ee.Image(10.0).pow(img.select(0).divide(10.0))\n",
        "\n",
        "# After running the filter, convert the natural units back to dB\n",
        "toDB = lambda img: ee.Image(img).log10().multiply(10.0)\n",
        "\n",
        "def RefinedLee(img):\n",
        "  # img must be in natural units, i.e. not in dB!\n",
        "  # Set up a 7x7 kernel\n",
        "  myimg = toNatural(img)\n",
        "  weights7 = ee.List.repeat(ee.List.repeat(1,7),7)\n",
        "  kernel7 = ee.Kernel.fixed(7,7, weights7, 1, 1, False)\n",
        "  mean7 = myimg.reduceNeighborhood(ee.Reducer.mean(), kernel7)\n",
        "  variance7 = myimg.reduceNeighborhood(ee.Reducer.variance(), kernel7)\n",
        "\n",
        "  # Use a sample of the 7x7 windows inside a 15x15 windows to determine gradients and directions\n",
        "  sample_weights = ee.List([\n",
        "      [0,0,0,0,0,0,0,0,0,0,0,0,0,0,0],\n",
        "      [0,1,0,1,0,1,0,1,0,1,0,1,0,1,0],\n",
        "      [0,0,0,0,0,0,0,0,0,0,0,0,0,0,0],\n",
        "      [0,1,0,1,0,1,0,1,0,1,0,1,0,1,0],\n",
        "      [0,0,0,0,0,0,0,0,0,0,0,0,0,0,0],\n",
        "      [0,1,0,1,0,1,0,1,0,1,0,1,0,1,0],\n",
        "      [0,0,0,0,0,0,0,0,0,0,0,0,0,0,0],\n",
        "      [0,1,0,1,0,1,0,1,0,1,0,1,0,1,0],\n",
        "      [0,0,0,0,0,0,0,0,0,0,0,0,0,0,0],\n",
        "      [0,1,0,1,0,1,0,1,0,1,0,1,0,1,0],\n",
        "      [0,0,0,0,0,0,0,0,0,0,0,0,0,0,0],\n",
        "      [0,1,0,1,0,1,0,1,0,1,0,1,0,1,0],\n",
        "      [0,0,0,0,0,0,0,0,0,0,0,0,0,0,0],\n",
        "      [0,1,0,1,0,1,0,1,0,1,0,1,0,1,0],\n",
        "      [0,0,0,0,0,0,0,0,0,0,0,0,0,0,0]\n",
        "  ])\n",
        "  sample_kernel = ee.Kernel.fixed(15,15, sample_weights, 7,7, False)\n",
        "\n",
        "  # Calculate mean and variance for the sampled windows and store as 9 bands\n",
        "  sample_mean = mean7.neighborhoodToBands(sample_kernel)\n",
        "  sample_var = variance7.neighborhoodToBands(sample_kernel)\n",
        "\n",
        "  # Determine the 4 gradients for the sampled windows\n",
        "  gradients = sample_mean.select(1).subtract(sample_mean.select(7)).abs()\n",
        "  gradients = gradients.addBands(sample_mean.select(6).subtract(sample_mean.select(2)).abs())\n",
        "  gradients = gradients.addBands(sample_mean.select(3).subtract(sample_mean.select(5)).abs())\n",
        "  gradients = gradients.addBands(sample_mean.select(0).subtract(sample_mean.select(8)).abs())\n",
        "\n",
        "  # And find the maximum gradient amongst gradient bands\n",
        "  max_gradient = gradients.reduce(ee.Reducer.max())\n",
        "\n",
        "  # Create a mask for band pixels that are the maximum gradient\n",
        "  gradmask = gradients.eq(max_gradient)\n",
        "\n",
        "  # duplicate gradmask bands: each gradient represents 2 directions\n",
        "  gradmask = gradmask.addBands(gradmask)\n",
        "\n",
        "  # Determine the 8 directions\n",
        "  directions = sample_mean.select(1).subtract(sample_mean.select(4)).gt(sample_mean.select(4).subtract(sample_mean.select(7))).multiply(1)\n",
        "  directions = directions.addBands(sample_mean.select(6).subtract(sample_mean.select(4)).gt(sample_mean.select(4).subtract(sample_mean.select(2))).multiply(2))\n",
        "  directions = directions.addBands(sample_mean.select(3).subtract(sample_mean.select(4)).gt(sample_mean.select(4).subtract(sample_mean.select(5))).multiply(3))\n",
        "  directions = directions.addBands(sample_mean.select(0).subtract(sample_mean.select(4)).gt(sample_mean.select(4).subtract(sample_mean.select(8))).multiply(4))\n",
        "  # The next 4 are the not() of the previous 4\n",
        "  directions = directions.addBands(directions.select(0).Not().multiply(5))\n",
        "  directions = directions.addBands(directions.select(1).Not().multiply(6))\n",
        "  directions = directions.addBands(directions.select(2).Not().multiply(7))\n",
        "  directions = directions.addBands(directions.select(3).Not().multiply(8))\n",
        "\n",
        "  # Mask all values that are not 1-8\n",
        "  directions = directions.updateMask(gradmask)\n",
        "\n",
        "  # \"collapse\" the stack into a singe band image (due to masking, each pixel has just one value (1-8) in it's directional band, and is otherwise masked)\n",
        "  directions = directions.reduce(ee.Reducer.sum())\n",
        "  sample_stats = sample_var.divide(sample_mean.multiply(sample_mean))\n",
        "\n",
        "  # Calculate localNoiseVariance\n",
        "  sigmaV = sample_stats.toArray().arraySort().arraySlice(0,0,5).arrayReduce(ee.Reducer.mean(), [0])\n",
        "\n",
        "  # Set up the 15*15 kernels for directional statistics\n",
        "  rect_weights = ee.List.repeat(ee.List.repeat(0,15),7).cat(ee.List.repeat(ee.List.repeat(1,15),8))\n",
        "\n",
        "  diag_weights = ee.List([\n",
        "      [1,0,0,0,0,0,0,0,0,0,0,0,0,0,0],\n",
        "      [1,1,0,0,0,0,0,0,0,0,0,0,0,0,0],\n",
        "      [1,1,1,0,0,0,0,0,0,0,0,0,0,0,0],\n",
        "      [1,1,1,1,0,0,0,0,0,0,0,0,0,0,0],\n",
        "      [1,1,1,1,1,0,0,0,0,0,0,0,0,0,0],\n",
        "      [1,1,1,1,1,1,0,0,0,0,0,0,0,0,0],\n",
        "      [1,1,1,1,1,1,1,0,0,0,0,0,0,0,0],\n",
        "      [1,1,1,1,1,1,1,1,0,0,0,0,0,0,0],\n",
        "      [1,1,1,1,1,1,1,1,1,0,0,0,0,0,0],\n",
        "      [1,1,1,1,1,1,1,1,1,1,0,0,0,0,0],\n",
        "      [1,1,1,1,1,1,1,1,1,1,1,0,0,0,0],\n",
        "      [1,1,1,1,1,1,1,1,1,1,1,1,0,0,0],\n",
        "      [1,1,1,1,1,1,1,1,1,1,1,1,1,0,0],\n",
        "      [1,1,1,1,1,1,1,1,1,1,1,1,1,1,0],\n",
        "      [1,1,1,1,1,1,1,1,1,1,1,1,1,1,1]\n",
        "  ])\n",
        "\n",
        "  rect_kernel = ee.Kernel.fixed(15,15, rect_weights, 7, 7, False)\n",
        "  diag_kernel = ee.Kernel.fixed(15,15, diag_weights, 7, 7, False)\n",
        "\n",
        "  # Create stacks for mean and variance using the original kernels. Mask with relevant direction.\n",
        "  dir_mean = myimg.reduceNeighborhood(ee.Reducer.mean(), rect_kernel).updateMask(directions.eq(1))\n",
        "  dir_var = myimg.reduceNeighborhood(ee.Reducer.variance(), rect_kernel).updateMask(directions.eq(1))\n",
        "\n",
        "  dir_mean = dir_mean.addBands(myimg.reduceNeighborhood(ee.Reducer.mean(), diag_kernel).updateMask(directions.eq(2)))\n",
        "  dir_var = dir_var.addBands(myimg.reduceNeighborhood(ee.Reducer.variance(), diag_kernel).updateMask(directions.eq(2)))\n",
        "\n",
        "  # and add the bands for rotated kernels\n",
        "  for i in range(1, 8):\n",
        "    dir_mean = dir_mean.addBands(myimg.reduceNeighborhood(ee.Reducer.mean(), rect_kernel.rotate(i)).updateMask(directions.eq(2*i+1)))\n",
        "    dir_var = dir_var.addBands(myimg.reduceNeighborhood(ee.Reducer.variance(), rect_kernel.rotate(i)).updateMask(directions.eq(2*i+1)))\n",
        "    dir_mean = dir_mean.addBands(myimg.reduceNeighborhood(ee.Reducer.mean(), diag_kernel.rotate(i)).updateMask(directions.eq(2*i+2)))\n",
        "    dir_var = dir_var.addBands(myimg.reduceNeighborhood(ee.Reducer.variance(), diag_kernel.rotate(i)).updateMask(directions.eq(2*i+2)))\n",
        "\n",
        "  # \"collapse\" the stack into a single band image (due to masking, each pixel has just one value in it's directional band, and is otherwise masked)\n",
        "  dir_mean = dir_mean.reduce(ee.Reducer.sum())\n",
        "  dir_var = dir_var.reduce(ee.Reducer.sum())\n",
        "\n",
        "  # A finally generate the filtered value\n",
        "  varX = dir_var.subtract(dir_mean.multiply(dir_mean).multiply(sigmaV)).divide(sigmaV.add(1.0))\n",
        "  b = varX.divide(dir_var)\n",
        "  result = dir_mean.add(b.multiply(myimg.subtract(dir_mean)))\n",
        "  return ee.Image(toDB(result.arrayGet(0))).toFloat()"
      ]
    },
    {
      "cell_type": "code",
      "execution_count": null,
      "metadata": {
        "id": "2w_3ZMDbz-et"
      },
      "outputs": [],
      "source": [
        "# @title Apply the LEE Filter to VV and VH\n",
        "\n",
        "# The bands for VV and VH are both named 'sum' after the Lee filter is applied, and are renamed back to VV and VH afterwards\n",
        "s1_LeeVV = s1_stack.select('VV').map(RefinedLee).select(['sum'], ['VV'])\n",
        "s1_LeeVH = s1_stack.select('VH').map(RefinedLee).select(['sum'], ['VH'])\n",
        "\n",
        "# Save the angle band and a dummy collection with no bands\n",
        "s1_angle = s1_stack.select(['angle'])\n",
        "dummy = s1_stack.select([])\n",
        "\n",
        "# Creating the filter for the joins\n",
        "filter = ee.Filter.equals(leftField = 'system:index', rightField = 'system:index')\n",
        "\n",
        "# Create the simple join\n",
        "simpleJoin = ee.Join.inner();\n",
        "\n",
        "# Function used with the inner joins\n",
        "doFeaturePrimarySecondary = lambda feature: ee.Image.cat(feature.get('primary'), feature.get('secondary'))\n",
        "\n",
        "# Create the inner join for merging the VV and VH collections\n",
        "# Join the VV and VH into a single image collection\n",
        "innerJoin = ee.ImageCollection(simpleJoin.apply(s1_LeeVV, s1_LeeVH, filter))\n",
        "s1_VV_VH = innerJoin.map(doFeaturePrimarySecondary)\n",
        "\n",
        "# Create the inner join for merging the angle and dummy collections\n",
        "# Join angle and dummy into a single image collection\n",
        "innerJoin2 = ee.ImageCollection(simpleJoin.apply(s1_angle, dummy, filter))\n",
        "s1_angle_dummy = innerJoin2.map(doFeaturePrimarySecondary)\n",
        "\n",
        "# Create the inner join for merging the angle and dummy collections\n",
        "# Join VV_VH and angle_dummy into a single image collection\n",
        "innerJoin3 = ee.ImageCollection(simpleJoin.apply(s1_VV_VH, s1_angle_dummy, filter))\n",
        "s1_stack = innerJoin3.map(doFeaturePrimarySecondary)"
      ]
    },
    {
      "cell_type": "markdown",
      "metadata": {
        "id": "-Zfr5oSWQKlP"
      },
      "source": [
        "###Calculate Standard Deviation and GLCM using a 7x7 Kernel"
      ]
    },
    {
      "cell_type": "code",
      "execution_count": null,
      "metadata": {
        "id": "DPd4OpqQQLjg"
      },
      "outputs": [],
      "source": [
        "####### Standard Deviation #################\n",
        "def compute_VV_stdDev(image):\n",
        "    VV_stdDev = image.select('VV').reduceNeighborhood(reducer = ee.Reducer.stdDev(), kernel = ee.Kernel.square(7))\n",
        "    return image.addBands(VV_stdDev)\n",
        "s1_stack = s1_stack.map(compute_VV_stdDev)\n",
        "\n",
        "def compute_VH_stdDev(image):\n",
        "    VH_stdDev = image.select('VH').reduceNeighborhood(reducer = ee.Reducer.stdDev(), kernel = ee.Kernel.square(7))\n",
        "    return image.addBands(VH_stdDev)\n",
        "s1_stack = s1_stack.map(compute_VH_stdDev)\n",
        "\n",
        "####### GLCM bands #################\n",
        "glcm_bands = ['VH_asm', 'VH_contrast', 'VH_corr', 'VH_idm']\n",
        "def addGLCM(image):\n",
        "  img16 = ee.Image(image).toInt16()# Ensures variables are stored in 16-bit integers\n",
        "  glcm = img16.glcmTexture(size = 7).select(glcm_bands).toFloat()\n",
        "  return image.addBands(glcm)\n",
        "\n",
        "s1_stack = s1_stack.map(addGLCM)"
      ]
    },
    {
      "cell_type": "markdown",
      "metadata": {
        "id": "KT508EYHa6o3"
      },
      "source": [
        "### Add Properities Back to the Filtered Stack"
      ]
    },
    {
      "cell_type": "code",
      "execution_count": null,
      "metadata": {
        "id": "mjwqSWon46lD"
      },
      "outputs": [],
      "source": [
        "# Make a list of index values and turn the image collection into a list\n",
        "indexList = ee.List.sequence(0, s1_stack.size().subtract(1))\n",
        "listOfImages = s1_stack.toList(s1_stack.size())\n",
        "\n",
        "# Function for adding the properties back to the images\n",
        "def addProperties(index):\n",
        "  # Get the image at the index\n",
        "  image = ee.Image(listOfImages.get(index))\n",
        "  # Get the properties from the saved lists based on the index\n",
        "  systemIndex = savedSystemIndexList.get(index)\n",
        "  orbitPropertiesPass = savedOrbitPropertiesPassList.get(index)\n",
        "  relativeOrbitStart = savedRelativeOrbitStartList.get(index)\n",
        "  timeStart = savedTimeStartList.get(index)\n",
        "\n",
        "  # Change the properties to the format that is needed for the exported image name and add them back to the image\n",
        "  image = image.set('savedSystemIndex', ee.String(systemIndex).slice(0, 32))\n",
        "  image = image.set('savedOrbitPropertiesPass', ee.String(orbitPropertiesPass).slice(0, 3))\n",
        "  image = image.set('savedRelativeOrbitStart', (ee.Number(relativeOrbitStart).toByte()).format())\n",
        "  image = image.set('system:time_start', ee.Number(timeStart))\n",
        "  return image\n",
        "\n",
        "# Now all properties are returned to the images\n",
        "s1_stack_finalized = ee.ImageCollection(indexList.map(addProperties))\n",
        "\n",
        "# Check if all the bands are added to the stack\n",
        "#stack_finalized_json = s1_stack_finalized.getInfo()\n",
        "#stacked_img_json = getImageFromCollection(stack_finalized_json)\n",
        "#printImageBands(stacked_img_json)"
      ]
    },
    {
      "cell_type": "markdown",
      "metadata": {
        "id": "2KbDdJh0cvyp"
      },
      "source": [
        "### Mosaic Adjacent Images and Remove Duplicates"
      ]
    },
    {
      "cell_type": "code",
      "execution_count": null,
      "metadata": {
        "id": "nHTieFrEFNGf"
      },
      "outputs": [],
      "source": [
        "###### Mosaic adjacent images that were taken on the same day ###########\n",
        "# Source: https://gis.stackexchange.com/questions/369057/google-earth-engine-roi-area-falling-outside-partial-coverage-by-sentinel-1-tile/370455#370455\n",
        "\n",
        "def makeMosaics(image):\n",
        "  thisImage = ee.Image(image)\n",
        "  date = ee.Date(thisImage.get('system:time_start'))\n",
        "  orbitPropertiesPass = thisImage.get('savedOrbitPropertiesPass')\n",
        "  filtered_stack = s1_stack_finalized  \\\n",
        "    .filterDate(date, date.advance(1,'day'))  \\\n",
        "    .filter(ee.Filter.eq('savedOrbitPropertiesPass', orbitPropertiesPass))\n",
        "  # Mosaic the filtered images together and copy the metadata/image properties\n",
        "  return ee.Image(filtered_stack.mosaic().copyProperties(image, ['system:time_start', 'savedSystemIndex', 'savedOrbitPropertiesPass', 'savedRelativeOrbitStart']))\n",
        "\n",
        "s1_stack_mosaic = s1_stack_finalized.map(makeMosaics)\n",
        "\n",
        "###### Remove images that were acquired but processed at different dates (a Sentinel-1 problem)###########\n",
        "# Source: https://gis.stackexchange.com/questions/336257/filter-out-duplicate-sentinel-2-images-form-earth-engine-image-collection-by-dat\n",
        "\n",
        "# Generate a list from the mosaiced images\n",
        "compareDateListOriginal = s1_stack_mosaic.toList(s1_stack_mosaic.size())\n",
        "# Create an list with a dummy image with a dummy date\n",
        "startList = ee.List([ee.Image().set('system:time_start', ee.Date(0))])\n",
        "# Add the dummy list to the beginning of the mosaiced list\n",
        "compareDateList = startList.cat(compareDateListOriginal)\n",
        "\n",
        "# Function to find all the duplicates\n",
        "def findDuplicates(image):\n",
        "  # Index of the image in the list\n",
        "  index = compareDateList.indexOf(image)\n",
        "  # Get the previous image in the list\n",
        "  prevImage = ee.Image(compareDateList.get(index.subtract(1)))\n",
        "  # Compare date of the image with the date of the previous image in the list\n",
        "  date1 = ee.Date(image.get('system:time_start')).format('Y-M-d')\n",
        "  date2 = ee.Date(prevImage.get('system:time_start')).format('Y-M-d')\n",
        "  duplicateCheck = ee.Algorithms.IsEqual(date1, date2)\n",
        "  # String reprisenting if image is a duplicate or not\n",
        "  isDuplicate = ee.String('')\n",
        "  # Set the string\n",
        "  isDuplicate = ee.String(ee.Algorithms.If(condition = duplicateCheck, trueCase = 'duplicate', falseCase = 'no duplicate'))\n",
        "  return image.set('duplicate', isDuplicate)\n",
        "\n",
        "# Find all the duplicates and then filter to remove them\n",
        "s1_stack_check = s1_stack_mosaic.map(findDuplicates)\n",
        "s1_stack_no_duplicates = s1_stack_check.filter(ee.Filter.eq('duplicate', 'no duplicate'))\n",
        "\n",
        "# Get info on the number of images on the image stack after mosaic and removing duplicates:\n",
        "num_images = s1_stack_no_duplicates.size()\n",
        "#num_images"
      ]
    },
    {
      "cell_type": "markdown",
      "metadata": {
        "id": "lHLY83gteASu"
      },
      "source": [
        "### Create an \"ID\" field for the Image Stack"
      ]
    },
    {
      "cell_type": "code",
      "execution_count": null,
      "metadata": {
        "id": "VO1tFzorEmpn"
      },
      "outputs": [],
      "source": [
        "# Without the ID field, the script can run into issues\n",
        "# Make a list of id values the size of s1_stack (mosaic, no duplicates)\n",
        "list_of_ids = ee.List.sequence(0, s1_stack_no_duplicates.size().subtract(1))\n",
        "# Turn s1_stack into a list\n",
        "stack_list = s1_stack_no_duplicates.toList(s1_stack_no_duplicates.size())\n",
        "\n",
        "# Function for adding the index value as the property ID (unique id# = system index#)\n",
        "def addID(index):\n",
        "  image = ee.Image(stack_list.get(index))\n",
        "  indexNum = ee.Number(index)\n",
        "  image = image.set('ID', indexNum)\n",
        "  return image\n",
        "s1_stack = ee.ImageCollection(list_of_ids.map(addID))"
      ]
    },
    {
      "cell_type": "markdown",
      "metadata": {
        "id": "jQ8-FypPKz2j"
      },
      "source": [
        "###Get Permanent Water and Land Areas from Dynamic World"
      ]
    },
    {
      "cell_type": "code",
      "execution_count": null,
      "metadata": {
        "id": "FbmEcmP0Phd0"
      },
      "outputs": [],
      "source": [
        "#Import the water layer from \"Dynamic World\"\n",
        "#Create a composite with values of average probability for water\n",
        "\n",
        "dw_water = ee.ImageCollection('GOOGLE/DYNAMICWORLD/V1')\\\n",
        "    .filter(TimeFilter)\\\n",
        "    .filterBounds(aoi)\\\n",
        "    .map(clip_to_aoi_buff)\\\n",
        "    .mean()\\\n",
        "    .select('water').rename('class')\n",
        "\n",
        "# Set a <5% threshold to get permanent land areas, set land = 0\n",
        "perm_land = dw_water.lt(0.05)\n",
        "perm_land = perm_land.selfMask()\n",
        "perm_land = perm_land.where(perm_land.eq(1), 0)\n",
        "perm_land = perm_land.toInt()\n",
        "\n",
        "# Set a >50% threshold to get permanent water areas\n",
        "perm_water = dw_water.gt(0.50)\n",
        "perm_water = perm_water.selfMask()\n",
        "perm_water = perm_water.toInt()\n",
        "\n",
        "# Now label is renamed as \"class\", where water = 1 and land = 0"
      ]
    },
    {
      "cell_type": "markdown",
      "metadata": {
        "id": "JlNcYbCG9w_n"
      },
      "source": [
        "###Visualize the Area of Permanent Water and Permanent Land (optional)"
      ]
    },
    {
      "cell_type": "code",
      "execution_count": null,
      "metadata": {
        "colab": {
          "base_uri": "https://localhost:8080/",
          "height": 621,
          "referenced_widgets": [
            "f1c95aa2ffef4c77b554ff978b11026f",
            "baaafae6fa27427eafa13109afa1585a",
            "99525be093a3466a9644357664b5edbb",
            "51889b7a4a4a4f8b8e0f4ef736a192a9",
            "d900053abfef4419a287d4f5506d0eb0",
            "c8cf360144194fc5a8394540a5303c8a",
            "e6d7df87accf4122aa4b12d0ff95524d",
            "7ab9da446a5040febd833fd6fb0b505b",
            "ced3a7d2fe0340f8a4247322dd8140a5",
            "f4fcc0c9fe5c4c539590283403b2466c",
            "605ef3e805074bfe8c6111647f8f0ebf",
            "44be90e6348941fabd22903e60c13d38",
            "58425eb3fbf845ca8aff904e59d8eb61",
            "7ad4f98c6476455d910ff8e4ec259ded",
            "6b6368b5ec414012bde7e5711ec82f7a",
            "75820d78cbb94ff8ac113cd6645b2239",
            "5975ed24785249f1b4e5b0b984d8c6f7",
            "01e85e897323401fba6d32ddaf5d899d",
            "273babba8c9a44c48377864066cfe10d",
            "99f8ae79695e448e80293351f0848931",
            "cf6421832e6a4640b4df0b7020c29163",
            "d7cabf9e9a2e4650851e2d218c69e326",
            "89ee8a49275d4aa88ba50baa0143ff27",
            "6570e9e56a944dcd870b1300d69f2eb9",
            "96e6715d88094280b1cf6afe14abe832",
            "541883e556c247e9a5f8acfb1f73775f"
          ]
        },
        "id": "_uiv_vT59xVS",
        "outputId": "a488a497-d4bc-4941-b2db-7e26e0c7b309"
      },
      "outputs": [
        {
          "data": {
            "application/vnd.jupyter.widget-view+json": {
              "model_id": "f1c95aa2ffef4c77b554ff978b11026f",
              "version_major": 2,
              "version_minor": 0
            },
            "text/plain": [
              "Map(center=[45.403359039029, -76.38844014843087], controls=(WidgetControl(options=['position', 'transparent_bg…"
            ]
          },
          "metadata": {
            "application/vnd.jupyter.widget-view+json": {
              "colab": {
                "custom_widget_manager": {
                  "url": "https://ssl.gstatic.com/colaboratory-static/widgets/colab-cdn-widget-manager/b3e629b1971e1542/manager.min.js"
                }
              }
            }
          },
          "output_type": "display_data"
        }
      ],
      "source": [
        "Map.addLayer(dw_water, {'min':0, 'max':1, 'palette': ['f1eef6','bdc9e1','bdc9e1','0570b0']},'DW Water Probability Map')\n",
        "#Map.addLayer(perm_water, {'palette': ['2c7fb8']},'Permanent Water Region')\n",
        "#Map.addLayer(perm_land, {'palette': ['8c2d04']},'Permanent Land Region')\n",
        "Map.centerObject(aoi, zoom = 12)\n",
        "Map"
      ]
    },
    {
      "cell_type": "markdown",
      "metadata": {
        "id": "C-taof_a1c41"
      },
      "source": [
        "### Set Up Functions to Create Training Points and Obtain Training Data"
      ]
    },
    {
      "cell_type": "code",
      "execution_count": null,
      "metadata": {
        "id": "DVGoZQT703ia"
      },
      "outputs": [],
      "source": [
        "# Define the geometry for where samples are contained\n",
        "# Using the filtered s1_stack (1 orbital track), we want to limit the samples within the image extent instead of 'aoi_buff'\n",
        "\n",
        "def settingGeometry(f):\n",
        "  return f.setGeometry(ee.Geometry.Point([f.get('longitude'), f.get('latitude')]))\n",
        "\n",
        "# Obtain water samples\n",
        "def getWaterPoints(points, seedValue, imgGeo):\n",
        "  waterPts = perm_water.addBands(ee.Image.pixelLonLat())\\\n",
        "    .stratifiedSample(\n",
        "      numPoints = points,\n",
        "      classBand = 'class',\n",
        "      projection = 'EPSG:4326',\n",
        "      scale = 10,\n",
        "      region = imgGeo,\n",
        "      seed = seedValue\n",
        "    ).map(settingGeometry)\n",
        "  return waterPts\n",
        "\n",
        "# Obtain land samples\n",
        "def getLandPoints(points, seedValue, imgGeo):\n",
        "  landPts = perm_land.addBands(ee.Image.pixelLonLat())\\\n",
        "    .stratifiedSample(\n",
        "      numPoints = points,\n",
        "      classBand = 'class',\n",
        "      projection = 'EPSG:4326',\n",
        "      scale = 10,\n",
        "      region = imgGeo,\n",
        "      seed = seedValue\n",
        "    ).map(settingGeometry)\n",
        "  return landPts\n",
        "\n",
        "# Extract predictor data from the image stack using the water and land samples\n",
        "def extractTraining(image):\n",
        "  imageGeometry = aoi_buff.geometry()\n",
        "  ID = image.get('ID')\n",
        "  WaterPts = getWaterPoints(numWaterPts, ID, imageGeometry)\n",
        "  LandPts = getLandPoints(numLandPts, ID, imageGeometry)\n",
        "  PtsMerged = LandPts.merge(WaterPts)\n",
        "\n",
        "  # Add the \"Pass\" & \"Track\" columns to the point features\n",
        "  def addPass(feature):\n",
        "    return ee.Feature(feature.set('pass', image.get('savedOrbitPropertiesPass')))\n",
        "  PtsMergedWithPass = PtsMerged.map(addPass)\n",
        "  def addTrack(feature):\n",
        "    return ee.Feature(feature.set('track', image.get('savedRelativeOrbitStart')))\n",
        "  PtsMergedWithPassAndTrack = PtsMergedWithPass.map(addTrack)\n",
        "\n",
        "  # Train the points for the image\n",
        "  trainingData = image.select(bands).sampleRegions(collection = PtsMergedWithPassAndTrack, properties = [label, 'pass', 'track'], scale = 10, geometries = True, tileScale = 2)\n",
        "  return trainingData"
      ]
    },
    {
      "cell_type": "markdown",
      "metadata": {
        "id": "D46dwif5LWPi"
      },
      "source": [
        "### Initial Sampling and Get Training Data"
      ]
    },
    {
      "cell_type": "code",
      "execution_count": null,
      "metadata": {
        "id": "XxWztqen4_8M"
      },
      "outputs": [],
      "source": [
        "# Getting all the band names\n",
        "bands = s1_stack.first().bandNames()\n",
        "\n",
        "# The land cover info are stored in the 'class' column (1 = water, 0= land)\n",
        "label = 'class'\n",
        "training_data = s1_stack.map(extractTraining).flatten()"
      ]
    },
    {
      "cell_type": "markdown",
      "metadata": {
        "id": "sCtTJYc5gEmY"
      },
      "source": [
        "### Export Training Data and the Multispectral Probability Map (DW)"
      ]
    },
    {
      "cell_type": "code",
      "execution_count": null,
      "metadata": {
        "id": "8sXcKRhX8_cC"
      },
      "outputs": [],
      "source": [
        "### Export your training data as CSV or SHP\n",
        "Export_TrainingData_CSV = ee.batch.Export.table.toDrive(collection=training_data, folder=FolderName , description=str(res_name )+'_TraininigData', fileFormat='CSV')\n",
        "#Export_TrainingData_CSV.start()\n",
        "\n",
        "### Export your training data as an GEE asset\n",
        "Export_TrainingData_Asset = ee.batch.Export.table.toAsset(collection=training_data, description=str(res_name)+'TraininigData', assetId=GEE_AssetDirectory+str(res_name)+'_TrainingData')\n",
        "#Export_TrainingData_Asset.start()\n",
        "\n",
        "### Export your multispectral probability raster to Google Drive\n",
        "Export_ProbailityRaster_DW = ee.batch.Export.image.toDrive(image=dw_water,region = aoi_buff.geometry(),folder=FolderName, description= str(res_name)+'ProbabilityRaster_S2', fileFormat='GeoTIFF',scale=10, maxPixels=1e13)\n",
        "#Export_ProbailityRaster_DW.start()\n",
        "\n",
        "### Export your multispectral probability raster to Google Assets\n",
        "Export_AssetDirectory = 'projects/ee-climatechangehydrology/assets/reservoirs_s2_tiff/'\n",
        "Export_DW_GEE = ee.batch.Export.image.toAsset(image=dw_water, region = aoi_buff.geometry(),description=str(res_name)+'_s2', assetId=Export_AssetDirectory+str(res_name)+'_s2', scale=10, maxPixels=1e13)\n",
        "Export_DW_GEE.start()\n"
      ]
    }
  ],
  "metadata": {
    "colab": {
      "collapsed_sections": [
        "Tysx2ZOKY54S",
        "-Zfr5oSWQKlP",
        "KT508EYHa6o3",
        "2KbDdJh0cvyp",
        "JlNcYbCG9w_n",
        "C-taof_a1c41"
      ],
      "provenance": []
    },
    "kernelspec": {
      "display_name": "Python 3",
      "name": "python3"
    },
    "language_info": {
      "name": "python"
    },
    "widgets": {
      "application/vnd.jupyter.widget-state+json": {
        "01e85e897323401fba6d32ddaf5d899d": {
          "model_module": "@jupyter-widgets/controls",
          "model_module_version": "1.5.0",
          "model_name": "VBoxModel",
          "state": {
            "_dom_classes": [],
            "_model_module": "@jupyter-widgets/controls",
            "_model_module_version": "1.5.0",
            "_model_name": "VBoxModel",
            "_view_count": null,
            "_view_module": "@jupyter-widgets/controls",
            "_view_module_version": "1.5.0",
            "_view_name": "VBoxView",
            "box_style": "",
            "children": [
              "IPY_MODEL_cf6421832e6a4640b4df0b7020c29163"
            ],
            "layout": "IPY_MODEL_d7cabf9e9a2e4650851e2d218c69e326"
          }
        },
        "273babba8c9a44c48377864066cfe10d": {
          "model_module": "@jupyter-widgets/controls",
          "model_module_version": "1.5.0",
          "model_name": "ToggleButtonModel",
          "state": {
            "_dom_classes": [],
            "_model_module": "@jupyter-widgets/controls",
            "_model_module_version": "1.5.0",
            "_model_name": "ToggleButtonModel",
            "_view_count": null,
            "_view_module": "@jupyter-widgets/controls",
            "_view_module_version": "1.5.0",
            "_view_name": "ToggleButtonView",
            "button_style": "",
            "description": "",
            "description_tooltip": null,
            "disabled": false,
            "icon": "globe",
            "layout": "IPY_MODEL_89ee8a49275d4aa88ba50baa0143ff27",
            "style": "IPY_MODEL_6570e9e56a944dcd870b1300d69f2eb9",
            "tooltip": "Search location/data",
            "value": false
          }
        },
        "44be90e6348941fabd22903e60c13d38": {
          "model_module": "jupyter-leaflet",
          "model_module_version": "^0.17",
          "model_name": "LeafletTileLayerModel",
          "state": {
            "_model_module": "jupyter-leaflet",
            "_model_module_version": "^0.17",
            "_model_name": "LeafletTileLayerModel",
            "_view_count": null,
            "_view_module": "jupyter-leaflet",
            "_view_module_version": "^0.17",
            "_view_name": "LeafletTileLayerView",
            "attribution": "&copy; <a href=\"https://www.openstreetmap.org/copyright\">OpenStreetMap</a> contributors",
            "base": true,
            "bottom": true,
            "bounds": null,
            "detect_retina": false,
            "loading": false,
            "max_native_zoom": null,
            "max_zoom": 19,
            "min_native_zoom": null,
            "min_zoom": 1,
            "name": "OpenStreetMap.Mapnik",
            "no_wrap": false,
            "opacity": 1,
            "options": [
              "attribution",
              "bounds",
              "detect_retina",
              "max_native_zoom",
              "max_zoom",
              "min_native_zoom",
              "min_zoom",
              "no_wrap",
              "tile_size",
              "tms",
              "zoom_offset"
            ],
            "pane": "",
            "popup": null,
            "popup_max_height": null,
            "popup_max_width": 300,
            "popup_min_width": 50,
            "show_loading": false,
            "subitems": [],
            "tile_size": 256,
            "tms": false,
            "url": "https://tile.openstreetmap.org/{z}/{x}/{y}.png",
            "visible": true,
            "zoom_offset": 0
          }
        },
        "51889b7a4a4a4f8b8e0f4ef736a192a9": {
          "model_module": "jupyter-leaflet",
          "model_module_version": "^0.17",
          "model_name": "LeafletFullScreenControlModel",
          "state": {
            "_model_module": "jupyter-leaflet",
            "_model_module_version": "^0.17",
            "_model_name": "LeafletFullScreenControlModel",
            "_view_count": null,
            "_view_module": "jupyter-leaflet",
            "_view_module_version": "^0.17",
            "_view_name": "LeafletFullScreenControlView",
            "options": [
              "position"
            ],
            "position": "topleft"
          }
        },
        "541883e556c247e9a5f8acfb1f73775f": {
          "model_module": "@jupyter-widgets/controls",
          "model_module_version": "1.5.0",
          "model_name": "DescriptionStyleModel",
          "state": {
            "_model_module": "@jupyter-widgets/controls",
            "_model_module_version": "1.5.0",
            "_model_name": "DescriptionStyleModel",
            "_view_count": null,
            "_view_module": "@jupyter-widgets/base",
            "_view_module_version": "1.2.0",
            "_view_name": "StyleView",
            "description_width": ""
          }
        },
        "58425eb3fbf845ca8aff904e59d8eb61": {
          "model_module": "jupyter-leaflet",
          "model_module_version": "^0.17",
          "model_name": "LeafletTileLayerModel",
          "state": {
            "_model_module": "jupyter-leaflet",
            "_model_module_version": "^0.17",
            "_model_name": "LeafletTileLayerModel",
            "_view_count": null,
            "_view_module": "jupyter-leaflet",
            "_view_module_version": "^0.17",
            "_view_name": "LeafletTileLayerView",
            "attribution": "Google",
            "base": false,
            "bottom": true,
            "bounds": null,
            "detect_retina": false,
            "loading": false,
            "max_native_zoom": null,
            "max_zoom": 24,
            "min_native_zoom": null,
            "min_zoom": 0,
            "name": "Google Maps",
            "no_wrap": false,
            "opacity": 1,
            "options": [
              "attribution",
              "bounds",
              "detect_retina",
              "max_native_zoom",
              "max_zoom",
              "min_native_zoom",
              "min_zoom",
              "no_wrap",
              "tile_size",
              "tms",
              "zoom_offset"
            ],
            "pane": "",
            "popup": null,
            "popup_max_height": null,
            "popup_max_width": 300,
            "popup_min_width": 50,
            "show_loading": false,
            "subitems": [],
            "tile_size": 256,
            "tms": false,
            "url": "https://mt1.google.com/vt/lyrs=m&x={x}&y={y}&z={z}",
            "visible": true,
            "zoom_offset": 0
          }
        },
        "5975ed24785249f1b4e5b0b984d8c6f7": {
          "model_module": "@jupyter-widgets/controls",
          "model_module_version": "1.5.0",
          "model_name": "HBoxModel",
          "state": {
            "_dom_classes": [],
            "_model_module": "@jupyter-widgets/controls",
            "_model_module_version": "1.5.0",
            "_model_name": "HBoxModel",
            "_view_count": null,
            "_view_module": "@jupyter-widgets/controls",
            "_view_module_version": "1.5.0",
            "_view_name": "HBoxView",
            "box_style": "",
            "children": [
              "IPY_MODEL_273babba8c9a44c48377864066cfe10d"
            ],
            "layout": "IPY_MODEL_99f8ae79695e448e80293351f0848931"
          }
        },
        "605ef3e805074bfe8c6111647f8f0ebf": {
          "model_module": "jupyter-leaflet",
          "model_module_version": "^0.17",
          "model_name": "LeafletMapStyleModel",
          "state": {
            "_model_module": "jupyter-leaflet",
            "_model_module_version": "^0.17",
            "_model_name": "LeafletMapStyleModel",
            "_view_count": null,
            "_view_module": "@jupyter-widgets/base",
            "_view_module_version": "1.2.0",
            "_view_name": "StyleView",
            "cursor": "move"
          }
        },
        "6570e9e56a944dcd870b1300d69f2eb9": {
          "model_module": "@jupyter-widgets/controls",
          "model_module_version": "1.5.0",
          "model_name": "DescriptionStyleModel",
          "state": {
            "_model_module": "@jupyter-widgets/controls",
            "_model_module_version": "1.5.0",
            "_model_name": "DescriptionStyleModel",
            "_view_count": null,
            "_view_module": "@jupyter-widgets/base",
            "_view_module_version": "1.2.0",
            "_view_name": "StyleView",
            "description_width": ""
          }
        },
        "6b6368b5ec414012bde7e5711ec82f7a": {
          "model_module": "@jupyter-widgets/base",
          "model_module_version": "1.2.0",
          "model_name": "LayoutModel",
          "state": {
            "_model_module": "@jupyter-widgets/base",
            "_model_module_version": "1.2.0",
            "_model_name": "LayoutModel",
            "_view_count": null,
            "_view_module": "@jupyter-widgets/base",
            "_view_module_version": "1.2.0",
            "_view_name": "LayoutView",
            "align_content": null,
            "align_items": null,
            "align_self": null,
            "border": null,
            "bottom": null,
            "display": null,
            "flex": null,
            "flex_flow": null,
            "grid_area": null,
            "grid_auto_columns": null,
            "grid_auto_flow": null,
            "grid_auto_rows": null,
            "grid_column": null,
            "grid_gap": null,
            "grid_row": null,
            "grid_template_areas": null,
            "grid_template_columns": null,
            "grid_template_rows": null,
            "height": "600px",
            "justify_content": null,
            "justify_items": null,
            "left": null,
            "margin": null,
            "max_height": null,
            "max_width": null,
            "min_height": null,
            "min_width": null,
            "object_fit": null,
            "object_position": null,
            "order": null,
            "overflow": null,
            "overflow_x": null,
            "overflow_y": null,
            "padding": null,
            "right": null,
            "top": null,
            "visibility": null,
            "width": null
          }
        },
        "75820d78cbb94ff8ac113cd6645b2239": {
          "model_module": "jupyter-leaflet",
          "model_module_version": "^0.17",
          "model_name": "LeafletMapStyleModel",
          "state": {
            "_model_module": "jupyter-leaflet",
            "_model_module_version": "^0.17",
            "_model_name": "LeafletMapStyleModel",
            "_view_count": null,
            "_view_module": "@jupyter-widgets/base",
            "_view_module_version": "1.2.0",
            "_view_name": "StyleView",
            "cursor": "grab"
          }
        },
        "7ab9da446a5040febd833fd6fb0b505b": {
          "model_module": "jupyter-leaflet",
          "model_module_version": "^0.17",
          "model_name": "LeafletWidgetControlModel",
          "state": {
            "_model_module": "jupyter-leaflet",
            "_model_module_version": "^0.17",
            "_model_name": "LeafletWidgetControlModel",
            "_view_count": null,
            "_view_module": "jupyter-leaflet",
            "_view_module_version": "^0.17",
            "_view_name": "LeafletWidgetControlView",
            "max_height": null,
            "max_width": null,
            "min_height": null,
            "min_width": null,
            "options": [
              "position",
              "transparent_bg"
            ],
            "position": "topright",
            "transparent_bg": false,
            "widget": "IPY_MODEL_01e85e897323401fba6d32ddaf5d899d"
          }
        },
        "7ad4f98c6476455d910ff8e4ec259ded": {
          "model_module": "jupyter-leaflet",
          "model_module_version": "^0.17",
          "model_name": "LeafletTileLayerModel",
          "state": {
            "_model_module": "jupyter-leaflet",
            "_model_module_version": "^0.17",
            "_model_name": "LeafletTileLayerModel",
            "_view_count": null,
            "_view_module": "jupyter-leaflet",
            "_view_module_version": "^0.17",
            "_view_name": "LeafletTileLayerView",
            "attribution": "Google Earth Engine",
            "base": false,
            "bottom": true,
            "bounds": null,
            "detect_retina": false,
            "loading": false,
            "max_native_zoom": null,
            "max_zoom": 24,
            "min_native_zoom": null,
            "min_zoom": 0,
            "name": "DW Water Probability Map",
            "no_wrap": false,
            "opacity": 1,
            "options": [
              "attribution",
              "bounds",
              "detect_retina",
              "max_native_zoom",
              "max_zoom",
              "min_native_zoom",
              "min_zoom",
              "no_wrap",
              "tile_size",
              "tms",
              "zoom_offset"
            ],
            "pane": "",
            "popup": null,
            "popup_max_height": null,
            "popup_max_width": 300,
            "popup_min_width": 50,
            "show_loading": false,
            "subitems": [],
            "tile_size": 256,
            "tms": false,
            "url": "https://earthengine.googleapis.com/v1/projects/earthengine-legacy/maps/3e0a834d69036659f7caa96b4c37a09b-d8e3ec306460c9325014a1272fb9fff4/tiles/{z}/{x}/{y}",
            "visible": true,
            "zoom_offset": 0
          }
        },
        "89ee8a49275d4aa88ba50baa0143ff27": {
          "model_module": "@jupyter-widgets/base",
          "model_module_version": "1.2.0",
          "model_name": "LayoutModel",
          "state": {
            "_model_module": "@jupyter-widgets/base",
            "_model_module_version": "1.2.0",
            "_model_name": "LayoutModel",
            "_view_count": null,
            "_view_module": "@jupyter-widgets/base",
            "_view_module_version": "1.2.0",
            "_view_name": "LayoutView",
            "align_content": null,
            "align_items": null,
            "align_self": null,
            "border": null,
            "bottom": null,
            "display": null,
            "flex": null,
            "flex_flow": null,
            "grid_area": null,
            "grid_auto_columns": null,
            "grid_auto_flow": null,
            "grid_auto_rows": null,
            "grid_column": null,
            "grid_gap": null,
            "grid_row": null,
            "grid_template_areas": null,
            "grid_template_columns": null,
            "grid_template_rows": null,
            "height": "28px",
            "justify_content": null,
            "justify_items": null,
            "left": null,
            "margin": null,
            "max_height": null,
            "max_width": null,
            "min_height": null,
            "min_width": null,
            "object_fit": null,
            "object_position": null,
            "order": null,
            "overflow": null,
            "overflow_x": null,
            "overflow_y": null,
            "padding": "0px 0px 0px 4px",
            "right": null,
            "top": null,
            "visibility": null,
            "width": "28px"
          }
        },
        "96e6715d88094280b1cf6afe14abe832": {
          "model_module": "@jupyter-widgets/base",
          "model_module_version": "1.2.0",
          "model_name": "LayoutModel",
          "state": {
            "_model_module": "@jupyter-widgets/base",
            "_model_module_version": "1.2.0",
            "_model_name": "LayoutModel",
            "_view_count": null,
            "_view_module": "@jupyter-widgets/base",
            "_view_module_version": "1.2.0",
            "_view_name": "LayoutView",
            "align_content": null,
            "align_items": null,
            "align_self": null,
            "border": null,
            "bottom": null,
            "display": null,
            "flex": null,
            "flex_flow": null,
            "grid_area": null,
            "grid_auto_columns": null,
            "grid_auto_flow": null,
            "grid_auto_rows": null,
            "grid_column": null,
            "grid_gap": null,
            "grid_row": null,
            "grid_template_areas": null,
            "grid_template_columns": null,
            "grid_template_rows": null,
            "height": "28px",
            "justify_content": null,
            "justify_items": null,
            "left": null,
            "margin": null,
            "max_height": null,
            "max_width": null,
            "min_height": null,
            "min_width": null,
            "object_fit": null,
            "object_position": null,
            "order": null,
            "overflow": null,
            "overflow_x": null,
            "overflow_y": null,
            "padding": "0px 0px 0px 4px",
            "right": null,
            "top": null,
            "visibility": null,
            "width": "28px"
          }
        },
        "99525be093a3466a9644357664b5edbb": {
          "model_module": "jupyter-leaflet",
          "model_module_version": "^0.17",
          "model_name": "LeafletZoomControlModel",
          "state": {
            "_model_module": "jupyter-leaflet",
            "_model_module_version": "^0.17",
            "_model_name": "LeafletZoomControlModel",
            "_view_count": null,
            "_view_module": "jupyter-leaflet",
            "_view_module_version": "^0.17",
            "_view_name": "LeafletZoomControlView",
            "options": [
              "position",
              "zoom_in_text",
              "zoom_in_title",
              "zoom_out_text",
              "zoom_out_title"
            ],
            "position": "topleft",
            "zoom_in_text": "+",
            "zoom_in_title": "Zoom in",
            "zoom_out_text": "-",
            "zoom_out_title": "Zoom out"
          }
        },
        "99f8ae79695e448e80293351f0848931": {
          "model_module": "@jupyter-widgets/base",
          "model_module_version": "1.2.0",
          "model_name": "LayoutModel",
          "state": {
            "_model_module": "@jupyter-widgets/base",
            "_model_module_version": "1.2.0",
            "_model_name": "LayoutModel",
            "_view_count": null,
            "_view_module": "@jupyter-widgets/base",
            "_view_module_version": "1.2.0",
            "_view_name": "LayoutView",
            "align_content": null,
            "align_items": null,
            "align_self": null,
            "border": null,
            "bottom": null,
            "display": null,
            "flex": null,
            "flex_flow": null,
            "grid_area": null,
            "grid_auto_columns": null,
            "grid_auto_flow": null,
            "grid_auto_rows": null,
            "grid_column": null,
            "grid_gap": null,
            "grid_row": null,
            "grid_template_areas": null,
            "grid_template_columns": null,
            "grid_template_rows": null,
            "height": null,
            "justify_content": null,
            "justify_items": null,
            "left": null,
            "margin": null,
            "max_height": null,
            "max_width": null,
            "min_height": null,
            "min_width": null,
            "object_fit": null,
            "object_position": null,
            "order": null,
            "overflow": null,
            "overflow_x": null,
            "overflow_y": null,
            "padding": null,
            "right": null,
            "top": null,
            "visibility": null,
            "width": null
          }
        },
        "baaafae6fa27427eafa13109afa1585a": {
          "model_module": "jupyter-leaflet",
          "model_module_version": "^0.17",
          "model_name": "LeafletWidgetControlModel",
          "state": {
            "_model_module": "jupyter-leaflet",
            "_model_module_version": "^0.17",
            "_model_name": "LeafletWidgetControlModel",
            "_view_count": null,
            "_view_module": "jupyter-leaflet",
            "_view_module_version": "^0.17",
            "_view_name": "LeafletWidgetControlView",
            "max_height": null,
            "max_width": null,
            "min_height": null,
            "min_width": null,
            "options": [
              "position",
              "transparent_bg"
            ],
            "position": "topleft",
            "transparent_bg": false,
            "widget": "IPY_MODEL_5975ed24785249f1b4e5b0b984d8c6f7"
          }
        },
        "c8cf360144194fc5a8394540a5303c8a": {
          "model_module": "jupyter-leaflet",
          "model_module_version": "^0.17",
          "model_name": "LeafletScaleControlModel",
          "state": {
            "_model_module": "jupyter-leaflet",
            "_model_module_version": "^0.17",
            "_model_name": "LeafletScaleControlModel",
            "_view_count": null,
            "_view_module": "jupyter-leaflet",
            "_view_module_version": "^0.17",
            "_view_name": "LeafletScaleControlView",
            "imperial": true,
            "max_width": 100,
            "metric": true,
            "options": [
              "imperial",
              "max_width",
              "metric",
              "position",
              "update_when_idle"
            ],
            "position": "bottomleft",
            "update_when_idle": false
          }
        },
        "ced3a7d2fe0340f8a4247322dd8140a5": {
          "model_module": "jupyter-leaflet",
          "model_module_version": "^0.17",
          "model_name": "LeafletAttributionControlModel",
          "state": {
            "_model_module": "jupyter-leaflet",
            "_model_module_version": "^0.17",
            "_model_name": "LeafletAttributionControlModel",
            "_view_count": null,
            "_view_module": "jupyter-leaflet",
            "_view_module_version": "^0.17",
            "_view_name": "LeafletAttributionControlView",
            "options": [
              "position",
              "prefix"
            ],
            "position": "bottomright",
            "prefix": "ipyleaflet"
          }
        },
        "cf6421832e6a4640b4df0b7020c29163": {
          "model_module": "@jupyter-widgets/controls",
          "model_module_version": "1.5.0",
          "model_name": "ToggleButtonModel",
          "state": {
            "_dom_classes": [],
            "_model_module": "@jupyter-widgets/controls",
            "_model_module_version": "1.5.0",
            "_model_name": "ToggleButtonModel",
            "_view_count": null,
            "_view_module": "@jupyter-widgets/controls",
            "_view_module_version": "1.5.0",
            "_view_name": "ToggleButtonView",
            "button_style": "",
            "description": "",
            "description_tooltip": null,
            "disabled": false,
            "icon": "wrench",
            "layout": "IPY_MODEL_96e6715d88094280b1cf6afe14abe832",
            "style": "IPY_MODEL_541883e556c247e9a5f8acfb1f73775f",
            "tooltip": "Toolbar",
            "value": false
          }
        },
        "d7cabf9e9a2e4650851e2d218c69e326": {
          "model_module": "@jupyter-widgets/base",
          "model_module_version": "1.2.0",
          "model_name": "LayoutModel",
          "state": {
            "_model_module": "@jupyter-widgets/base",
            "_model_module_version": "1.2.0",
            "_model_name": "LayoutModel",
            "_view_count": null,
            "_view_module": "@jupyter-widgets/base",
            "_view_module_version": "1.2.0",
            "_view_name": "LayoutView",
            "align_content": null,
            "align_items": null,
            "align_self": null,
            "border": null,
            "bottom": null,
            "display": null,
            "flex": null,
            "flex_flow": null,
            "grid_area": null,
            "grid_auto_columns": null,
            "grid_auto_flow": null,
            "grid_auto_rows": null,
            "grid_column": null,
            "grid_gap": null,
            "grid_row": null,
            "grid_template_areas": null,
            "grid_template_columns": null,
            "grid_template_rows": null,
            "height": null,
            "justify_content": null,
            "justify_items": null,
            "left": null,
            "margin": null,
            "max_height": null,
            "max_width": null,
            "min_height": null,
            "min_width": null,
            "object_fit": null,
            "object_position": null,
            "order": null,
            "overflow": null,
            "overflow_x": null,
            "overflow_y": null,
            "padding": null,
            "right": null,
            "top": null,
            "visibility": null,
            "width": null
          }
        },
        "d900053abfef4419a287d4f5506d0eb0": {
          "model_module": "jupyter-leaflet",
          "model_module_version": "^0.17",
          "model_name": "LeafletDrawControlModel",
          "state": {
            "_model_module": "jupyter-leaflet",
            "_model_module_version": "^0.17",
            "_model_name": "LeafletDrawControlModel",
            "_view_count": null,
            "_view_module": "jupyter-leaflet",
            "_view_module_version": "^0.17",
            "_view_name": "LeafletDrawControlView",
            "circle": {},
            "circlemarker": {},
            "data": [],
            "edit": true,
            "marker": {
              "shapeOptions": {
                "color": "#3388ff"
              }
            },
            "options": [
              "position"
            ],
            "polygon": {
              "shapeOptions": {}
            },
            "polyline": {
              "shapeOptions": {}
            },
            "position": "topleft",
            "rectangle": {
              "shapeOptions": {
                "color": "#3388ff"
              }
            },
            "remove": true
          }
        },
        "e6d7df87accf4122aa4b12d0ff95524d": {
          "model_module": "jupyter-leaflet",
          "model_module_version": "^0.17",
          "model_name": "LeafletMeasureControlModel",
          "state": {
            "_custom_units": {},
            "_model_module": "jupyter-leaflet",
            "_model_module_version": "^0.17",
            "_model_name": "LeafletMeasureControlModel",
            "_view_count": null,
            "_view_module": "jupyter-leaflet",
            "_view_module_version": "^0.17",
            "_view_name": "LeafletMeasureControlView",
            "active_color": "orange",
            "capture_z_index": 10000,
            "completed_color": "#C8F2BE",
            "options": [
              "active_color",
              "capture_z_index",
              "completed_color",
              "popup_options",
              "position",
              "primary_area_unit",
              "primary_length_unit",
              "secondary_area_unit",
              "secondary_length_unit"
            ],
            "popup_options": {
              "autoPanPadding": [
                10,
                10
              ],
              "className": "leaflet-measure-resultpopup"
            },
            "position": "bottomleft",
            "primary_area_unit": "acres",
            "primary_length_unit": "kilometers",
            "secondary_area_unit": null,
            "secondary_length_unit": null
          }
        },
        "f1c95aa2ffef4c77b554ff978b11026f": {
          "model_module": "jupyter-leaflet",
          "model_module_version": "^0.17",
          "model_name": "LeafletMapModel",
          "state": {
            "_dom_classes": [],
            "_model_module": "jupyter-leaflet",
            "_model_module_version": "^0.17",
            "_model_name": "LeafletMapModel",
            "_view_count": null,
            "_view_module": "jupyter-leaflet",
            "_view_module_version": "^0.17",
            "_view_name": "LeafletMapView",
            "bottom": 3004514,
            "bounce_at_zoom_limits": true,
            "box_zoom": true,
            "center": [
              45.404536709690646,
              -76.39660835266115
            ],
            "close_popup_on_click": true,
            "controls": [
              "IPY_MODEL_baaafae6fa27427eafa13109afa1585a",
              "IPY_MODEL_99525be093a3466a9644357664b5edbb",
              "IPY_MODEL_51889b7a4a4a4f8b8e0f4ef736a192a9",
              "IPY_MODEL_d900053abfef4419a287d4f5506d0eb0",
              "IPY_MODEL_c8cf360144194fc5a8394540a5303c8a",
              "IPY_MODEL_e6d7df87accf4122aa4b12d0ff95524d",
              "IPY_MODEL_7ab9da446a5040febd833fd6fb0b505b",
              "IPY_MODEL_ced3a7d2fe0340f8a4247322dd8140a5"
            ],
            "crs": {
              "custom": false,
              "name": "EPSG3857"
            },
            "default_style": "IPY_MODEL_f4fcc0c9fe5c4c539590283403b2466c",
            "double_click_zoom": true,
            "dragging": true,
            "dragging_style": "IPY_MODEL_605ef3e805074bfe8c6111647f8f0ebf",
            "east": -76.35811328887941,
            "fullscreen": false,
            "inertia": true,
            "inertia_deceleration": 3000,
            "inertia_max_speed": 1500,
            "interpolation": "bilinear",
            "keyboard": true,
            "keyboard_pan_offset": 80,
            "keyboard_zoom_offset": 1,
            "layers": [
              "IPY_MODEL_44be90e6348941fabd22903e60c13d38",
              "IPY_MODEL_58425eb3fbf845ca8aff904e59d8eb61",
              "IPY_MODEL_7ad4f98c6476455d910ff8e4ec259ded"
            ],
            "layout": "IPY_MODEL_6b6368b5ec414012bde7e5711ec82f7a",
            "left": 2413237,
            "max_zoom": 24,
            "min_zoom": null,
            "modisdate": "2023-08-23",
            "north": 45.41357520263221,
            "options": [
              "bounce_at_zoom_limits",
              "box_zoom",
              "center",
              "close_popup_on_click",
              "double_click_zoom",
              "dragging",
              "fullscreen",
              "inertia",
              "inertia_deceleration",
              "inertia_max_speed",
              "interpolation",
              "keyboard",
              "keyboard_pan_offset",
              "keyboard_zoom_offset",
              "max_zoom",
              "min_zoom",
              "prefer_canvas",
              "scroll_wheel_zoom",
              "tap",
              "tap_tolerance",
              "touch_zoom",
              "world_copy_jump",
              "zoom",
              "zoom_animation_threshold",
              "zoom_delta",
              "zoom_snap"
            ],
            "panes": {},
            "prefer_canvas": false,
            "right": 2415031,
            "scroll_wheel_zoom": true,
            "south": 45.39549677040444,
            "style": "IPY_MODEL_f4fcc0c9fe5c4c539590283403b2466c",
            "tap": true,
            "tap_tolerance": 15,
            "top": 3003914,
            "touch_zoom": true,
            "west": -76.43510341644287,
            "window_url": "https://oqtz2mzzgp-496ff2e9c6d22116-0-colab.googleusercontent.com/outputframe.html?vrz=colab-20230823-060135-RC00_559378898",
            "world_copy_jump": false,
            "zoom": 15,
            "zoom_animation_threshold": 4,
            "zoom_delta": 1,
            "zoom_snap": 1
          }
        },
        "f4fcc0c9fe5c4c539590283403b2466c": {
          "model_module": "jupyter-leaflet",
          "model_module_version": "^0.17",
          "model_name": "LeafletMapStyleModel",
          "state": {
            "_model_module": "jupyter-leaflet",
            "_model_module_version": "^0.17",
            "_model_name": "LeafletMapStyleModel",
            "_view_count": null,
            "_view_module": "@jupyter-widgets/base",
            "_view_module_version": "1.2.0",
            "_view_name": "StyleView",
            "cursor": "grab"
          }
        }
      }
    }
  },
  "nbformat": 4,
  "nbformat_minor": 0
}
