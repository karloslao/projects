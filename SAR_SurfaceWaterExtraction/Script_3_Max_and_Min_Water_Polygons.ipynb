{
  "cells": [
    {
      "cell_type": "markdown",
      "metadata": {
        "id": "L5pu20JPbp1p"
      },
      "source": [
        "### Setting up the GEE Packages"
      ]
    },
    {
      "cell_type": "code",
      "execution_count": null,
      "metadata": {
        "id": "aFeNGSdOwu3T",
        "colab": {
          "base_uri": "https://localhost:8080/",
          "height": 193
        },
        "outputId": "4edac147-5272-4605-a533-f5d20207ff42"
      },
      "outputs": [
        {
          "output_type": "stream",
          "name": "stdout",
          "text": [
            "geemap package not installed. Installing ...\n",
            "To authorize access needed by Earth Engine, open the following URL in a web browser and follow the instructions. If the web browser does not start automatically, please manually browse the URL below.\n",
            "\n",
            "    https://code.earthengine.google.com/client-auth?scopes=https%3A//www.googleapis.com/auth/earthengine%20https%3A//www.googleapis.com/auth/devstorage.full_control&request_id=56JIc7Wq0PW7gwM3vxuoN92WmWLhVt1YSUVN6pL4PJU&tc=jxxA346Iuze-gx5T-4MLoNlc3P9j1pDMLNm7NUCT9HQ&cc=qCLRUVyeurwpvrbVp4zCLql6r47JM5sG0XepJbFCIWs\n",
            "\n",
            "The authorization workflow will generate a code, which you should paste in the box below.\n",
            "Enter verification code: 4/1Adeu5BVAQKpC52ntWEJjF5G-7k0M8pnpjQ4Dhkxa6jf-SrQ7x9SVGuN15wA\n",
            "\n",
            "Successfully saved authorization token.\n"
          ]
        }
      ],
      "source": [
        "#pip install earthengine-api --upgrade\n",
        "\n",
        "import subprocess\n",
        "try:\n",
        "  import geemap\n",
        "except ImportError:\n",
        "  print('geemap package not installed. Installing ...')\n",
        "  subprocess.check_call([\"python\", '-m', 'pip', 'install', 'geemap'])\n",
        "  import geemap\n",
        "import ee\n",
        "try:\n",
        "  ee.Initialize()\n",
        "except Exception as e:\n",
        "  ee.Authenticate()\n",
        "  ee.Initialize()\n",
        "\n",
        "Map = geemap.Map()"
      ]
    },
    {
      "cell_type": "markdown",
      "source": [
        "###Import Your SAR Probability Raster (produced from Script 2)"
      ],
      "metadata": {
        "id": "NWW11ClHJ-ni"
      }
    },
    {
      "cell_type": "code",
      "source": [
        "#### Change these ##########\n",
        "res_name = 'ArnPrior'\n",
        "GEE_Asset_Directory = 'projects/ee-climatechangehydrology/assets/reservoirs_s1c_tiff/'\n",
        "############################\n",
        "\n",
        "SAR_WaterProbability =ee.Image(str(GEE_Asset_Directory)+str(res_name)+'_s1c')\n",
        "#SAR_WaterProbability =ee.Image('projects/ee-karloslao/assets/SAR_RawProbabilityMap')"
      ],
      "metadata": {
        "id": "_niMwpZtKJrE"
      },
      "execution_count": null,
      "outputs": []
    },
    {
      "cell_type": "markdown",
      "source": [
        "### Create a Histogram to Get Data Disbribution of the Image\n",
        "\n",
        "\n"
      ],
      "metadata": {
        "id": "H2ZAlu799XTy"
      }
    },
    {
      "cell_type": "code",
      "source": [
        "import numpy as np\n",
        "# Do a natural breaks classification with three classes (non-water,seasonal water, permanent water)\n",
        "histogram = SAR_WaterProbability.reduceRegion(reducer=ee.Reducer.histogram(),geometry=SAR_WaterProbability.geometry(),scale=10)\n",
        "\n",
        "# Extract the histogram values\n",
        "histogram_values = histogram.get('classification')  #Change the band name if needed\n",
        "# Convert histogram values to a list\n",
        "histogram_dict = ee.Dictionary(histogram_values)\n",
        "#Extract the \"buketMeans\" from the dictionary\n",
        "means_arrays = histogram_dict.get('bucketMeans')\n",
        "#Convert the array into a python list and then a numpy array\n",
        "np_array = np.array(means_arrays.getInfo())\n",
        "\n",
        "#Get the break values for the 3 classes\n",
        "values_array = np.histogram(np_array, bins=3)[1]\n",
        "values_array"
      ],
      "metadata": {
        "id": "auqNAb4o9VFN",
        "colab": {
          "base_uri": "https://localhost:8080/"
        },
        "outputId": "900fe1da-e6ce-49ff-e998-c00586b3945c"
      },
      "execution_count": null,
      "outputs": [
        {
          "output_type": "execute_result",
          "data": {
            "text/plain": [
              "array([0.00148595, 0.33320183, 0.66491771, 0.99663359])"
            ]
          },
          "metadata": {},
          "execution_count": 3
        }
      ]
    },
    {
      "cell_type": "markdown",
      "source": [
        "### Show Histogram"
      ],
      "metadata": {
        "id": "HQlNvAiHfVjB"
      }
    },
    {
      "cell_type": "code",
      "source": [
        "import matplotlib.pyplot as plt\n",
        "\n",
        "# Convert histogram values to a Python list\n",
        "histogram_list = histogram_values.getInfo()\n",
        "\n",
        "# Extract the bucket boundaries and counts\n",
        "bucket_boundaries = histogram_list['bucketMeans']\n",
        "bucket_counts = histogram_list['histogram']\n",
        "\n",
        "# Plot the histogram\n",
        "plt.bar(bucket_boundaries, bucket_counts, width=np.diff(bucket_boundaries)[0])\n",
        "plt.title('Data Distribution of the Probability Raster')\n",
        "plt.xlabel('Pixel Value')\n",
        "plt.ylabel('Frequency')\n",
        "plt.show()"
      ],
      "metadata": {
        "colab": {
          "base_uri": "https://localhost:8080/",
          "height": 472
        },
        "id": "gjXzFv3WT5uv",
        "outputId": "fa35d828-7a74-4a2c-ec13-e2dbcaf982b7"
      },
      "execution_count": null,
      "outputs": [
        {
          "output_type": "display_data",
          "data": {
            "text/plain": [
              "<Figure size 640x480 with 1 Axes>"
            ],
            "image/png": "[encoded data removed]"
          },
          "metadata": {}
        }
      ]
    },
    {
      "cell_type": "markdown",
      "source": [
        "### Get Max and Min Water Polygons by a 3-class Natural Breaks Classification (maybe set hard breaks Land 0.1, Shallow 0.1-0.6, Water >0.6)"
      ],
      "metadata": {
        "id": "qhY_dKzJqQQJ"
      }
    },
    {
      "cell_type": "code",
      "source": [
        "# Reclassify the probability map with the break values\n",
        "# Non-water = <=array[1]\n",
        "# seasonal water >array[1] but <=array [2]\n",
        "# Permanent water > array [2] but <=array[3]\n",
        "\n",
        "max_water = SAR_WaterProbability.gt(values_array[1]).selfMask()\n",
        "min_water = SAR_WaterProbability.gt(values_array[2]).selfMask()\n",
        "\n",
        "#Convert the images to polygons (raster -> vectors)\n",
        "max_water_poly = max_water.reduceToVectors(geometryType='polygon', geometry = max_water.geometry(),scale=10, eightConnected=False, labelProperty='classification',bestEffort=True)\n",
        "min_water_poly = min_water.reduceToVectors(geometryType='polygon', geometry = min_water.geometry(),scale=10, eightConnected=False, labelProperty='classification',bestEffort=True)"
      ],
      "metadata": {
        "id": "-hga6HCrep8w"
      },
      "execution_count": null,
      "outputs": []
    },
    {
      "cell_type": "markdown",
      "source": [
        "### Quick Visualization (only run this if absolutely necessary)"
      ],
      "metadata": {
        "id": "mcEpU9eOtf19"
      }
    },
    {
      "cell_type": "code",
      "source": [
        "# Calling the map function will consumes a lot of memory to run the previously submitted operations on GEE's server\n",
        "\n",
        "#Map.addLayer(max_water_poly, {},'max_water_poly')\n",
        "#Map.addLayer(min_water_poly, {},'min_water_poly')\n",
        "#Map.centerObject(SAR_WaterProbability, zoom = 13)\n",
        "#Map"
      ],
      "metadata": {
        "id": "T2wSr69FCkPT"
      },
      "execution_count": null,
      "outputs": []
    },
    {
      "cell_type": "code",
      "source": [
        "## Future works:\n",
        "## Get the largest polygon (remove non-reservoir water bodies)\n",
        "## Get the name of the reservoir from GRes points (spatial join)"
      ],
      "metadata": {
        "id": "3MsoNHEQMjrN"
      },
      "execution_count": null,
      "outputs": []
    },
    {
      "cell_type": "markdown",
      "metadata": {
        "id": "sCtTJYc5gEmY"
      },
      "source": [
        "### Export the Polygons to Google Drive"
      ]
    },
    {
      "cell_type": "code",
      "execution_count": null,
      "metadata": {
        "id": "8sXcKRhX8_cC"
      },
      "outputs": [],
      "source": [
        "# What's the Name of the reservoir?\n",
        "res_name = 'ArnPrior'\n",
        "\n",
        "# Name of the folder you want to export to on Google Drive (a new one will be created if none exists)\n",
        "FolderName = 'Min_Max_WaterPolygons'\n",
        "\n",
        "### Export the Max Water Polygon (as shapefiles)\n",
        "Export_MaxWater_Polys = ee.batch.Export.table.toDrive(collection=max_water_poly, folder=FolderName , description=str(res_name )+'_Max', fileFormat='SHP')\n",
        "#Export_MaxWater_Polys.start()\n",
        "\n",
        "### Export the Min Water Polygon (as shapefiles)\n",
        "Export_MinWater_Polys = ee.batch.Export.table.toDrive(collection=min_water_poly, folder=FolderName , description=str(res_name )+'_Min', fileFormat='SHP')\n",
        "#Export_MinWater_Polys.start()"
      ]
    }
  ],
  "metadata": {
    "colab": {
      "provenance": []
    },
    "kernelspec": {
      "display_name": "Python 3",
      "name": "python3"
    },
    "language_info": {
      "name": "python"
    }
  },
  "nbformat": 4,
  "nbformat_minor": 0
}